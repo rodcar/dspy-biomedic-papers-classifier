{
 "cells": [
  {
   "cell_type": "markdown",
   "id": "d82bd245",
   "metadata": {},
   "source": [
    "<div align=\"center\">\n",
    "(Failed attemp)\n",
    "\n",
    "# Biomedical Papers Classification using DSPy \n",
    "#### Build and optimize a LLM-based classifier using DSPy with MIPROv2 optimization and MLflow tracking.\n",
    "\n",
    "---\n",
    "\n",
    "### 👨‍💻 Author\n",
    "\n",
    "**Ivan Yang Rodriguez Carranza**\n",
    "\n",
    "[![Email](https://img.shields.io/badge/Email-D14836?style=for-the-badge&logo=gmail&logoColor=white)](mailto:ivanrodcar@outlook.com)\n",
    "[![LinkedIn](https://img.shields.io/badge/LinkedIn-0077B5?style=for-the-badge&logo=linkedin&logoColor=white)](https://www.linkedin.com/in/irodcar)\n",
    "[![GitHub](https://img.shields.io/badge/GitHub-181717?style=for-the-badge&logo=github&logoColor=white)](https://github.com/rodcar)\n",
    "\n",
    "</div>\n",
    "\n",
    "---\n"
   ]
  },
  {
   "cell_type": "markdown",
   "id": "993ee860",
   "metadata": {},
   "source": [
    "## 📋 Table of Contents\n",
    "\n",
    "- [🔧 Setup](#1-setup)\n",
    "  - [Imports](#imports)\n",
    "  - [DSPy Configuration](#dspy-configuration)\n",
    "  - [MLflow Configuration](#mlflow-configuration)\n",
    "- [📊 Dataset](#2-dataset)\n",
    "  - [Dataset Download](#dataset-download)\n",
    "  - [Dataset Loading](#dataset-loading)\n",
    "  - [Dataset Preview](#dataset-preview)\n",
    "  - [DSPy Example Conversion](#dspy-example-conversion)\n",
    "- [⚙️ Core Components](#3-core-components)\n",
    "  - [DSPy Signature](#dspy-signature)\n",
    "  - [DSPy Module](#dspy-module)\n",
    "- [🎯 Prompt Optimization](#4-prompt-optimization)\n",
    "  - [Optimization Metric](#optimization-metric)\n",
    "  - [Optimizer](#optimizer)\n",
    "  - [Optimization Process](#optimization-process)\n",
    "  - [Optimized DSPy Signature](#optimized-dspy-signature)\n",
    "  - [Optimized Examples](#optimized-examples-few-shot-examples)\n",
    "- [📈 Prompt Evaluation](#5-prompt-evaluation)\n",
    "  - [Evaluator](#evaluator)\n",
    "  - [Baseline Evaluation](#baseline-evaluation)\n",
    "  - [Optimized Prompt Evaluation](#optimized-prompt-evaluation)\n",
    "  - [Comparison](#comparison)\n",
    "- [💾 Save & Load DSPy Programs](#6-save--load-dspy-programs)\n",
    "  - [Saving DSPy Programs](#saving-dspy-programs)\n",
    "  - [Loading DSPy Programs](#loading-dspy-programs)"
   ]
  },
  {
   "cell_type": "markdown",
   "id": "2b1417b1",
   "metadata": {},
   "source": [
    "## 1. Setup"
   ]
  },
  {
   "cell_type": "markdown",
   "id": "38b90dbd",
   "metadata": {},
   "source": [
    "### Imports\n",
    "Required libraries for DSPy, MLflow, and data processing."
   ]
  },
  {
   "cell_type": "code",
   "execution_count": 1,
   "id": "665513e7",
   "metadata": {},
   "outputs": [],
   "source": [
    "import os\n",
    "import uuid\n",
    "from dotenv import load_dotenv\n",
    "import dspy\n",
    "import mlflow\n",
    "import polars as pl"
   ]
  },
  {
   "cell_type": "markdown",
   "id": "2103e633",
   "metadata": {},
   "source": [
    "### DSPy Configuration\n",
    "Initialize language model and configure DSPy settings"
   ]
  },
  {
   "cell_type": "code",
   "execution_count": null,
   "id": "78e87695",
   "metadata": {},
   "outputs": [],
   "source": [
    "# Load environment variables from .env file\n",
    "load_dotenv()\n",
    "\n",
    "# Programs folder\n",
    "PROGRAMS_FOLDER = \"programs\"\n",
    "\n",
    "# Get model ID from environment or use default\n",
    "MODEL_ID = os.getenv(\"MODEL_ID\", \"openai/gpt-4o-mini\")\n",
    "\n",
    "# Initialize DSPy language model\n",
    "# For OpenAI reasoning models, temperature=1.0 and max_tokens >= 20000 are required\n",
    "lm = dspy.LM(MODEL_ID, temperature=1.0, max_tokens=20000)\n",
    "\n",
    "# Configure DSPy with the language model\n",
    "dspy.settings.configure(lm=lm)"
   ]
  },
  {
   "cell_type": "markdown",
   "id": "d62cada6",
   "metadata": {},
   "source": [
    "### MLflow Configuration\n",
    "\n",
    "Run `mlflow ui --port 8080` in a terminal before executing this cell."
   ]
  },
  {
   "cell_type": "code",
   "execution_count": 3,
   "id": "4f861ebe",
   "metadata": {},
   "outputs": [
    {
     "name": "stderr",
     "output_type": "stream",
     "text": [
      "2025/08/21 21:07:24 INFO mlflow.tracking.fluent: Experiment with name 'dspy_biomedic_classifier_72c9b5f9' does not exist. Creating a new experiment.\n"
     ]
    }
   ],
   "source": [
    "mlflow.set_tracking_uri(uri=os.getenv(\"MLFLOW_TRACKING_URI\", \"http://127.0.0.1:8080\"))\n",
    "mlflow.set_experiment(f\"dspy_biomedic_classifier_{str(uuid.uuid4())[:8]}\")\n",
    "mlflow.dspy.autolog(log_evals=True, log_compiles=True, log_traces_from_compile=True)"
   ]
  },
  {
   "cell_type": "markdown",
   "id": "03153df4",
   "metadata": {},
   "source": [
    "## 2. Dataset"
   ]
  },
  {
   "cell_type": "markdown",
   "id": "b6bcc660",
   "metadata": {},
   "source": [
    "Load the biomedical papers dataset, preprocess it, and convert to DSPy format for training and evaluation."
   ]
  },
  {
   "cell_type": "markdown",
   "id": "985090e8",
   "metadata": {},
   "source": []
  },
  {
   "cell_type": "code",
   "execution_count": 4,
   "id": "d7b521db",
   "metadata": {},
   "outputs": [
    {
     "name": "stdout",
     "output_type": "stream",
     "text": [
      "Using local biomedical papers dataset...\n",
      "Dataset path: ../data/challenge_data-18-ago.csv\n"
     ]
    }
   ],
   "source": [
    "# Dataset already available locally\n",
    "print(\"Using local biomedical papers dataset...\")\n",
    "dataset_path = \"../data/challenge_data-18-ago.csv\"\n",
    "print(f\"Dataset path: {dataset_path}\")"
   ]
  },
  {
   "cell_type": "markdown",
   "id": "d4d910e1",
   "metadata": {},
   "source": [
    "### Dataset Loading"
   ]
  },
  {
   "cell_type": "code",
   "execution_count": null,
   "id": "06fc0225",
   "metadata": {},
   "outputs": [
    {
     "name": "stdout",
     "output_type": "stream",
     "text": [
      "============================================================\n",
      "Loading dataset from: ../data/challenge_data-18-ago.csv\n",
      "Rows: 3565 | Columns: 3\n",
      "Columns: ['title', 'abstract', 'group']\n",
      "------------------------------------------------------------\n",
      "Sampling 500 rows for processing...\n",
      "Sampled dataset shape: (500, 3)\n",
      "------------------------------------------------------------\n",
      "Converting group column to multi-label boolean columns...\n",
      "Dataset shape after adding boolean columns: (500, 6)\n",
      "New columns: ['title', 'abstract', 'neurological', 'cardiovascular', 'hepatorenal', 'oncological']\n",
      "------------------------------------------------------------\n",
      "Splitting dataset: 80% train / 20% validation\n",
      "Training set:   400 rows\n",
      "Validation set: 100 rows\n",
      "============================================================\n"
     ]
    }
   ],
   "source": [
    "print(\"=\" * 60)\n",
    "print(f\"Loading dataset from: {dataset_path}\")\n",
    "dataset = pl.read_csv(dataset_path, separator=\";\")\n",
    "print(f\"Rows: {dataset.shape[0]} | Columns: {dataset.shape[1]}\")\n",
    "print(f\"Columns: {dataset.columns}\")\n",
    "print(\"-\" * 60)\n",
    "\n",
    "print(\"Sampling 500 rows for processing...\")\n",
    "dataset = dataset.sample(seed=42)\n",
    "print(f\"Sampled dataset shape: {dataset.shape}\")\n",
    "\n",
    "print(\"-\" * 60)\n",
    "print(\"Converting group column to multi-label boolean columns...\")\n",
    "\n",
    "# Create boolean columns for each medical category\n",
    "dataset = dataset.with_columns([\n",
    "    pl.col('group').str.contains('neurological').fill_null(False).alias('neurological'),\n",
    "    pl.col('group').str.contains('cardiovascular').fill_null(False).alias('cardiovascular'), \n",
    "    pl.col('group').str.contains('hepatorenal').fill_null(False).alias('hepatorenal'),\n",
    "    pl.col('group').str.contains('oncological').fill_null(False).alias('oncological')\n",
    "])\n",
    "\n",
    "# Drop the original group column\n",
    "dataset = dataset.drop('group')\n",
    "\n",
    "print(f\"Dataset shape after adding boolean columns: {dataset.shape}\")\n",
    "print(f\"New columns: {dataset.columns}\")\n",
    "\n",
    "print(\"-\" * 60)\n",
    "print(\"Splitting dataset: 80% train / 20% validation\")\n",
    "split_idx = int(0.8 * len(dataset))\n",
    "trainset = dataset[:split_idx]\n",
    "valset = dataset[split_idx:]\n",
    "print(f\"Training set:   {trainset.shape[0]} rows\")\n",
    "print(f\"Validation set: {valset.shape[0]} rows\")\n",
    "print(\"=\" * 60)"
   ]
  },
  {
   "cell_type": "code",
   "execution_count": 6,
   "id": "2f2ad859",
   "metadata": {},
   "outputs": [
    {
     "name": "stdout",
     "output_type": "stream",
     "text": [
      "Boolean column distributions in training set:\n",
      "  - neurological: 207 True (51.7%), 193 False (48.3%)\n",
      "  - cardiovascular: 155 True (38.8%), 245 False (61.2%)\n",
      "  - hepatorenal: 113 True (28.2%), 287 False (71.8%)\n",
      "  - oncological: 65 True (16.2%), 335 False (83.8%)\n",
      "\n",
      "Sample label combinations:\n",
      "  Row 1: cardiovascular\n",
      "  Row 2: neurological|cardiovascular\n",
      "  Row 3: oncological\n",
      "  Row 4: neurological\n",
      "  Row 5: neurological|hepatorenal\n",
      "  Row 6: cardiovascular\n",
      "  Row 7: neurological\n",
      "  Row 8: cardiovascular\n",
      "  Row 9: hepatorenal\n",
      "  Row 10: cardiovascular|hepatorenal\n"
     ]
    }
   ],
   "source": [
    "print(\"Boolean column distributions in training set:\")\n",
    "for col in ['neurological', 'cardiovascular', 'hepatorenal', 'oncological']:\n",
    "    true_count = trainset[col].sum()\n",
    "    false_count = len(trainset) - true_count\n",
    "    percentage = (true_count / len(trainset)) * 100\n",
    "    print(f\"  - {col}: {true_count} True ({percentage:.1f}%), {false_count} False ({100-percentage:.1f}%)\")\n",
    "\n",
    "print(\"\\nSample label combinations:\")\n",
    "# Show first 10 rows of boolean columns\n",
    "sample_labels = trainset.select(['neurological', 'cardiovascular', 'hepatorenal', 'oncological']).head(10)\n",
    "for i, row in enumerate(sample_labels.iter_rows(named=True)):\n",
    "    active_labels = [col for col, val in row.items() if val]\n",
    "    label_str = '|'.join(active_labels) if active_labels else 'None'\n",
    "    print(f\"  Row {i+1}: {label_str}\")"
   ]
  },
  {
   "cell_type": "markdown",
   "id": "ab618ab7",
   "metadata": {},
   "source": [
    "### Dataset Preview"
   ]
  },
  {
   "cell_type": "code",
   "execution_count": 7,
   "id": "81fff1aa",
   "metadata": {},
   "outputs": [
    {
     "data": {
      "text/html": [
       "<div><style>\n",
       ".dataframe > thead > tr,\n",
       ".dataframe > tbody > tr {\n",
       "  text-align: right;\n",
       "  white-space: pre-wrap;\n",
       "}\n",
       "</style>\n",
       "<small>shape: (5, 6)</small><table border=\"1\" class=\"dataframe\"><thead><tr><th>title</th><th>abstract</th><th>neurological</th><th>cardiovascular</th><th>hepatorenal</th><th>oncological</th></tr><tr><td>str</td><td>str</td><td>bool</td><td>bool</td><td>bool</td><td>bool</td></tr></thead><tbody><tr><td>&quot;hypertension and atheroscleros…</td><td>&quot;Aim: To investigate ACE inhibi…</td><td>false</td><td>true</td><td>false</td><td>false</td></tr><tr><td>&quot;When norepinephrine meets hepa…</td><td>&quot;Hypothesis: statins improves d…</td><td>true</td><td>true</td><td>false</td><td>false</td></tr><tr><td>&quot;Cyclophosphamide associated bl…</td><td>&quot;PURPOSE: We gained knowledge o…</td><td>false</td><td>false</td><td>false</td><td>true</td></tr><tr><td>&quot;The human MAGEL2 gene and its …</td><td>&quot;Prader-Willi syndrome ( PWS ) …</td><td>true</td><td>false</td><td>false</td><td>false</td></tr><tr><td>&quot;When cirrhosis meets lung canc…</td><td>&quot;Study design: longitudinal inv…</td><td>true</td><td>false</td><td>true</td><td>false</td></tr></tbody></table></div>"
      ],
      "text/plain": [
       "shape: (5, 6)\n",
       "┌───────────────────┬──────────────────┬──────────────┬────────────────┬─────────────┬─────────────┐\n",
       "│ title             ┆ abstract         ┆ neurological ┆ cardiovascular ┆ hepatorenal ┆ oncological │\n",
       "│ ---               ┆ ---              ┆ ---          ┆ ---            ┆ ---         ┆ ---         │\n",
       "│ str               ┆ str              ┆ bool         ┆ bool           ┆ bool        ┆ bool        │\n",
       "╞═══════════════════╪══════════════════╪══════════════╪════════════════╪═════════════╪═════════════╡\n",
       "│ hypertension and  ┆ Aim: To          ┆ false        ┆ true           ┆ false       ┆ false       │\n",
       "│ atheroscleros…    ┆ investigate ACE  ┆              ┆                ┆             ┆             │\n",
       "│                   ┆ inhibi…          ┆              ┆                ┆             ┆             │\n",
       "│ When              ┆ Hypothesis:      ┆ true         ┆ true           ┆ false       ┆ false       │\n",
       "│ norepinephrine    ┆ statins improves ┆              ┆                ┆             ┆             │\n",
       "│ meets hepa…       ┆ d…               ┆              ┆                ┆             ┆             │\n",
       "│ Cyclophosphamide  ┆ PURPOSE: We      ┆ false        ┆ false          ┆ false       ┆ true        │\n",
       "│ associated bl…    ┆ gained knowledge ┆              ┆                ┆             ┆             │\n",
       "│                   ┆ o…               ┆              ┆                ┆             ┆             │\n",
       "│ The human MAGEL2  ┆ Prader-Willi     ┆ true         ┆ false          ┆ false       ┆ false       │\n",
       "│ gene and its …    ┆ syndrome ( PWS ) ┆              ┆                ┆             ┆             │\n",
       "│                   ┆ …                ┆              ┆                ┆             ┆             │\n",
       "│ When cirrhosis    ┆ Study design:    ┆ true         ┆ false          ┆ true        ┆ false       │\n",
       "│ meets lung canc…  ┆ longitudinal     ┆              ┆                ┆             ┆             │\n",
       "│                   ┆ inv…             ┆              ┆                ┆             ┆             │\n",
       "└───────────────────┴──────────────────┴──────────────┴────────────────┴─────────────┴─────────────┘"
      ]
     },
     "execution_count": 7,
     "metadata": {},
     "output_type": "execute_result"
    }
   ],
   "source": [
    "trainset.head()"
   ]
  },
  {
   "cell_type": "markdown",
   "id": "03fb8fea",
   "metadata": {},
   "source": [
    "### DSPy Example Conversion\n",
    "\n",
    "Convert the sets into DSPy Example objects for prompt optimization and validation."
   ]
  },
  {
   "cell_type": "code",
   "execution_count": 8,
   "id": "767115ce",
   "metadata": {},
   "outputs": [
    {
     "name": "stdout",
     "output_type": "stream",
     "text": [
      "Created 400 dspy.Example objects for training\n",
      "Created 100 dspy.Example objects for validation\n"
     ]
    }
   ],
   "source": [
    "def to_dspy_examples(dataset):\n",
    "    examples = []\n",
    "    for item in dataset.iter_rows(named=True):\n",
    "        example = dspy.Example(\n",
    "            title=item[\"title\"],\n",
    "            abstract=item[\"abstract\"],\n",
    "            neurological=item[\"neurological\"],\n",
    "            cardiovascular=item[\"cardiovascular\"],\n",
    "            hepatorenal=item[\"hepatorenal\"],\n",
    "            oncological=item[\"oncological\"]\n",
    "        ).with_inputs(\"title\", \"abstract\")\n",
    "        examples.append(example)\n",
    "    return examples\n",
    "\n",
    "dspy_trainset = to_dspy_examples(trainset)\n",
    "dspy_valset = to_dspy_examples(valset)\n",
    "\n",
    "print(f\"Created {len(dspy_trainset)} dspy.Example objects for training\")\n",
    "print(f\"Created {len(dspy_valset)} dspy.Example objects for validation\")"
   ]
  },
  {
   "cell_type": "markdown",
   "id": "7a8656cb",
   "metadata": {},
   "source": [
    "## 3. Core Components"
   ]
  },
  {
   "cell_type": "markdown",
   "id": "50958213",
   "metadata": {},
   "source": [
    "### DSPy Signature"
   ]
  },
  {
   "cell_type": "code",
   "execution_count": 9,
   "id": "1875b489",
   "metadata": {},
   "outputs": [],
   "source": [
    "class NeurologicalClassifier(dspy.Signature):\n",
    "    \"\"\"Classifies if a biomedical paper is related to neurological conditions.\"\"\"\n",
    "    title: str = dspy.InputField(desc=\"Title of the biomedical paper\")\n",
    "    abstract: str = dspy.InputField(desc=\"Abstract of the biomedical paper\")\n",
    "    is_neurological: bool = dspy.OutputField(desc=\"True if the paper is related to neurological conditions\")\n",
    "\n",
    "class CardiovascularClassifier(dspy.Signature):\n",
    "    \"\"\"Classifies if a biomedical paper is related to cardiovascular conditions.\"\"\"\n",
    "    title: str = dspy.InputField(desc=\"Title of the biomedical paper\")\n",
    "    abstract: str = dspy.InputField(desc=\"Abstract of the biomedical paper\")\n",
    "    is_cardiovascular: bool = dspy.OutputField(desc=\"True if the paper is related to cardiovascular conditions\")\n",
    "\n",
    "class HepatoRenalClassifier(dspy.Signature):\n",
    "    \"\"\"Classifies if a biomedical paper is related to hepatorenal conditions.\"\"\"\n",
    "    title: str = dspy.InputField(desc=\"Title of the biomedical paper\")\n",
    "    abstract: str = dspy.InputField(desc=\"Abstract of the biomedical paper\")\n",
    "    is_hepatorenal: bool = dspy.OutputField(desc=\"True if the paper is related to hepatorenal conditions\")\n",
    "\n",
    "class OncologicalClassifier(dspy.Signature):\n",
    "    \"\"\"Classifies if a biomedical paper is related to oncological conditions.\"\"\"\n",
    "    title: str = dspy.InputField(desc=\"Title of the biomedical paper\")\n",
    "    abstract: str = dspy.InputField(desc=\"Abstract of the biomedical paper\")\n",
    "    is_oncological: bool = dspy.OutputField(desc=\"True if the paper is related to oncological conditions\")"
   ]
  },
  {
   "cell_type": "markdown",
   "id": "510af5c8",
   "metadata": {},
   "source": [
    "### DSPy Module  "
   ]
  },
  {
   "cell_type": "code",
   "execution_count": 10,
   "id": "ba53991d",
   "metadata": {},
   "outputs": [],
   "source": [
    "# Create 4 separate classifiers - one per medical category\n",
    "neurological_classifier = dspy.Predict(NeurologicalClassifier)\n",
    "cardiovascular_classifier = dspy.Predict(CardiovascularClassifier)\n",
    "hepatorenal_classifier = dspy.Predict(HepatoRenalClassifier)\n",
    "oncological_classifier = dspy.Predict(OncologicalClassifier)\n",
    "\n",
    "# Group them for easier handling\n",
    "classifiers = {\n",
    "    'neurological': neurological_classifier,\n",
    "    'cardiovascular': cardiovascular_classifier,\n",
    "    'hepatorenal': hepatorenal_classifier,\n",
    "    'oncological': oncological_classifier\n",
    "}"
   ]
  },
  {
   "cell_type": "markdown",
   "id": "8d5b52c7",
   "metadata": {},
   "source": [
    "## 4. Prompt Optimization\n",
    "\n",
    "Use MIPROv2 to optimize prompts through automated prompt engineering and few-shot example selection.\n"
   ]
  },
  {
   "cell_type": "markdown",
   "id": "40146e55",
   "metadata": {},
   "source": [
    "### Optimization Metric\n",
    "\n",
    "\n",
    "Before optimizing we need to define a evalution metric."
   ]
  },
  {
   "cell_type": "code",
   "execution_count": 11,
   "id": "c00ff6f0",
   "metadata": {},
   "outputs": [],
   "source": [
    "# Individual evaluation metrics for each classifier\n",
    "def neurological_accuracy(example, pred, trace=None):\n",
    "    \"\"\"Accuracy metric for neurological classifier.\"\"\"\n",
    "    return getattr(pred, 'is_neurological', False) == example.neurological\n",
    "\n",
    "def cardiovascular_accuracy(example, pred, trace=None):\n",
    "    \"\"\"Accuracy metric for cardiovascular classifier.\"\"\"\n",
    "    return getattr(pred, 'is_cardiovascular', False) == example.cardiovascular\n",
    "\n",
    "def hepatorenal_accuracy(example, pred, trace=None):\n",
    "    \"\"\"Accuracy metric for hepatorenal classifier.\"\"\"\n",
    "    return getattr(pred, 'is_hepatorenal', False) == example.hepatorenal\n",
    "\n",
    "def oncological_accuracy(example, pred, trace=None):\n",
    "    \"\"\"Accuracy metric for oncological classifier.\"\"\"\n",
    "    return getattr(pred, 'is_oncological', False) == example.oncological\n",
    "\n",
    "# Group metrics for easy access\n",
    "metrics = {\n",
    "    'neurological': neurological_accuracy,\n",
    "    'cardiovascular': cardiovascular_accuracy,\n",
    "    'hepatorenal': hepatorenal_accuracy,\n",
    "    'oncological': oncological_accuracy\n",
    "}"
   ]
  },
  {
   "cell_type": "markdown",
   "id": "60b8e4c0",
   "metadata": {},
   "source": [
    "### Optimizer"
   ]
  },
  {
   "cell_type": "code",
   "execution_count": null,
   "id": "e056e973",
   "metadata": {},
   "outputs": [
    {
     "name": "stdout",
     "output_type": "stream",
     "text": [
      "Created optimizer for neurological classifier\n",
      "Created optimizer for cardiovascular classifier\n",
      "Created optimizer for hepatorenal classifier\n",
      "Created optimizer for oncological classifier\n"
     ]
    }
   ],
   "source": [
    "# Individual optimizers for each classifier\n",
    "optimizers = {}\n",
    "for category, metric in metrics.items():\n",
    "    optimizers[category] = dspy.MIPROv2(\n",
    "        metric=metric,\n",
    "        auto=\"heavy\", \n",
    "        num_threads=16\n",
    "    )\n",
    "    print(f\"Created optimizer for {category} classifier\")"
   ]
  },
  {
   "cell_type": "markdown",
   "id": "608cf793",
   "metadata": {},
   "source": [
    "### Optimization Process"
   ]
  },
  {
   "cell_type": "code",
   "execution_count": 13,
   "id": "923b1276",
   "metadata": {},
   "outputs": [
    {
     "name": "stdout",
     "output_type": "stream",
     "text": [
      "\n",
      "============================================================\n",
      "OPTIMIZING NEUROLOGICAL CLASSIFIER\n",
      "============================================================\n"
     ]
    },
    {
     "name": "stderr",
     "output_type": "stream",
     "text": [
      "2025/08/21 21:07:25 INFO mlflow.utils.autologging_utils: Created MLflow autologging run with ID '3eb227fb78264d24b8c9b65f64e51a6c', which will track hyperparameters, performance metrics, model artifacts, and lineage information for the current dspy workflow\n",
      "2025/08/21 21:07:25 INFO dspy.teleprompt.mipro_optimizer_v2: \n",
      "RUNNING WITH THE FOLLOWING LIGHT AUTO RUN SETTINGS:\n",
      "num_trials: 10\n",
      "minibatch: True\n",
      "num_fewshot_candidates: 6\n",
      "num_instruct_candidates: 3\n",
      "valset size: 100\n",
      "\n",
      "2025/08/21 21:07:25 INFO dspy.teleprompt.mipro_optimizer_v2: \n",
      "==> STEP 1: BOOTSTRAP FEWSHOT EXAMPLES <==\n",
      "2025/08/21 21:07:25 INFO dspy.teleprompt.mipro_optimizer_v2: These will be used as few-shot example candidates for our program and for creating instructions.\n",
      "\n",
      "2025/08/21 21:07:25 INFO dspy.teleprompt.mipro_optimizer_v2: Bootstrapping N=6 sets of demonstrations...\n"
     ]
    },
    {
     "name": "stdout",
     "output_type": "stream",
     "text": [
      "Bootstrapping set 1/6\n",
      "Bootstrapping set 2/6\n",
      "Bootstrapping set 3/6\n"
     ]
    },
    {
     "name": "stderr",
     "output_type": "stream",
     "text": [
      "2025/08/21 21:07:25 WARNING mlflow.utils.autologging_utils: MLflow autologging encountered a warning: \"/Users/ivan/Workspace/dspy-projects/dspy-biomedic-papers-classifier/.venv/lib/python3.12/site-packages/tqdm/auto.py:21: TqdmWarning: IProgress not found. Please update jupyter and ipywidgets. See https://ipywidgets.readthedocs.io/en/stable/user_install.html\"\n",
      "Downloading artifacts: 100%|██████████| 1/1 [00:00<00:00, 981.12it/s] \n",
      "  1%|          | 4/400 [00:05<09:15,  1.40s/it]\n"
     ]
    },
    {
     "name": "stdout",
     "output_type": "stream",
     "text": [
      "Bootstrapped 4 full traces after 4 examples for up to 1 rounds, amounting to 4 attempts.\n"
     ]
    },
    {
     "name": "stderr",
     "output_type": "stream",
     "text": [
      "Downloading artifacts: 100%|██████████| 1/1 [00:00<00:00, 137.42it/s]\n"
     ]
    },
    {
     "name": "stdout",
     "output_type": "stream",
     "text": [
      "Bootstrapping set 4/6\n"
     ]
    },
    {
     "name": "stderr",
     "output_type": "stream",
     "text": [
      "Downloading artifacts: 100%|██████████| 1/1 [00:00<00:00, 143.95it/s]\n",
      "  0%|          | 1/400 [00:00<03:57,  1.68it/s]\n"
     ]
    },
    {
     "name": "stdout",
     "output_type": "stream",
     "text": [
      "Bootstrapped 1 full traces after 1 examples for up to 1 rounds, amounting to 1 attempts.\n"
     ]
    },
    {
     "name": "stderr",
     "output_type": "stream",
     "text": [
      "Downloading artifacts: 100%|██████████| 1/1 [00:00<00:00, 130.87it/s]\n"
     ]
    },
    {
     "name": "stdout",
     "output_type": "stream",
     "text": [
      "Bootstrapping set 5/6\n"
     ]
    },
    {
     "name": "stderr",
     "output_type": "stream",
     "text": [
      "Downloading artifacts: 100%|██████████| 1/1 [00:00<00:00, 111.36it/s]\n",
      "  0%|          | 2/400 [00:01<04:48,  1.38it/s]\n"
     ]
    },
    {
     "name": "stdout",
     "output_type": "stream",
     "text": [
      "Bootstrapped 2 full traces after 2 examples for up to 1 rounds, amounting to 2 attempts.\n"
     ]
    },
    {
     "name": "stderr",
     "output_type": "stream",
     "text": [
      "Downloading artifacts: 100%|██████████| 1/1 [00:00<00:00, 112.46it/s]\n"
     ]
    },
    {
     "name": "stdout",
     "output_type": "stream",
     "text": [
      "Bootstrapping set 6/6\n"
     ]
    },
    {
     "name": "stderr",
     "output_type": "stream",
     "text": [
      "Downloading artifacts: 100%|██████████| 1/1 [00:00<00:00, 114.56it/s]\n",
      "  0%|          | 2/400 [00:01<05:43,  1.16it/s]\n"
     ]
    },
    {
     "name": "stdout",
     "output_type": "stream",
     "text": [
      "Bootstrapped 2 full traces after 2 examples for up to 1 rounds, amounting to 2 attempts.\n"
     ]
    },
    {
     "name": "stderr",
     "output_type": "stream",
     "text": [
      "Downloading artifacts: 100%|██████████| 1/1 [00:00<00:00, 110.03it/s]\n",
      "2025/08/21 21:07:35 INFO dspy.teleprompt.mipro_optimizer_v2: \n",
      "==> STEP 2: PROPOSE INSTRUCTION CANDIDATES <==\n",
      "2025/08/21 21:07:35 INFO dspy.teleprompt.mipro_optimizer_v2: We will use the few-shot examples from the previous step, a generated dataset summary, a summary of the program code, and a randomly selected prompting tip to propose instructions.\n",
      "2025/08/21 21:09:10 INFO dspy.teleprompt.mipro_optimizer_v2: \n",
      "Proposing N=3 instructions...\n",
      "\n",
      "2025/08/21 21:09:42 INFO dspy.teleprompt.mipro_optimizer_v2: Proposed Instructions for Predictor 0:\n",
      "\n",
      "2025/08/21 21:09:42 INFO dspy.teleprompt.mipro_optimizer_v2: 0: Classifies if a biomedical paper is related to neurological conditions.\n",
      "\n",
      "2025/08/21 21:09:42 INFO dspy.teleprompt.mipro_optimizer_v2: 1: Given the title and abstract of a biomedical research article, determine whether the article primarily pertains to the field of neurology. Analyze the content for references to neurological systems, diseases, pathways, or concepts (such as brain, neurons, dementia, cerebrospinal fluid, or neurological mechanisms). Return `True` if the article is mainly about neurological topics, and `False` if it is not. Base your decision on both explicit mentions and contextual relevance to neurology, and avoid classifying articles as neurological if they focus on unrelated medical domains (e.g., oncology, cardiology) without clear neurological connections.\n",
      "\n",
      "2025/08/21 21:09:42 INFO dspy.teleprompt.mipro_optimizer_v2: 2: You are assisting a team of medical researchers who need to rapidly identify all biomedical research articles relevant to neurology from a large database to inform urgent clinical guidelines for a neurological disease outbreak. Given the title and abstract of each article, determine with careful consideration whether the article is related to neurological conditions. Output True only if the article's primary focus involves neurological topics, mechanisms, diseases, or treatments; otherwise, output False. Your decision will directly impact which research is prioritized for immediate clinical review.\n",
      "\n",
      "2025/08/21 21:09:42 INFO dspy.teleprompt.mipro_optimizer_v2: \n",
      "\n",
      "2025/08/21 21:09:42 INFO dspy.teleprompt.mipro_optimizer_v2: ==> STEP 3: FINDING OPTIMAL PROMPT PARAMETERS <==\n",
      "2025/08/21 21:09:42 INFO dspy.teleprompt.mipro_optimizer_v2: We will evaluate the program over a series of trials with different combinations of instructions and few-shot examples to find the optimal combination using Bayesian Optimization.\n",
      "\n",
      "2025/08/21 21:09:42 INFO dspy.teleprompt.mipro_optimizer_v2: == Trial 1 / 13 - Full Evaluation of Default Program ==\n"
     ]
    },
    {
     "name": "stdout",
     "output_type": "stream",
     "text": [
      "Average Metric: 70.00 / 100 (70.0%): 100%|██████████| 100/100 [00:08<00:00, 12.06it/s]"
     ]
    },
    {
     "name": "stderr",
     "output_type": "stream",
     "text": [
      "2025/08/21 21:09:50 INFO dspy.evaluate.evaluate: Average Metric: 70 / 100 (70.0%)\n"
     ]
    },
    {
     "name": "stdout",
     "output_type": "stream",
     "text": [
      "\n",
      "🏃 View run eval_full_0 at: http://127.0.0.1:8080/#/experiments/452970844726359155/runs/cfe9e10d0f65438ba7719af025b23765\n",
      "🧪 View experiment at: http://127.0.0.1:8080/#/experiments/452970844726359155\n"
     ]
    },
    {
     "name": "stderr",
     "output_type": "stream",
     "text": [
      "2025/08/21 21:09:50 INFO dspy.teleprompt.mipro_optimizer_v2: Default program score: 70.0\n",
      "\n",
      "2025/08/21 21:09:50 INFO dspy.teleprompt.mipro_optimizer_v2: == Trial 2 / 13 - Minibatch ==\n"
     ]
    },
    {
     "name": "stdout",
     "output_type": "stream",
     "text": [
      "Average Metric: 30.00 / 35 (85.7%): 100%|██████████| 35/35 [00:02<00:00, 13.14it/s]"
     ]
    },
    {
     "name": "stderr",
     "output_type": "stream",
     "text": [
      "2025/08/21 21:09:53 INFO dspy.evaluate.evaluate: Average Metric: 30 / 35 (85.7%)\n"
     ]
    },
    {
     "name": "stdout",
     "output_type": "stream",
     "text": [
      "\n",
      "🏃 View run eval_minibatch_0 at: http://127.0.0.1:8080/#/experiments/452970844726359155/runs/7359304fbb824731969065b7fee2c1df\n",
      "🧪 View experiment at: http://127.0.0.1:8080/#/experiments/452970844726359155\n"
     ]
    },
    {
     "name": "stderr",
     "output_type": "stream",
     "text": [
      "2025/08/21 21:09:53 INFO dspy.teleprompt.mipro_optimizer_v2: Score: 85.71 on minibatch of size 35 with parameters ['Predictor 0: Instruction 1', 'Predictor 0: Few-Shot Set 3'].\n",
      "2025/08/21 21:09:53 INFO dspy.teleprompt.mipro_optimizer_v2: Minibatch scores so far: [85.71]\n",
      "2025/08/21 21:09:53 INFO dspy.teleprompt.mipro_optimizer_v2: Full eval scores so far: [70.0]\n",
      "2025/08/21 21:09:53 INFO dspy.teleprompt.mipro_optimizer_v2: Best full score so far: 70.0\n",
      "2025/08/21 21:09:53 INFO dspy.teleprompt.mipro_optimizer_v2: =========================================\n",
      "\n",
      "\n",
      "2025/08/21 21:09:53 INFO dspy.teleprompt.mipro_optimizer_v2: == Trial 3 / 13 - Minibatch ==\n"
     ]
    },
    {
     "name": "stdout",
     "output_type": "stream",
     "text": [
      "Average Metric: 25.00 / 35 (71.4%): 100%|██████████| 35/35 [00:02<00:00, 11.86it/s]"
     ]
    },
    {
     "name": "stderr",
     "output_type": "stream",
     "text": [
      "2025/08/21 21:09:56 INFO dspy.evaluate.evaluate: Average Metric: 25 / 35 (71.4%)\n"
     ]
    },
    {
     "name": "stdout",
     "output_type": "stream",
     "text": [
      "\n",
      "🏃 View run eval_minibatch_1 at: http://127.0.0.1:8080/#/experiments/452970844726359155/runs/5829c68ed47e40a2909993ada4035e83\n",
      "🧪 View experiment at: http://127.0.0.1:8080/#/experiments/452970844726359155\n"
     ]
    },
    {
     "name": "stderr",
     "output_type": "stream",
     "text": [
      "2025/08/21 21:09:57 INFO dspy.teleprompt.mipro_optimizer_v2: Score: 71.43 on minibatch of size 35 with parameters ['Predictor 0: Instruction 2', 'Predictor 0: Few-Shot Set 0'].\n",
      "2025/08/21 21:09:57 INFO dspy.teleprompt.mipro_optimizer_v2: Minibatch scores so far: [85.71, 71.43]\n",
      "2025/08/21 21:09:57 INFO dspy.teleprompt.mipro_optimizer_v2: Full eval scores so far: [70.0]\n",
      "2025/08/21 21:09:57 INFO dspy.teleprompt.mipro_optimizer_v2: Best full score so far: 70.0\n",
      "2025/08/21 21:09:57 INFO dspy.teleprompt.mipro_optimizer_v2: =========================================\n",
      "\n",
      "\n",
      "2025/08/21 21:09:57 INFO dspy.teleprompt.mipro_optimizer_v2: == Trial 4 / 13 - Minibatch ==\n"
     ]
    },
    {
     "name": "stdout",
     "output_type": "stream",
     "text": [
      "Average Metric: 33.00 / 35 (94.3%): 100%|██████████| 35/35 [00:03<00:00, 10.82it/s]"
     ]
    },
    {
     "name": "stderr",
     "output_type": "stream",
     "text": [
      "2025/08/21 21:10:00 INFO dspy.evaluate.evaluate: Average Metric: 33 / 35 (94.3%)\n"
     ]
    },
    {
     "name": "stdout",
     "output_type": "stream",
     "text": [
      "\n",
      "🏃 View run eval_minibatch_2 at: http://127.0.0.1:8080/#/experiments/452970844726359155/runs/d37f3bcc4d80436094642cde8c47e963\n",
      "🧪 View experiment at: http://127.0.0.1:8080/#/experiments/452970844726359155\n"
     ]
    },
    {
     "name": "stderr",
     "output_type": "stream",
     "text": [
      "2025/08/21 21:10:00 INFO dspy.teleprompt.mipro_optimizer_v2: Score: 94.29 on minibatch of size 35 with parameters ['Predictor 0: Instruction 1', 'Predictor 0: Few-Shot Set 5'].\n",
      "2025/08/21 21:10:00 INFO dspy.teleprompt.mipro_optimizer_v2: Minibatch scores so far: [85.71, 71.43, 94.29]\n",
      "2025/08/21 21:10:00 INFO dspy.teleprompt.mipro_optimizer_v2: Full eval scores so far: [70.0]\n",
      "2025/08/21 21:10:00 INFO dspy.teleprompt.mipro_optimizer_v2: Best full score so far: 70.0\n",
      "2025/08/21 21:10:00 INFO dspy.teleprompt.mipro_optimizer_v2: =========================================\n",
      "\n",
      "\n",
      "2025/08/21 21:10:00 INFO dspy.teleprompt.mipro_optimizer_v2: == Trial 5 / 13 - Minibatch ==\n"
     ]
    },
    {
     "name": "stdout",
     "output_type": "stream",
     "text": [
      "Average Metric: 25.00 / 35 (71.4%): 100%|██████████| 35/35 [00:03<00:00,  9.40it/s]"
     ]
    },
    {
     "name": "stderr",
     "output_type": "stream",
     "text": [
      "2025/08/21 21:10:04 INFO dspy.evaluate.evaluate: Average Metric: 25 / 35 (71.4%)\n"
     ]
    },
    {
     "name": "stdout",
     "output_type": "stream",
     "text": [
      "\n",
      "🏃 View run eval_minibatch_3 at: http://127.0.0.1:8080/#/experiments/452970844726359155/runs/36817139dafe431ea43501719ab68607\n",
      "🧪 View experiment at: http://127.0.0.1:8080/#/experiments/452970844726359155\n"
     ]
    },
    {
     "name": "stderr",
     "output_type": "stream",
     "text": [
      "2025/08/21 21:10:04 INFO dspy.teleprompt.mipro_optimizer_v2: Score: 71.43 on minibatch of size 35 with parameters ['Predictor 0: Instruction 2', 'Predictor 0: Few-Shot Set 2'].\n",
      "2025/08/21 21:10:04 INFO dspy.teleprompt.mipro_optimizer_v2: Minibatch scores so far: [85.71, 71.43, 94.29, 71.43]\n",
      "2025/08/21 21:10:04 INFO dspy.teleprompt.mipro_optimizer_v2: Full eval scores so far: [70.0]\n",
      "2025/08/21 21:10:04 INFO dspy.teleprompt.mipro_optimizer_v2: Best full score so far: 70.0\n",
      "2025/08/21 21:10:04 INFO dspy.teleprompt.mipro_optimizer_v2: =========================================\n",
      "\n",
      "\n",
      "2025/08/21 21:10:04 INFO dspy.teleprompt.mipro_optimizer_v2: == Trial 6 / 13 - Minibatch ==\n"
     ]
    },
    {
     "name": "stdout",
     "output_type": "stream",
     "text": [
      "Average Metric: 26.00 / 35 (74.3%): 100%|██████████| 35/35 [00:03<00:00, 10.37it/s]"
     ]
    },
    {
     "name": "stderr",
     "output_type": "stream",
     "text": [
      "2025/08/21 21:10:08 INFO dspy.evaluate.evaluate: Average Metric: 26 / 35 (74.3%)\n"
     ]
    },
    {
     "name": "stdout",
     "output_type": "stream",
     "text": [
      "\n",
      "🏃 View run eval_minibatch_4 at: http://127.0.0.1:8080/#/experiments/452970844726359155/runs/833074bea8dc47f7ab660b64f77f342a\n",
      "🧪 View experiment at: http://127.0.0.1:8080/#/experiments/452970844726359155\n"
     ]
    },
    {
     "name": "stderr",
     "output_type": "stream",
     "text": [
      "2025/08/21 21:10:08 INFO dspy.teleprompt.mipro_optimizer_v2: Score: 74.29 on minibatch of size 35 with parameters ['Predictor 0: Instruction 0', 'Predictor 0: Few-Shot Set 5'].\n",
      "2025/08/21 21:10:08 INFO dspy.teleprompt.mipro_optimizer_v2: Minibatch scores so far: [85.71, 71.43, 94.29, 71.43, 74.29]\n",
      "2025/08/21 21:10:08 INFO dspy.teleprompt.mipro_optimizer_v2: Full eval scores so far: [70.0]\n",
      "2025/08/21 21:10:08 INFO dspy.teleprompt.mipro_optimizer_v2: Best full score so far: 70.0\n",
      "2025/08/21 21:10:08 INFO dspy.teleprompt.mipro_optimizer_v2: =========================================\n",
      "\n",
      "\n",
      "2025/08/21 21:10:08 INFO dspy.teleprompt.mipro_optimizer_v2: ===== Trial 7 / 13 - Full Evaluation =====\n",
      "2025/08/21 21:10:08 INFO dspy.teleprompt.mipro_optimizer_v2: Doing full eval on next top averaging program (Avg Score: 94.29) from minibatch trials...\n"
     ]
    },
    {
     "name": "stdout",
     "output_type": "stream",
     "text": [
      "Average Metric: 78.00 / 100 (78.0%): 100%|██████████| 100/100 [00:07<00:00, 13.77it/s]"
     ]
    },
    {
     "name": "stderr",
     "output_type": "stream",
     "text": [
      "2025/08/21 21:10:15 INFO dspy.evaluate.evaluate: Average Metric: 78 / 100 (78.0%)\n"
     ]
    },
    {
     "name": "stdout",
     "output_type": "stream",
     "text": [
      "\n"
     ]
    },
    {
     "name": "stderr",
     "output_type": "stream",
     "text": [
      "2025/08/21 21:10:16 INFO dspy.teleprompt.mipro_optimizer_v2: \u001b[92mNew best full eval score!\u001b[0m Score: 78.0\n",
      "2025/08/21 21:10:16 INFO dspy.teleprompt.mipro_optimizer_v2: Full eval scores so far: [70.0, 78.0]\n",
      "2025/08/21 21:10:16 INFO dspy.teleprompt.mipro_optimizer_v2: Best full score so far: 78.0\n",
      "2025/08/21 21:10:16 INFO dspy.teleprompt.mipro_optimizer_v2: =======================\n",
      "2025/08/21 21:10:16 INFO dspy.teleprompt.mipro_optimizer_v2: \n",
      "\n",
      "2025/08/21 21:10:16 INFO dspy.teleprompt.mipro_optimizer_v2: == Trial 8 / 13 - Minibatch ==\n"
     ]
    },
    {
     "name": "stdout",
     "output_type": "stream",
     "text": [
      "🏃 View run eval_full_1 at: http://127.0.0.1:8080/#/experiments/452970844726359155/runs/662637e05bd44b708e63a3ebe6a0379e\n",
      "🧪 View experiment at: http://127.0.0.1:8080/#/experiments/452970844726359155\n",
      "Average Metric: 28.00 / 35 (80.0%): 100%|██████████| 35/35 [00:02<00:00, 14.04it/s]"
     ]
    },
    {
     "name": "stderr",
     "output_type": "stream",
     "text": [
      "2025/08/21 21:10:18 INFO dspy.evaluate.evaluate: Average Metric: 28 / 35 (80.0%)\n"
     ]
    },
    {
     "name": "stdout",
     "output_type": "stream",
     "text": [
      "\n"
     ]
    },
    {
     "name": "stderr",
     "output_type": "stream",
     "text": [
      "2025/08/21 21:10:19 INFO dspy.teleprompt.mipro_optimizer_v2: Score: 80.0 on minibatch of size 35 with parameters ['Predictor 0: Instruction 2', 'Predictor 0: Few-Shot Set 0'].\n",
      "2025/08/21 21:10:19 INFO dspy.teleprompt.mipro_optimizer_v2: Minibatch scores so far: [85.71, 71.43, 94.29, 71.43, 74.29, 80.0]\n",
      "2025/08/21 21:10:19 INFO dspy.teleprompt.mipro_optimizer_v2: Full eval scores so far: [70.0, 78.0]\n",
      "2025/08/21 21:10:19 INFO dspy.teleprompt.mipro_optimizer_v2: Best full score so far: 78.0\n",
      "2025/08/21 21:10:19 INFO dspy.teleprompt.mipro_optimizer_v2: =========================================\n",
      "\n",
      "\n",
      "2025/08/21 21:10:19 INFO dspy.teleprompt.mipro_optimizer_v2: == Trial 9 / 13 - Minibatch ==\n"
     ]
    },
    {
     "name": "stdout",
     "output_type": "stream",
     "text": [
      "🏃 View run eval_minibatch_5 at: http://127.0.0.1:8080/#/experiments/452970844726359155/runs/3ed04e336a3541438c81299cf3bce89b\n",
      "🧪 View experiment at: http://127.0.0.1:8080/#/experiments/452970844726359155\n",
      "Average Metric: 24.00 / 35 (68.6%): 100%|██████████| 35/35 [00:04<00:00,  8.32it/s]"
     ]
    },
    {
     "name": "stderr",
     "output_type": "stream",
     "text": [
      "2025/08/21 21:10:23 INFO dspy.evaluate.evaluate: Average Metric: 24 / 35 (68.6%)\n"
     ]
    },
    {
     "name": "stdout",
     "output_type": "stream",
     "text": [
      "\n"
     ]
    },
    {
     "name": "stderr",
     "output_type": "stream",
     "text": [
      "2025/08/21 21:10:23 INFO dspy.teleprompt.mipro_optimizer_v2: Score: 68.57 on minibatch of size 35 with parameters ['Predictor 0: Instruction 2', 'Predictor 0: Few-Shot Set 5'].\n",
      "2025/08/21 21:10:23 INFO dspy.teleprompt.mipro_optimizer_v2: Minibatch scores so far: [85.71, 71.43, 94.29, 71.43, 74.29, 80.0, 68.57]\n",
      "2025/08/21 21:10:23 INFO dspy.teleprompt.mipro_optimizer_v2: Full eval scores so far: [70.0, 78.0]\n",
      "2025/08/21 21:10:23 INFO dspy.teleprompt.mipro_optimizer_v2: Best full score so far: 78.0\n",
      "2025/08/21 21:10:23 INFO dspy.teleprompt.mipro_optimizer_v2: =========================================\n",
      "\n",
      "\n",
      "2025/08/21 21:10:23 INFO dspy.teleprompt.mipro_optimizer_v2: == Trial 10 / 13 - Minibatch ==\n"
     ]
    },
    {
     "name": "stdout",
     "output_type": "stream",
     "text": [
      "🏃 View run eval_minibatch_6 at: http://127.0.0.1:8080/#/experiments/452970844726359155/runs/137957d4486442718a9c78486f5e3a2b\n",
      "🧪 View experiment at: http://127.0.0.1:8080/#/experiments/452970844726359155\n",
      "Average Metric: 32.00 / 35 (91.4%): 100%|██████████| 35/35 [00:04<00:00,  8.26it/s]"
     ]
    },
    {
     "name": "stderr",
     "output_type": "stream",
     "text": [
      "2025/08/21 21:10:28 INFO dspy.evaluate.evaluate: Average Metric: 32 / 35 (91.4%)\n"
     ]
    },
    {
     "name": "stdout",
     "output_type": "stream",
     "text": [
      "\n"
     ]
    },
    {
     "name": "stderr",
     "output_type": "stream",
     "text": [
      "2025/08/21 21:10:28 INFO dspy.teleprompt.mipro_optimizer_v2: Score: 91.43 on minibatch of size 35 with parameters ['Predictor 0: Instruction 1', 'Predictor 0: Few-Shot Set 4'].\n",
      "2025/08/21 21:10:28 INFO dspy.teleprompt.mipro_optimizer_v2: Minibatch scores so far: [85.71, 71.43, 94.29, 71.43, 74.29, 80.0, 68.57, 91.43]\n",
      "2025/08/21 21:10:28 INFO dspy.teleprompt.mipro_optimizer_v2: Full eval scores so far: [70.0, 78.0]\n",
      "2025/08/21 21:10:28 INFO dspy.teleprompt.mipro_optimizer_v2: Best full score so far: 78.0\n",
      "2025/08/21 21:10:28 INFO dspy.teleprompt.mipro_optimizer_v2: ==========================================\n",
      "\n",
      "\n",
      "2025/08/21 21:10:28 INFO dspy.teleprompt.mipro_optimizer_v2: == Trial 11 / 13 - Minibatch ==\n"
     ]
    },
    {
     "name": "stdout",
     "output_type": "stream",
     "text": [
      "🏃 View run eval_minibatch_7 at: http://127.0.0.1:8080/#/experiments/452970844726359155/runs/1f063bdc516148bcacf13d25ef237812\n",
      "🧪 View experiment at: http://127.0.0.1:8080/#/experiments/452970844726359155\n",
      "Average Metric: 23.00 / 35 (65.7%): 100%|██████████| 35/35 [00:02<00:00, 12.89it/s]"
     ]
    },
    {
     "name": "stderr",
     "output_type": "stream",
     "text": [
      "2025/08/21 21:10:31 INFO dspy.evaluate.evaluate: Average Metric: 23 / 35 (65.7%)\n"
     ]
    },
    {
     "name": "stdout",
     "output_type": "stream",
     "text": [
      "\n"
     ]
    },
    {
     "name": "stderr",
     "output_type": "stream",
     "text": [
      "2025/08/21 21:10:31 INFO dspy.teleprompt.mipro_optimizer_v2: Score: 65.71 on minibatch of size 35 with parameters ['Predictor 0: Instruction 1', 'Predictor 0: Few-Shot Set 5'].\n",
      "2025/08/21 21:10:31 INFO dspy.teleprompt.mipro_optimizer_v2: Minibatch scores so far: [85.71, 71.43, 94.29, 71.43, 74.29, 80.0, 68.57, 91.43, 65.71]\n",
      "2025/08/21 21:10:31 INFO dspy.teleprompt.mipro_optimizer_v2: Full eval scores so far: [70.0, 78.0]\n",
      "2025/08/21 21:10:31 INFO dspy.teleprompt.mipro_optimizer_v2: Best full score so far: 78.0\n",
      "2025/08/21 21:10:31 INFO dspy.teleprompt.mipro_optimizer_v2: ==========================================\n",
      "\n",
      "\n",
      "2025/08/21 21:10:31 INFO dspy.teleprompt.mipro_optimizer_v2: == Trial 12 / 13 - Minibatch ==\n"
     ]
    },
    {
     "name": "stdout",
     "output_type": "stream",
     "text": [
      "🏃 View run eval_minibatch_8 at: http://127.0.0.1:8080/#/experiments/452970844726359155/runs/e2a83db70d424a349c8a9a3d6bdb495b\n",
      "🧪 View experiment at: http://127.0.0.1:8080/#/experiments/452970844726359155\n",
      "Average Metric: 22.00 / 35 (62.9%): 100%|██████████| 35/35 [00:03<00:00,  9.94it/s]"
     ]
    },
    {
     "name": "stderr",
     "output_type": "stream",
     "text": [
      "2025/08/21 21:10:35 INFO dspy.evaluate.evaluate: Average Metric: 22 / 35 (62.9%)\n"
     ]
    },
    {
     "name": "stdout",
     "output_type": "stream",
     "text": [
      "\n"
     ]
    },
    {
     "name": "stderr",
     "output_type": "stream",
     "text": [
      "2025/08/21 21:10:36 INFO dspy.teleprompt.mipro_optimizer_v2: Score: 62.86 on minibatch of size 35 with parameters ['Predictor 0: Instruction 1', 'Predictor 0: Few-Shot Set 4'].\n",
      "2025/08/21 21:10:36 INFO dspy.teleprompt.mipro_optimizer_v2: Minibatch scores so far: [85.71, 71.43, 94.29, 71.43, 74.29, 80.0, 68.57, 91.43, 65.71, 62.86]\n",
      "2025/08/21 21:10:36 INFO dspy.teleprompt.mipro_optimizer_v2: Full eval scores so far: [70.0, 78.0]\n",
      "2025/08/21 21:10:36 INFO dspy.teleprompt.mipro_optimizer_v2: Best full score so far: 78.0\n",
      "2025/08/21 21:10:36 INFO dspy.teleprompt.mipro_optimizer_v2: ==========================================\n",
      "\n",
      "\n",
      "2025/08/21 21:10:36 INFO dspy.teleprompt.mipro_optimizer_v2: ===== Trial 13 / 13 - Full Evaluation =====\n",
      "2025/08/21 21:10:36 INFO dspy.teleprompt.mipro_optimizer_v2: Doing full eval on next top averaging program (Avg Score: 85.71) from minibatch trials...\n"
     ]
    },
    {
     "name": "stdout",
     "output_type": "stream",
     "text": [
      "🏃 View run eval_minibatch_9 at: http://127.0.0.1:8080/#/experiments/452970844726359155/runs/f6a1e24c04204d59ac2dfcaae721df80\n",
      "🧪 View experiment at: http://127.0.0.1:8080/#/experiments/452970844726359155\n",
      "Average Metric: 82.00 / 100 (82.0%): 100%|██████████| 100/100 [00:09<00:00, 10.08it/s]"
     ]
    },
    {
     "name": "stderr",
     "output_type": "stream",
     "text": [
      "2025/08/21 21:10:46 INFO dspy.evaluate.evaluate: Average Metric: 82 / 100 (82.0%)\n"
     ]
    },
    {
     "name": "stdout",
     "output_type": "stream",
     "text": [
      "\n"
     ]
    },
    {
     "name": "stderr",
     "output_type": "stream",
     "text": [
      "2025/08/21 21:10:46 INFO dspy.teleprompt.mipro_optimizer_v2: \u001b[92mNew best full eval score!\u001b[0m Score: 82.0\n",
      "2025/08/21 21:10:46 INFO dspy.teleprompt.mipro_optimizer_v2: Full eval scores so far: [70.0, 78.0, 82.0]\n",
      "2025/08/21 21:10:46 INFO dspy.teleprompt.mipro_optimizer_v2: Best full score so far: 82.0\n",
      "2025/08/21 21:10:46 INFO dspy.teleprompt.mipro_optimizer_v2: =======================\n",
      "2025/08/21 21:10:46 INFO dspy.teleprompt.mipro_optimizer_v2: \n",
      "\n",
      "2025/08/21 21:10:46 INFO dspy.teleprompt.mipro_optimizer_v2: Returning best identified program with score 82.0!\n"
     ]
    },
    {
     "name": "stdout",
     "output_type": "stream",
     "text": [
      "🏃 View run eval_full_2 at: http://127.0.0.1:8080/#/experiments/452970844726359155/runs/a8adc26ac4044ef6b76807949ee188e0\n",
      "🧪 View experiment at: http://127.0.0.1:8080/#/experiments/452970844726359155\n"
     ]
    },
    {
     "name": "stderr",
     "output_type": "stream",
     "text": [
      "Downloading artifacts: 100%|██████████| 1/1 [00:00<00:00, 19.97it/s]\n",
      "2025/08/21 21:10:47 INFO mlflow.utils.autologging_utils: Created MLflow autologging run with ID 'ba955584bb5e4ffa9faf691a1ea06450', which will track hyperparameters, performance metrics, model artifacts, and lineage information for the current dspy workflow\n",
      "2025/08/21 21:10:47 INFO dspy.teleprompt.mipro_optimizer_v2: \n",
      "RUNNING WITH THE FOLLOWING LIGHT AUTO RUN SETTINGS:\n",
      "num_trials: 10\n",
      "minibatch: True\n",
      "num_fewshot_candidates: 6\n",
      "num_instruct_candidates: 3\n",
      "valset size: 100\n",
      "\n",
      "2025/08/21 21:10:47 INFO dspy.teleprompt.mipro_optimizer_v2: \n",
      "==> STEP 1: BOOTSTRAP FEWSHOT EXAMPLES <==\n",
      "2025/08/21 21:10:47 INFO dspy.teleprompt.mipro_optimizer_v2: These will be used as few-shot example candidates for our program and for creating instructions.\n",
      "\n",
      "2025/08/21 21:10:47 INFO dspy.teleprompt.mipro_optimizer_v2: Bootstrapping N=6 sets of demonstrations...\n"
     ]
    },
    {
     "name": "stdout",
     "output_type": "stream",
     "text": [
      "🏃 View run skillful-snail-771 at: http://127.0.0.1:8080/#/experiments/452970844726359155/runs/3eb227fb78264d24b8c9b65f64e51a6c\n",
      "🧪 View experiment at: http://127.0.0.1:8080/#/experiments/452970844726359155\n",
      "✅ neurological classifier optimization completed!\n",
      "\n",
      "============================================================\n",
      "OPTIMIZING CARDIOVASCULAR CLASSIFIER\n",
      "============================================================\n",
      "Bootstrapping set 1/6\n",
      "Bootstrapping set 2/6\n",
      "Bootstrapping set 3/6\n"
     ]
    },
    {
     "name": "stderr",
     "output_type": "stream",
     "text": [
      "Downloading artifacts: 100%|██████████| 1/1 [00:00<00:00, 30.73it/s]\n",
      "  0%|          | 0/400 [00:00<?, ?it/s]/Users/ivan/Workspace/dspy-projects/dspy-biomedic-papers-classifier/.venv/lib/python3.12/site-packages/pydantic/main.py:463: UserWarning: Pydantic serializer warnings:\n",
      "  PydanticSerializationUnexpectedValue(Expected 9 fields but got 6: Expected `Message` - serialized value may not be as expected [input_value=Message(content='[[ ## is...: None}, annotations=[]), input_type=Message])\n",
      "  PydanticSerializationUnexpectedValue(Expected `StreamingChoices` - serialized value may not be as expected [input_value=Choices(finish_reason='st...ider_specific_fields={}), input_type=Choices])\n",
      "  return self.__pydantic_serializer__.to_python(\n",
      "  2%|▏         | 6/400 [00:05<06:15,  1.05it/s]\n"
     ]
    },
    {
     "name": "stdout",
     "output_type": "stream",
     "text": [
      "Bootstrapped 4 full traces after 6 examples for up to 1 rounds, amounting to 6 attempts.\n"
     ]
    },
    {
     "name": "stderr",
     "output_type": "stream",
     "text": [
      "Downloading artifacts: 100%|██████████| 1/1 [00:00<00:00, 30.65it/s]\n"
     ]
    },
    {
     "name": "stdout",
     "output_type": "stream",
     "text": [
      "Bootstrapping set 4/6\n"
     ]
    },
    {
     "name": "stderr",
     "output_type": "stream",
     "text": [
      "Downloading artifacts: 100%|██████████| 1/1 [00:00<00:00, 22.75it/s]\n",
      "  1%|          | 3/400 [00:03<06:41,  1.01s/it]\n"
     ]
    },
    {
     "name": "stdout",
     "output_type": "stream",
     "text": [
      "Bootstrapped 1 full traces after 3 examples for up to 1 rounds, amounting to 3 attempts.\n"
     ]
    },
    {
     "name": "stderr",
     "output_type": "stream",
     "text": [
      "Downloading artifacts: 100%|██████████| 1/1 [00:00<00:00, 30.14it/s]\n"
     ]
    },
    {
     "name": "stdout",
     "output_type": "stream",
     "text": [
      "Bootstrapping set 5/6\n"
     ]
    },
    {
     "name": "stderr",
     "output_type": "stream",
     "text": [
      "Downloading artifacts: 100%|██████████| 1/1 [00:00<00:00, 29.61it/s]\n",
      "  1%|          | 3/400 [00:02<05:54,  1.12it/s]\n"
     ]
    },
    {
     "name": "stdout",
     "output_type": "stream",
     "text": [
      "Bootstrapped 2 full traces after 3 examples for up to 1 rounds, amounting to 3 attempts.\n"
     ]
    },
    {
     "name": "stderr",
     "output_type": "stream",
     "text": [
      "Downloading artifacts: 100%|██████████| 1/1 [00:00<00:00, 29.03it/s]\n"
     ]
    },
    {
     "name": "stdout",
     "output_type": "stream",
     "text": [
      "Bootstrapping set 6/6\n"
     ]
    },
    {
     "name": "stderr",
     "output_type": "stream",
     "text": [
      "Downloading artifacts: 100%|██████████| 1/1 [00:00<00:00, 28.50it/s]\n",
      "  0%|          | 2/400 [00:01<05:42,  1.16it/s]\n"
     ]
    },
    {
     "name": "stdout",
     "output_type": "stream",
     "text": [
      "Bootstrapped 2 full traces after 2 examples for up to 1 rounds, amounting to 2 attempts.\n"
     ]
    },
    {
     "name": "stderr",
     "output_type": "stream",
     "text": [
      "Downloading artifacts: 100%|██████████| 1/1 [00:00<00:00, 29.13it/s]\n",
      "2025/08/21 21:11:03 INFO dspy.teleprompt.mipro_optimizer_v2: \n",
      "==> STEP 2: PROPOSE INSTRUCTION CANDIDATES <==\n",
      "2025/08/21 21:11:03 INFO dspy.teleprompt.mipro_optimizer_v2: We will use the few-shot examples from the previous step, a generated dataset summary, a summary of the program code, and a randomly selected prompting tip to propose instructions.\n",
      "2025/08/21 21:11:04 INFO dspy.teleprompt.mipro_optimizer_v2: \n",
      "Proposing N=3 instructions...\n",
      "\n",
      "2025/08/21 21:11:33 INFO dspy.teleprompt.mipro_optimizer_v2: Proposed Instructions for Predictor 0:\n",
      "\n",
      "2025/08/21 21:11:33 INFO dspy.teleprompt.mipro_optimizer_v2: 0: Classifies if a biomedical paper is related to cardiovascular conditions.\n",
      "\n",
      "2025/08/21 21:11:33 INFO dspy.teleprompt.mipro_optimizer_v2: 1: Given the title and abstract of a biomedical research article, determine whether the article is primarily related to cardiovascular topics (such as heart disease, blood vessels, hypertension, or other cardiovascular conditions). Analyze both the explicit disease mentions and the overall context, considering domain-specific terminology. Respond with \"True\" if the article is relevant to cardiovascular medicine or research, or \"False\" if it is not.\n",
      "\n",
      "2025/08/21 21:11:33 INFO dspy.teleprompt.mipro_optimizer_v2: 2: You are assisting a team of medical researchers who are conducting a rapid evidence synthesis for a new cardiovascular treatment guideline. Accurate identification of relevant literature is critical, as missing key cardiovascular studies could have serious implications for patient care. Given the title and abstract of a biomedical publication, determine with high confidence whether the paper is about cardiovascular topics (such as heart disease, blood vessels, hypertension, cardiac treatments, etc.). Respond with \"Is Cardiovascular: True\" if the publication is focused on cardiovascular medicine, or \"Is Cardiovascular: False\" if it is not. Err on the side of caution—only label as \"True\" if the evidence is clear, as false positives could compromise the integrity of the guideline.\n",
      "\n",
      "2025/08/21 21:11:33 INFO dspy.teleprompt.mipro_optimizer_v2: \n",
      "\n",
      "2025/08/21 21:11:33 INFO dspy.teleprompt.mipro_optimizer_v2: ==> STEP 3: FINDING OPTIMAL PROMPT PARAMETERS <==\n",
      "2025/08/21 21:11:33 INFO dspy.teleprompt.mipro_optimizer_v2: We will evaluate the program over a series of trials with different combinations of instructions and few-shot examples to find the optimal combination using Bayesian Optimization.\n",
      "\n",
      "2025/08/21 21:11:33 INFO dspy.teleprompt.mipro_optimizer_v2: == Trial 1 / 13 - Full Evaluation of Default Program ==\n"
     ]
    },
    {
     "name": "stdout",
     "output_type": "stream",
     "text": [
      "Average Metric: 75.00 / 100 (75.0%): 100%|██████████| 100/100 [00:10<00:00,  9.88it/s]"
     ]
    },
    {
     "name": "stderr",
     "output_type": "stream",
     "text": [
      "2025/08/21 21:11:43 INFO dspy.evaluate.evaluate: Average Metric: 75 / 100 (75.0%)\n"
     ]
    },
    {
     "name": "stdout",
     "output_type": "stream",
     "text": [
      "\n"
     ]
    },
    {
     "name": "stderr",
     "output_type": "stream",
     "text": [
      "2025/08/21 21:11:44 INFO dspy.teleprompt.mipro_optimizer_v2: Default program score: 75.0\n",
      "\n",
      "2025/08/21 21:11:44 INFO dspy.teleprompt.mipro_optimizer_v2: == Trial 2 / 13 - Minibatch ==\n"
     ]
    },
    {
     "name": "stdout",
     "output_type": "stream",
     "text": [
      "🏃 View run eval_full_0 at: http://127.0.0.1:8080/#/experiments/452970844726359155/runs/2999e3fd3a8345d3ab91dff10a798711\n",
      "🧪 View experiment at: http://127.0.0.1:8080/#/experiments/452970844726359155\n",
      "Average Metric: 22.00 / 35 (62.9%): 100%|██████████| 35/35 [00:06<00:00,  5.42it/s]"
     ]
    },
    {
     "name": "stderr",
     "output_type": "stream",
     "text": [
      "2025/08/21 21:11:50 INFO dspy.evaluate.evaluate: Average Metric: 22 / 35 (62.9%)\n"
     ]
    },
    {
     "name": "stdout",
     "output_type": "stream",
     "text": [
      "\n"
     ]
    },
    {
     "name": "stderr",
     "output_type": "stream",
     "text": [
      "2025/08/21 21:11:51 INFO dspy.teleprompt.mipro_optimizer_v2: Score: 62.86 on minibatch of size 35 with parameters ['Predictor 0: Instruction 1', 'Predictor 0: Few-Shot Set 3'].\n",
      "2025/08/21 21:11:51 INFO dspy.teleprompt.mipro_optimizer_v2: Minibatch scores so far: [62.86]\n",
      "2025/08/21 21:11:51 INFO dspy.teleprompt.mipro_optimizer_v2: Full eval scores so far: [75.0]\n",
      "2025/08/21 21:11:51 INFO dspy.teleprompt.mipro_optimizer_v2: Best full score so far: 75.0\n",
      "2025/08/21 21:11:51 INFO dspy.teleprompt.mipro_optimizer_v2: =========================================\n",
      "\n",
      "\n",
      "2025/08/21 21:11:51 INFO dspy.teleprompt.mipro_optimizer_v2: == Trial 3 / 13 - Minibatch ==\n"
     ]
    },
    {
     "name": "stdout",
     "output_type": "stream",
     "text": [
      "🏃 View run eval_minibatch_0 at: http://127.0.0.1:8080/#/experiments/452970844726359155/runs/704cdd49d0ea42c79853863fc5388a27\n",
      "🧪 View experiment at: http://127.0.0.1:8080/#/experiments/452970844726359155\n",
      "Average Metric: 29.00 / 35 (82.9%): 100%|██████████| 35/35 [00:03<00:00,  9.04it/s]"
     ]
    },
    {
     "name": "stderr",
     "output_type": "stream",
     "text": [
      "2025/08/21 21:11:55 INFO dspy.evaluate.evaluate: Average Metric: 29 / 35 (82.9%)\n"
     ]
    },
    {
     "name": "stdout",
     "output_type": "stream",
     "text": [
      "\n"
     ]
    },
    {
     "name": "stderr",
     "output_type": "stream",
     "text": [
      "2025/08/21 21:11:55 INFO dspy.teleprompt.mipro_optimizer_v2: Score: 82.86 on minibatch of size 35 with parameters ['Predictor 0: Instruction 2', 'Predictor 0: Few-Shot Set 0'].\n",
      "2025/08/21 21:11:55 INFO dspy.teleprompt.mipro_optimizer_v2: Minibatch scores so far: [62.86, 82.86]\n",
      "2025/08/21 21:11:55 INFO dspy.teleprompt.mipro_optimizer_v2: Full eval scores so far: [75.0]\n",
      "2025/08/21 21:11:55 INFO dspy.teleprompt.mipro_optimizer_v2: Best full score so far: 75.0\n",
      "2025/08/21 21:11:55 INFO dspy.teleprompt.mipro_optimizer_v2: =========================================\n",
      "\n",
      "\n",
      "2025/08/21 21:11:55 INFO dspy.teleprompt.mipro_optimizer_v2: == Trial 4 / 13 - Minibatch ==\n"
     ]
    },
    {
     "name": "stdout",
     "output_type": "stream",
     "text": [
      "🏃 View run eval_minibatch_1 at: http://127.0.0.1:8080/#/experiments/452970844726359155/runs/f4f55286b2da4363b18b1fde1bccf686\n",
      "🧪 View experiment at: http://127.0.0.1:8080/#/experiments/452970844726359155\n",
      "Average Metric: 26.00 / 35 (74.3%): 100%|██████████| 35/35 [00:09<00:00,  3.76it/s]"
     ]
    },
    {
     "name": "stderr",
     "output_type": "stream",
     "text": [
      "2025/08/21 21:12:05 INFO dspy.evaluate.evaluate: Average Metric: 26 / 35 (74.3%)\n"
     ]
    },
    {
     "name": "stdout",
     "output_type": "stream",
     "text": [
      "\n"
     ]
    },
    {
     "name": "stderr",
     "output_type": "stream",
     "text": [
      "2025/08/21 21:12:06 INFO dspy.teleprompt.mipro_optimizer_v2: Score: 74.29 on minibatch of size 35 with parameters ['Predictor 0: Instruction 1', 'Predictor 0: Few-Shot Set 5'].\n",
      "2025/08/21 21:12:06 INFO dspy.teleprompt.mipro_optimizer_v2: Minibatch scores so far: [62.86, 82.86, 74.29]\n",
      "2025/08/21 21:12:06 INFO dspy.teleprompt.mipro_optimizer_v2: Full eval scores so far: [75.0]\n",
      "2025/08/21 21:12:06 INFO dspy.teleprompt.mipro_optimizer_v2: Best full score so far: 75.0\n",
      "2025/08/21 21:12:06 INFO dspy.teleprompt.mipro_optimizer_v2: =========================================\n",
      "\n",
      "\n",
      "2025/08/21 21:12:06 INFO dspy.teleprompt.mipro_optimizer_v2: == Trial 5 / 13 - Minibatch ==\n"
     ]
    },
    {
     "name": "stdout",
     "output_type": "stream",
     "text": [
      "🏃 View run eval_minibatch_2 at: http://127.0.0.1:8080/#/experiments/452970844726359155/runs/ae895b8ce24a41c0b94695b2325808f0\n",
      "🧪 View experiment at: http://127.0.0.1:8080/#/experiments/452970844726359155\n",
      "Average Metric: 27.00 / 35 (77.1%): 100%|██████████| 35/35 [00:06<00:00,  5.30it/s]"
     ]
    },
    {
     "name": "stderr",
     "output_type": "stream",
     "text": [
      "2025/08/21 21:12:12 INFO dspy.evaluate.evaluate: Average Metric: 27 / 35 (77.1%)\n"
     ]
    },
    {
     "name": "stdout",
     "output_type": "stream",
     "text": [
      "\n"
     ]
    },
    {
     "name": "stderr",
     "output_type": "stream",
     "text": [
      "2025/08/21 21:12:13 INFO dspy.teleprompt.mipro_optimizer_v2: Score: 77.14 on minibatch of size 35 with parameters ['Predictor 0: Instruction 2', 'Predictor 0: Few-Shot Set 2'].\n",
      "2025/08/21 21:12:13 INFO dspy.teleprompt.mipro_optimizer_v2: Minibatch scores so far: [62.86, 82.86, 74.29, 77.14]\n",
      "2025/08/21 21:12:13 INFO dspy.teleprompt.mipro_optimizer_v2: Full eval scores so far: [75.0]\n",
      "2025/08/21 21:12:13 INFO dspy.teleprompt.mipro_optimizer_v2: Best full score so far: 75.0\n",
      "2025/08/21 21:12:13 INFO dspy.teleprompt.mipro_optimizer_v2: =========================================\n",
      "\n",
      "\n",
      "2025/08/21 21:12:13 INFO dspy.teleprompt.mipro_optimizer_v2: == Trial 6 / 13 - Minibatch ==\n"
     ]
    },
    {
     "name": "stdout",
     "output_type": "stream",
     "text": [
      "🏃 View run eval_minibatch_3 at: http://127.0.0.1:8080/#/experiments/452970844726359155/runs/227e72b9287f49c7994a4438ec1d9087\n",
      "🧪 View experiment at: http://127.0.0.1:8080/#/experiments/452970844726359155\n",
      "Average Metric: 30.00 / 35 (85.7%): 100%|██████████| 35/35 [00:05<00:00,  5.91it/s]"
     ]
    },
    {
     "name": "stderr",
     "output_type": "stream",
     "text": [
      "2025/08/21 21:12:19 INFO dspy.evaluate.evaluate: Average Metric: 30 / 35 (85.7%)\n"
     ]
    },
    {
     "name": "stdout",
     "output_type": "stream",
     "text": [
      "\n"
     ]
    },
    {
     "name": "stderr",
     "output_type": "stream",
     "text": [
      "2025/08/21 21:12:20 INFO dspy.teleprompt.mipro_optimizer_v2: Score: 85.71 on minibatch of size 35 with parameters ['Predictor 0: Instruction 0', 'Predictor 0: Few-Shot Set 5'].\n",
      "2025/08/21 21:12:20 INFO dspy.teleprompt.mipro_optimizer_v2: Minibatch scores so far: [62.86, 82.86, 74.29, 77.14, 85.71]\n",
      "2025/08/21 21:12:20 INFO dspy.teleprompt.mipro_optimizer_v2: Full eval scores so far: [75.0]\n",
      "2025/08/21 21:12:20 INFO dspy.teleprompt.mipro_optimizer_v2: Best full score so far: 75.0\n",
      "2025/08/21 21:12:20 INFO dspy.teleprompt.mipro_optimizer_v2: =========================================\n",
      "\n",
      "\n",
      "2025/08/21 21:12:20 INFO dspy.teleprompt.mipro_optimizer_v2: ===== Trial 7 / 13 - Full Evaluation =====\n",
      "2025/08/21 21:12:20 INFO dspy.teleprompt.mipro_optimizer_v2: Doing full eval on next top averaging program (Avg Score: 85.71) from minibatch trials...\n"
     ]
    },
    {
     "name": "stdout",
     "output_type": "stream",
     "text": [
      "🏃 View run eval_minibatch_4 at: http://127.0.0.1:8080/#/experiments/452970844726359155/runs/bc6d906a770b4f54b7c826fdd80f3722\n",
      "🧪 View experiment at: http://127.0.0.1:8080/#/experiments/452970844726359155\n",
      "Average Metric: 78.00 / 100 (78.0%): 100%|██████████| 100/100 [00:16<00:00,  6.11it/s]"
     ]
    },
    {
     "name": "stderr",
     "output_type": "stream",
     "text": [
      "2025/08/21 21:12:36 INFO dspy.evaluate.evaluate: Average Metric: 78 / 100 (78.0%)\n"
     ]
    },
    {
     "name": "stdout",
     "output_type": "stream",
     "text": [
      "\n",
      "🏃 View run eval_full_1 at: http://127.0.0.1:8080/#/experiments/452970844726359155/runs/d63ff1042f4647919349c57ae29bd238\n",
      "🧪 View experiment at: http://127.0.0.1:8080/#/experiments/452970844726359155\n"
     ]
    },
    {
     "name": "stderr",
     "output_type": "stream",
     "text": [
      "2025/08/21 21:12:37 INFO dspy.teleprompt.mipro_optimizer_v2: \u001b[92mNew best full eval score!\u001b[0m Score: 78.0\n",
      "2025/08/21 21:12:37 INFO dspy.teleprompt.mipro_optimizer_v2: Full eval scores so far: [75.0, 78.0]\n",
      "2025/08/21 21:12:37 INFO dspy.teleprompt.mipro_optimizer_v2: Best full score so far: 78.0\n",
      "2025/08/21 21:12:37 INFO dspy.teleprompt.mipro_optimizer_v2: =======================\n",
      "2025/08/21 21:12:37 INFO dspy.teleprompt.mipro_optimizer_v2: \n",
      "\n",
      "2025/08/21 21:12:37 INFO dspy.teleprompt.mipro_optimizer_v2: == Trial 8 / 13 - Minibatch ==\n"
     ]
    },
    {
     "name": "stdout",
     "output_type": "stream",
     "text": [
      "Average Metric: 33.00 / 35 (94.3%): 100%|██████████| 35/35 [00:03<00:00,  9.83it/s]"
     ]
    },
    {
     "name": "stderr",
     "output_type": "stream",
     "text": [
      "2025/08/21 21:12:41 INFO dspy.evaluate.evaluate: Average Metric: 33 / 35 (94.3%)\n"
     ]
    },
    {
     "name": "stdout",
     "output_type": "stream",
     "text": [
      "\n",
      "🏃 View run eval_minibatch_5 at: http://127.0.0.1:8080/#/experiments/452970844726359155/runs/a096c2b378fe488ea94a536232ab3843\n",
      "🧪 View experiment at: http://127.0.0.1:8080/#/experiments/452970844726359155\n"
     ]
    },
    {
     "name": "stderr",
     "output_type": "stream",
     "text": [
      "2025/08/21 21:12:42 INFO dspy.teleprompt.mipro_optimizer_v2: Score: 94.29 on minibatch of size 35 with parameters ['Predictor 0: Instruction 2', 'Predictor 0: Few-Shot Set 0'].\n",
      "2025/08/21 21:12:42 INFO dspy.teleprompt.mipro_optimizer_v2: Minibatch scores so far: [62.86, 82.86, 74.29, 77.14, 85.71, 94.29]\n",
      "2025/08/21 21:12:42 INFO dspy.teleprompt.mipro_optimizer_v2: Full eval scores so far: [75.0, 78.0]\n",
      "2025/08/21 21:12:42 INFO dspy.teleprompt.mipro_optimizer_v2: Best full score so far: 78.0\n",
      "2025/08/21 21:12:42 INFO dspy.teleprompt.mipro_optimizer_v2: =========================================\n",
      "\n",
      "\n",
      "2025/08/21 21:12:42 INFO dspy.teleprompt.mipro_optimizer_v2: == Trial 9 / 13 - Minibatch ==\n"
     ]
    },
    {
     "name": "stdout",
     "output_type": "stream",
     "text": [
      "Average Metric: 31.00 / 35 (88.6%): 100%|██████████| 35/35 [00:06<00:00,  5.23it/s]"
     ]
    },
    {
     "name": "stderr",
     "output_type": "stream",
     "text": [
      "2025/08/21 21:12:49 INFO dspy.evaluate.evaluate: Average Metric: 31 / 35 (88.6%)\n"
     ]
    },
    {
     "name": "stdout",
     "output_type": "stream",
     "text": [
      "\n",
      "🏃 View run eval_minibatch_6 at: http://127.0.0.1:8080/#/experiments/452970844726359155/runs/68499b85fcc34b40a4bef53951441842\n",
      "🧪 View experiment at: http://127.0.0.1:8080/#/experiments/452970844726359155\n"
     ]
    },
    {
     "name": "stderr",
     "output_type": "stream",
     "text": [
      "2025/08/21 21:12:49 INFO dspy.teleprompt.mipro_optimizer_v2: Score: 88.57 on minibatch of size 35 with parameters ['Predictor 0: Instruction 2', 'Predictor 0: Few-Shot Set 5'].\n",
      "2025/08/21 21:12:49 INFO dspy.teleprompt.mipro_optimizer_v2: Minibatch scores so far: [62.86, 82.86, 74.29, 77.14, 85.71, 94.29, 88.57]\n",
      "2025/08/21 21:12:49 INFO dspy.teleprompt.mipro_optimizer_v2: Full eval scores so far: [75.0, 78.0]\n",
      "2025/08/21 21:12:49 INFO dspy.teleprompt.mipro_optimizer_v2: Best full score so far: 78.0\n",
      "2025/08/21 21:12:49 INFO dspy.teleprompt.mipro_optimizer_v2: =========================================\n",
      "\n",
      "\n",
      "2025/08/21 21:12:49 INFO dspy.teleprompt.mipro_optimizer_v2: == Trial 10 / 13 - Minibatch ==\n"
     ]
    },
    {
     "name": "stdout",
     "output_type": "stream",
     "text": [
      "Average Metric: 30.00 / 35 (85.7%): 100%|██████████| 35/35 [00:06<00:00,  5.77it/s]"
     ]
    },
    {
     "name": "stderr",
     "output_type": "stream",
     "text": [
      "2025/08/21 21:12:56 INFO dspy.evaluate.evaluate: Average Metric: 30 / 35 (85.7%)\n"
     ]
    },
    {
     "name": "stdout",
     "output_type": "stream",
     "text": [
      "\n",
      "🏃 View run eval_minibatch_7 at: http://127.0.0.1:8080/#/experiments/452970844726359155/runs/837cb8692fb34818813b177229dfcfad\n",
      "🧪 View experiment at: http://127.0.0.1:8080/#/experiments/452970844726359155\n"
     ]
    },
    {
     "name": "stderr",
     "output_type": "stream",
     "text": [
      "2025/08/21 21:12:56 INFO dspy.teleprompt.mipro_optimizer_v2: Score: 85.71 on minibatch of size 35 with parameters ['Predictor 0: Instruction 1', 'Predictor 0: Few-Shot Set 4'].\n",
      "2025/08/21 21:12:56 INFO dspy.teleprompt.mipro_optimizer_v2: Minibatch scores so far: [62.86, 82.86, 74.29, 77.14, 85.71, 94.29, 88.57, 85.71]\n",
      "2025/08/21 21:12:56 INFO dspy.teleprompt.mipro_optimizer_v2: Full eval scores so far: [75.0, 78.0]\n",
      "2025/08/21 21:12:56 INFO dspy.teleprompt.mipro_optimizer_v2: Best full score so far: 78.0\n",
      "2025/08/21 21:12:56 INFO dspy.teleprompt.mipro_optimizer_v2: ==========================================\n",
      "\n",
      "\n",
      "2025/08/21 21:12:56 INFO dspy.teleprompt.mipro_optimizer_v2: == Trial 11 / 13 - Minibatch ==\n"
     ]
    },
    {
     "name": "stdout",
     "output_type": "stream",
     "text": [
      "Average Metric: 31.00 / 35 (88.6%): 100%|██████████| 35/35 [00:06<00:00,  5.39it/s] "
     ]
    },
    {
     "name": "stderr",
     "output_type": "stream",
     "text": [
      "2025/08/21 21:13:03 INFO dspy.evaluate.evaluate: Average Metric: 31 / 35 (88.6%)\n"
     ]
    },
    {
     "name": "stdout",
     "output_type": "stream",
     "text": [
      "\n",
      "🏃 View run eval_minibatch_8 at: http://127.0.0.1:8080/#/experiments/452970844726359155/runs/391ab3c4ab0c4f1f86fd76938a1aec5b\n",
      "🧪 View experiment at: http://127.0.0.1:8080/#/experiments/452970844726359155\n"
     ]
    },
    {
     "name": "stderr",
     "output_type": "stream",
     "text": [
      "2025/08/21 21:13:04 INFO dspy.teleprompt.mipro_optimizer_v2: Score: 88.57 on minibatch of size 35 with parameters ['Predictor 0: Instruction 2', 'Predictor 0: Few-Shot Set 4'].\n",
      "2025/08/21 21:13:04 INFO dspy.teleprompt.mipro_optimizer_v2: Minibatch scores so far: [62.86, 82.86, 74.29, 77.14, 85.71, 94.29, 88.57, 85.71, 88.57]\n",
      "2025/08/21 21:13:04 INFO dspy.teleprompt.mipro_optimizer_v2: Full eval scores so far: [75.0, 78.0]\n",
      "2025/08/21 21:13:04 INFO dspy.teleprompt.mipro_optimizer_v2: Best full score so far: 78.0\n",
      "2025/08/21 21:13:04 INFO dspy.teleprompt.mipro_optimizer_v2: ==========================================\n",
      "\n",
      "\n",
      "2025/08/21 21:13:04 INFO dspy.teleprompt.mipro_optimizer_v2: == Trial 12 / 13 - Minibatch ==\n"
     ]
    },
    {
     "name": "stdout",
     "output_type": "stream",
     "text": [
      "Average Metric: 32.00 / 35 (91.4%): 100%|██████████| 35/35 [00:05<00:00,  5.99it/s]"
     ]
    },
    {
     "name": "stderr",
     "output_type": "stream",
     "text": [
      "2025/08/21 21:13:10 INFO dspy.evaluate.evaluate: Average Metric: 32 / 35 (91.4%)\n"
     ]
    },
    {
     "name": "stdout",
     "output_type": "stream",
     "text": [
      "\n",
      "🏃 View run eval_minibatch_9 at: http://127.0.0.1:8080/#/experiments/452970844726359155/runs/3a7fea1048504170a338f6d76531cdb9\n",
      "🧪 View experiment at: http://127.0.0.1:8080/#/experiments/452970844726359155\n"
     ]
    },
    {
     "name": "stderr",
     "output_type": "stream",
     "text": [
      "2025/08/21 21:13:11 INFO dspy.teleprompt.mipro_optimizer_v2: Score: 91.43 on minibatch of size 35 with parameters ['Predictor 0: Instruction 2', 'Predictor 0: Few-Shot Set 5'].\n",
      "2025/08/21 21:13:11 INFO dspy.teleprompt.mipro_optimizer_v2: Minibatch scores so far: [62.86, 82.86, 74.29, 77.14, 85.71, 94.29, 88.57, 85.71, 88.57, 91.43]\n",
      "2025/08/21 21:13:11 INFO dspy.teleprompt.mipro_optimizer_v2: Full eval scores so far: [75.0, 78.0]\n",
      "2025/08/21 21:13:11 INFO dspy.teleprompt.mipro_optimizer_v2: Best full score so far: 78.0\n",
      "2025/08/21 21:13:11 INFO dspy.teleprompt.mipro_optimizer_v2: ==========================================\n",
      "\n",
      "\n",
      "2025/08/21 21:13:11 INFO dspy.teleprompt.mipro_optimizer_v2: ===== Trial 13 / 13 - Full Evaluation =====\n",
      "2025/08/21 21:13:11 INFO dspy.teleprompt.mipro_optimizer_v2: Doing full eval on next top averaging program (Avg Score: 90.0) from minibatch trials...\n"
     ]
    },
    {
     "name": "stdout",
     "output_type": "stream",
     "text": [
      "Average Metric: 91.00 / 100 (91.0%): 100%|██████████| 100/100 [00:17<00:00,  5.82it/s]"
     ]
    },
    {
     "name": "stderr",
     "output_type": "stream",
     "text": [
      "2025/08/21 21:13:28 INFO dspy.evaluate.evaluate: Average Metric: 91 / 100 (91.0%)\n"
     ]
    },
    {
     "name": "stdout",
     "output_type": "stream",
     "text": [
      "\n",
      "🏃 View run eval_full_2 at: http://127.0.0.1:8080/#/experiments/452970844726359155/runs/5edcccea2cdd4bb1ba748c8941abbaaa\n",
      "🧪 View experiment at: http://127.0.0.1:8080/#/experiments/452970844726359155\n"
     ]
    },
    {
     "name": "stderr",
     "output_type": "stream",
     "text": [
      "2025/08/21 21:13:29 INFO dspy.teleprompt.mipro_optimizer_v2: \u001b[92mNew best full eval score!\u001b[0m Score: 91.0\n",
      "2025/08/21 21:13:29 INFO dspy.teleprompt.mipro_optimizer_v2: Full eval scores so far: [75.0, 78.0, 91.0]\n",
      "2025/08/21 21:13:29 INFO dspy.teleprompt.mipro_optimizer_v2: Best full score so far: 91.0\n",
      "2025/08/21 21:13:29 INFO dspy.teleprompt.mipro_optimizer_v2: =======================\n",
      "2025/08/21 21:13:29 INFO dspy.teleprompt.mipro_optimizer_v2: \n",
      "\n",
      "2025/08/21 21:13:29 INFO dspy.teleprompt.mipro_optimizer_v2: Returning best identified program with score 91.0!\n",
      "Downloading artifacts: 100%|██████████| 1/1 [00:00<00:00, 14.12it/s]\n",
      "2025/08/21 21:13:30 INFO mlflow.utils.autologging_utils: Created MLflow autologging run with ID 'fc4bedcd040a4f2ba6d5a078ee222d66', which will track hyperparameters, performance metrics, model artifacts, and lineage information for the current dspy workflow\n",
      "2025/08/21 21:13:30 INFO dspy.teleprompt.mipro_optimizer_v2: \n",
      "RUNNING WITH THE FOLLOWING LIGHT AUTO RUN SETTINGS:\n",
      "num_trials: 10\n",
      "minibatch: True\n",
      "num_fewshot_candidates: 6\n",
      "num_instruct_candidates: 3\n",
      "valset size: 100\n",
      "\n",
      "2025/08/21 21:13:30 INFO dspy.teleprompt.mipro_optimizer_v2: \n",
      "==> STEP 1: BOOTSTRAP FEWSHOT EXAMPLES <==\n",
      "2025/08/21 21:13:30 INFO dspy.teleprompt.mipro_optimizer_v2: These will be used as few-shot example candidates for our program and for creating instructions.\n",
      "\n",
      "2025/08/21 21:13:30 INFO dspy.teleprompt.mipro_optimizer_v2: Bootstrapping N=6 sets of demonstrations...\n"
     ]
    },
    {
     "name": "stdout",
     "output_type": "stream",
     "text": [
      "🏃 View run invincible-crane-7 at: http://127.0.0.1:8080/#/experiments/452970844726359155/runs/ba955584bb5e4ffa9faf691a1ea06450\n",
      "🧪 View experiment at: http://127.0.0.1:8080/#/experiments/452970844726359155\n",
      "✅ cardiovascular classifier optimization completed!\n",
      "\n",
      "============================================================\n",
      "OPTIMIZING HEPATORENAL CLASSIFIER\n",
      "============================================================\n",
      "Bootstrapping set 1/6\n",
      "Bootstrapping set 2/6\n",
      "Bootstrapping set 3/6\n"
     ]
    },
    {
     "name": "stderr",
     "output_type": "stream",
     "text": [
      "Downloading artifacts: 100%|██████████| 1/1 [00:00<00:00, 18.98it/s]\n",
      "  0%|          | 0/400 [00:00<?, ?it/s]/Users/ivan/Workspace/dspy-projects/dspy-biomedic-papers-classifier/.venv/lib/python3.12/site-packages/pydantic/main.py:463: UserWarning: Pydantic serializer warnings:\n",
      "  PydanticSerializationUnexpectedValue(Expected 9 fields but got 6: Expected `Message` - serialized value may not be as expected [input_value=Message(content='[[ ## is...: None}, annotations=[]), input_type=Message])\n",
      "  PydanticSerializationUnexpectedValue(Expected `StreamingChoices` - serialized value may not be as expected [input_value=Choices(finish_reason='st...ider_specific_fields={}), input_type=Choices])\n",
      "  return self.__pydantic_serializer__.to_python(\n",
      "  1%|          | 4/400 [00:04<07:09,  1.09s/it]\n"
     ]
    },
    {
     "name": "stdout",
     "output_type": "stream",
     "text": [
      "Bootstrapped 4 full traces after 4 examples for up to 1 rounds, amounting to 4 attempts.\n"
     ]
    },
    {
     "name": "stderr",
     "output_type": "stream",
     "text": [
      "Downloading artifacts: 100%|██████████| 1/1 [00:00<00:00, 18.55it/s]\n"
     ]
    },
    {
     "name": "stdout",
     "output_type": "stream",
     "text": [
      "Bootstrapping set 4/6\n"
     ]
    },
    {
     "name": "stderr",
     "output_type": "stream",
     "text": [
      "Downloading artifacts: 100%|██████████| 1/1 [00:00<00:00, 18.58it/s]\n",
      "  0%|          | 1/400 [00:00<06:30,  1.02it/s]\n"
     ]
    },
    {
     "name": "stdout",
     "output_type": "stream",
     "text": [
      "Bootstrapped 1 full traces after 1 examples for up to 1 rounds, amounting to 1 attempts.\n"
     ]
    },
    {
     "name": "stderr",
     "output_type": "stream",
     "text": [
      "Downloading artifacts: 100%|██████████| 1/1 [00:00<00:00, 17.85it/s]\n"
     ]
    },
    {
     "name": "stdout",
     "output_type": "stream",
     "text": [
      "Bootstrapping set 5/6\n"
     ]
    },
    {
     "name": "stderr",
     "output_type": "stream",
     "text": [
      "Downloading artifacts: 100%|██████████| 1/1 [00:00<00:00, 18.35it/s]\n",
      "  0%|          | 2/400 [00:01<05:24,  1.23it/s]\n"
     ]
    },
    {
     "name": "stdout",
     "output_type": "stream",
     "text": [
      "Bootstrapped 2 full traces after 2 examples for up to 1 rounds, amounting to 2 attempts.\n"
     ]
    },
    {
     "name": "stderr",
     "output_type": "stream",
     "text": [
      "Downloading artifacts: 100%|██████████| 1/1 [00:00<00:00, 17.41it/s]\n"
     ]
    },
    {
     "name": "stdout",
     "output_type": "stream",
     "text": [
      "Bootstrapping set 6/6\n"
     ]
    },
    {
     "name": "stderr",
     "output_type": "stream",
     "text": [
      "Downloading artifacts: 100%|██████████| 1/1 [00:00<00:00, 18.43it/s]\n",
      "  0%|          | 2/400 [00:02<07:08,  1.08s/it]\n"
     ]
    },
    {
     "name": "stdout",
     "output_type": "stream",
     "text": [
      "Bootstrapped 2 full traces after 2 examples for up to 1 rounds, amounting to 2 attempts.\n"
     ]
    },
    {
     "name": "stderr",
     "output_type": "stream",
     "text": [
      "Downloading artifacts: 100%|██████████| 1/1 [00:00<00:00, 17.52it/s]\n",
      "2025/08/21 21:13:45 INFO dspy.teleprompt.mipro_optimizer_v2: \n",
      "==> STEP 2: PROPOSE INSTRUCTION CANDIDATES <==\n",
      "2025/08/21 21:13:45 INFO dspy.teleprompt.mipro_optimizer_v2: We will use the few-shot examples from the previous step, a generated dataset summary, a summary of the program code, and a randomly selected prompting tip to propose instructions.\n",
      "2025/08/21 21:13:46 INFO dspy.teleprompt.mipro_optimizer_v2: \n",
      "Proposing N=3 instructions...\n",
      "\n",
      "2025/08/21 21:14:16 INFO dspy.teleprompt.mipro_optimizer_v2: Proposed Instructions for Predictor 0:\n",
      "\n",
      "2025/08/21 21:14:16 INFO dspy.teleprompt.mipro_optimizer_v2: 0: Classifies if a biomedical paper is related to hepatorenal conditions.\n",
      "\n",
      "2025/08/21 21:14:16 INFO dspy.teleprompt.mipro_optimizer_v2: 1: Given the title and abstract of a biomedical research article, determine whether the article discusses hepatorenal conditions—medical issues that involve both the liver and kidneys, such as hepatorenal syndrome or diseases affecting both organs. Analyze the content for explicit mentions or strong indications of liver and kidney involvement, and return `True` if the article is primarily about such hepatorenal topics, or `False` otherwise. Base your decision on medical terminology, context, and relevant disease mentions within the text.\n",
      "\n",
      "2025/08/21 21:14:16 INFO dspy.teleprompt.mipro_optimizer_v2: 2: You are assisting a team of medical researchers conducting a critical systematic review to identify all biomedical literature relevant to hepatorenal conditions, which is essential for guiding urgent clinical recommendations for patients with life-threatening liver and kidney comorbidities. For each provided title and abstract of a biomedical research paper, determine with utmost accuracy whether the paper is related to hepatorenal topics (i.e., conditions involving both the liver and kidneys, such as hepatorenal syndrome or diseases affecting both organs). Output `Is Hepatorenal: True` if the content is relevant, or `Is Hepatorenal: False` if it is not. Your precise classification will directly impact patient care decisions, so be thorough and consider both explicit and implicit references to hepatorenal conditions.\n",
      "\n",
      "2025/08/21 21:14:16 INFO dspy.teleprompt.mipro_optimizer_v2: \n",
      "\n",
      "2025/08/21 21:14:16 INFO dspy.teleprompt.mipro_optimizer_v2: ==> STEP 3: FINDING OPTIMAL PROMPT PARAMETERS <==\n",
      "2025/08/21 21:14:16 INFO dspy.teleprompt.mipro_optimizer_v2: We will evaluate the program over a series of trials with different combinations of instructions and few-shot examples to find the optimal combination using Bayesian Optimization.\n",
      "\n",
      "2025/08/21 21:14:16 INFO dspy.teleprompt.mipro_optimizer_v2: == Trial 1 / 13 - Full Evaluation of Default Program ==\n"
     ]
    },
    {
     "name": "stdout",
     "output_type": "stream",
     "text": [
      "Average Metric: 73.00 / 100 (73.0%): 100%|██████████| 100/100 [00:14<00:00,  6.90it/s]"
     ]
    },
    {
     "name": "stderr",
     "output_type": "stream",
     "text": [
      "2025/08/21 21:14:31 INFO dspy.evaluate.evaluate: Average Metric: 73 / 100 (73.0%)\n"
     ]
    },
    {
     "name": "stdout",
     "output_type": "stream",
     "text": [
      "\n",
      "🏃 View run eval_full_0 at: http://127.0.0.1:8080/#/experiments/452970844726359155/runs/dcad83a83f974cec9ee5915ae75e77ec\n",
      "🧪 View experiment at: http://127.0.0.1:8080/#/experiments/452970844726359155\n"
     ]
    },
    {
     "name": "stderr",
     "output_type": "stream",
     "text": [
      "2025/08/21 21:14:32 INFO dspy.teleprompt.mipro_optimizer_v2: Default program score: 73.0\n",
      "\n",
      "2025/08/21 21:14:32 INFO dspy.teleprompt.mipro_optimizer_v2: == Trial 2 / 13 - Minibatch ==\n"
     ]
    },
    {
     "name": "stdout",
     "output_type": "stream",
     "text": [
      "Average Metric: 23.00 / 35 (65.7%): 100%|██████████| 35/35 [00:08<00:00,  4.27it/s]"
     ]
    },
    {
     "name": "stderr",
     "output_type": "stream",
     "text": [
      "2025/08/21 21:14:40 INFO dspy.evaluate.evaluate: Average Metric: 23 / 35 (65.7%)\n"
     ]
    },
    {
     "name": "stdout",
     "output_type": "stream",
     "text": [
      "\n",
      "🏃 View run eval_minibatch_0 at: http://127.0.0.1:8080/#/experiments/452970844726359155/runs/16e8b8410be74049849f8928b0588e61\n",
      "🧪 View experiment at: http://127.0.0.1:8080/#/experiments/452970844726359155\n"
     ]
    },
    {
     "name": "stderr",
     "output_type": "stream",
     "text": [
      "2025/08/21 21:14:41 INFO dspy.teleprompt.mipro_optimizer_v2: Score: 65.71 on minibatch of size 35 with parameters ['Predictor 0: Instruction 1', 'Predictor 0: Few-Shot Set 3'].\n",
      "2025/08/21 21:14:41 INFO dspy.teleprompt.mipro_optimizer_v2: Minibatch scores so far: [65.71]\n",
      "2025/08/21 21:14:41 INFO dspy.teleprompt.mipro_optimizer_v2: Full eval scores so far: [73.0]\n",
      "2025/08/21 21:14:41 INFO dspy.teleprompt.mipro_optimizer_v2: Best full score so far: 73.0\n",
      "2025/08/21 21:14:41 INFO dspy.teleprompt.mipro_optimizer_v2: =========================================\n",
      "\n",
      "\n",
      "2025/08/21 21:14:41 INFO dspy.teleprompt.mipro_optimizer_v2: == Trial 3 / 13 - Minibatch ==\n"
     ]
    },
    {
     "name": "stdout",
     "output_type": "stream",
     "text": [
      "Average Metric: 23.00 / 35 (65.7%): 100%|██████████| 35/35 [00:05<00:00,  6.08it/s]"
     ]
    },
    {
     "name": "stderr",
     "output_type": "stream",
     "text": [
      "2025/08/21 21:14:47 INFO dspy.evaluate.evaluate: Average Metric: 23 / 35 (65.7%)\n"
     ]
    },
    {
     "name": "stdout",
     "output_type": "stream",
     "text": [
      "\n",
      "🏃 View run eval_minibatch_1 at: http://127.0.0.1:8080/#/experiments/452970844726359155/runs/a2542cf962564c99aa5e43b54e29b836\n",
      "🧪 View experiment at: http://127.0.0.1:8080/#/experiments/452970844726359155\n"
     ]
    },
    {
     "name": "stderr",
     "output_type": "stream",
     "text": [
      "2025/08/21 21:14:48 INFO dspy.teleprompt.mipro_optimizer_v2: Score: 65.71 on minibatch of size 35 with parameters ['Predictor 0: Instruction 2', 'Predictor 0: Few-Shot Set 0'].\n",
      "2025/08/21 21:14:48 INFO dspy.teleprompt.mipro_optimizer_v2: Minibatch scores so far: [65.71, 65.71]\n",
      "2025/08/21 21:14:48 INFO dspy.teleprompt.mipro_optimizer_v2: Full eval scores so far: [73.0]\n",
      "2025/08/21 21:14:48 INFO dspy.teleprompt.mipro_optimizer_v2: Best full score so far: 73.0\n",
      "2025/08/21 21:14:48 INFO dspy.teleprompt.mipro_optimizer_v2: =========================================\n",
      "\n",
      "\n",
      "2025/08/21 21:14:48 INFO dspy.teleprompt.mipro_optimizer_v2: == Trial 4 / 13 - Minibatch ==\n"
     ]
    },
    {
     "name": "stdout",
     "output_type": "stream",
     "text": [
      "Average Metric: 28.00 / 35 (80.0%): 100%|██████████| 35/35 [00:08<00:00,  4.22it/s]"
     ]
    },
    {
     "name": "stderr",
     "output_type": "stream",
     "text": [
      "2025/08/21 21:14:57 INFO dspy.evaluate.evaluate: Average Metric: 28 / 35 (80.0%)\n"
     ]
    },
    {
     "name": "stdout",
     "output_type": "stream",
     "text": [
      "\n",
      "🏃 View run eval_minibatch_2 at: http://127.0.0.1:8080/#/experiments/452970844726359155/runs/56d210c3f29946f78f421ccb889744df\n",
      "🧪 View experiment at: http://127.0.0.1:8080/#/experiments/452970844726359155\n"
     ]
    },
    {
     "name": "stderr",
     "output_type": "stream",
     "text": [
      "2025/08/21 21:14:58 INFO dspy.teleprompt.mipro_optimizer_v2: Score: 80.0 on minibatch of size 35 with parameters ['Predictor 0: Instruction 1', 'Predictor 0: Few-Shot Set 5'].\n",
      "2025/08/21 21:14:58 INFO dspy.teleprompt.mipro_optimizer_v2: Minibatch scores so far: [65.71, 65.71, 80.0]\n",
      "2025/08/21 21:14:58 INFO dspy.teleprompt.mipro_optimizer_v2: Full eval scores so far: [73.0]\n",
      "2025/08/21 21:14:58 INFO dspy.teleprompt.mipro_optimizer_v2: Best full score so far: 73.0\n",
      "2025/08/21 21:14:58 INFO dspy.teleprompt.mipro_optimizer_v2: =========================================\n",
      "\n",
      "\n",
      "2025/08/21 21:14:58 INFO dspy.teleprompt.mipro_optimizer_v2: == Trial 5 / 13 - Minibatch ==\n"
     ]
    },
    {
     "name": "stdout",
     "output_type": "stream",
     "text": [
      "Average Metric: 27.00 / 35 (77.1%): 100%|██████████| 35/35 [00:08<00:00,  4.24it/s]"
     ]
    },
    {
     "name": "stderr",
     "output_type": "stream",
     "text": [
      "2025/08/21 21:15:06 INFO dspy.evaluate.evaluate: Average Metric: 27 / 35 (77.1%)\n"
     ]
    },
    {
     "name": "stdout",
     "output_type": "stream",
     "text": [
      "\n",
      "🏃 View run eval_minibatch_3 at: http://127.0.0.1:8080/#/experiments/452970844726359155/runs/00dcfcfe7b60419fbd08c81013cc09f6\n",
      "🧪 View experiment at: http://127.0.0.1:8080/#/experiments/452970844726359155\n"
     ]
    },
    {
     "name": "stderr",
     "output_type": "stream",
     "text": [
      "2025/08/21 21:15:08 INFO dspy.teleprompt.mipro_optimizer_v2: Score: 77.14 on minibatch of size 35 with parameters ['Predictor 0: Instruction 2', 'Predictor 0: Few-Shot Set 2'].\n",
      "2025/08/21 21:15:08 INFO dspy.teleprompt.mipro_optimizer_v2: Minibatch scores so far: [65.71, 65.71, 80.0, 77.14]\n",
      "2025/08/21 21:15:08 INFO dspy.teleprompt.mipro_optimizer_v2: Full eval scores so far: [73.0]\n",
      "2025/08/21 21:15:08 INFO dspy.teleprompt.mipro_optimizer_v2: Best full score so far: 73.0\n",
      "2025/08/21 21:15:08 INFO dspy.teleprompt.mipro_optimizer_v2: =========================================\n",
      "\n",
      "\n",
      "2025/08/21 21:15:08 INFO dspy.teleprompt.mipro_optimizer_v2: == Trial 6 / 13 - Minibatch ==\n"
     ]
    },
    {
     "name": "stdout",
     "output_type": "stream",
     "text": [
      "Average Metric: 29.00 / 35 (82.9%): 100%|██████████| 35/35 [00:08<00:00,  4.17it/s] "
     ]
    },
    {
     "name": "stderr",
     "output_type": "stream",
     "text": [
      "2025/08/21 21:15:16 INFO dspy.evaluate.evaluate: Average Metric: 29 / 35 (82.9%)\n"
     ]
    },
    {
     "name": "stdout",
     "output_type": "stream",
     "text": [
      "\n",
      "🏃 View run eval_minibatch_4 at: http://127.0.0.1:8080/#/experiments/452970844726359155/runs/3029f22d59ac4b2e9642025180903219\n",
      "🧪 View experiment at: http://127.0.0.1:8080/#/experiments/452970844726359155\n"
     ]
    },
    {
     "name": "stderr",
     "output_type": "stream",
     "text": [
      "2025/08/21 21:15:17 INFO dspy.teleprompt.mipro_optimizer_v2: Score: 82.86 on minibatch of size 35 with parameters ['Predictor 0: Instruction 0', 'Predictor 0: Few-Shot Set 5'].\n",
      "2025/08/21 21:15:17 INFO dspy.teleprompt.mipro_optimizer_v2: Minibatch scores so far: [65.71, 65.71, 80.0, 77.14, 82.86]\n",
      "2025/08/21 21:15:17 INFO dspy.teleprompt.mipro_optimizer_v2: Full eval scores so far: [73.0]\n",
      "2025/08/21 21:15:17 INFO dspy.teleprompt.mipro_optimizer_v2: Best full score so far: 73.0\n",
      "2025/08/21 21:15:17 INFO dspy.teleprompt.mipro_optimizer_v2: =========================================\n",
      "\n",
      "\n",
      "2025/08/21 21:15:17 INFO dspy.teleprompt.mipro_optimizer_v2: ===== Trial 7 / 13 - Full Evaluation =====\n",
      "2025/08/21 21:15:17 INFO dspy.teleprompt.mipro_optimizer_v2: Doing full eval on next top averaging program (Avg Score: 82.86) from minibatch trials...\n"
     ]
    },
    {
     "name": "stdout",
     "output_type": "stream",
     "text": [
      "Average Metric: 84.00 / 100 (84.0%): 100%|██████████| 100/100 [00:22<00:00,  4.51it/s]"
     ]
    },
    {
     "name": "stderr",
     "output_type": "stream",
     "text": [
      "2025/08/21 21:15:40 INFO dspy.evaluate.evaluate: Average Metric: 84 / 100 (84.0%)\n"
     ]
    },
    {
     "name": "stdout",
     "output_type": "stream",
     "text": [
      "\n",
      "🏃 View run eval_full_1 at: http://127.0.0.1:8080/#/experiments/452970844726359155/runs/c4796287b13c49a09aea07ef715efeff\n",
      "🧪 View experiment at: http://127.0.0.1:8080/#/experiments/452970844726359155\n"
     ]
    },
    {
     "name": "stderr",
     "output_type": "stream",
     "text": [
      "2025/08/21 21:15:41 INFO dspy.teleprompt.mipro_optimizer_v2: \u001b[92mNew best full eval score!\u001b[0m Score: 84.0\n",
      "2025/08/21 21:15:41 INFO dspy.teleprompt.mipro_optimizer_v2: Full eval scores so far: [73.0, 84.0]\n",
      "2025/08/21 21:15:41 INFO dspy.teleprompt.mipro_optimizer_v2: Best full score so far: 84.0\n",
      "2025/08/21 21:15:41 INFO dspy.teleprompt.mipro_optimizer_v2: =======================\n",
      "2025/08/21 21:15:41 INFO dspy.teleprompt.mipro_optimizer_v2: \n",
      "\n",
      "2025/08/21 21:15:41 INFO dspy.teleprompt.mipro_optimizer_v2: == Trial 8 / 13 - Minibatch ==\n"
     ]
    },
    {
     "name": "stdout",
     "output_type": "stream",
     "text": [
      "Average Metric: 22.00 / 35 (62.9%): 100%|██████████| 35/35 [00:09<00:00,  3.63it/s]"
     ]
    },
    {
     "name": "stderr",
     "output_type": "stream",
     "text": [
      "2025/08/21 21:15:51 INFO dspy.evaluate.evaluate: Average Metric: 22 / 35 (62.9%)\n"
     ]
    },
    {
     "name": "stdout",
     "output_type": "stream",
     "text": [
      "\n",
      "🏃 View run eval_minibatch_5 at: http://127.0.0.1:8080/#/experiments/452970844726359155/runs/9c9488f552ce44f1b18cc58e6bf9ef45\n",
      "🧪 View experiment at: http://127.0.0.1:8080/#/experiments/452970844726359155\n"
     ]
    },
    {
     "name": "stderr",
     "output_type": "stream",
     "text": [
      "2025/08/21 21:15:52 INFO dspy.teleprompt.mipro_optimizer_v2: Score: 62.86 on minibatch of size 35 with parameters ['Predictor 0: Instruction 2', 'Predictor 0: Few-Shot Set 0'].\n",
      "2025/08/21 21:15:52 INFO dspy.teleprompt.mipro_optimizer_v2: Minibatch scores so far: [65.71, 65.71, 80.0, 77.14, 82.86, 62.86]\n",
      "2025/08/21 21:15:52 INFO dspy.teleprompt.mipro_optimizer_v2: Full eval scores so far: [73.0, 84.0]\n",
      "2025/08/21 21:15:52 INFO dspy.teleprompt.mipro_optimizer_v2: Best full score so far: 84.0\n",
      "2025/08/21 21:15:52 INFO dspy.teleprompt.mipro_optimizer_v2: =========================================\n",
      "\n",
      "\n",
      "2025/08/21 21:15:52 INFO dspy.teleprompt.mipro_optimizer_v2: == Trial 9 / 13 - Minibatch ==\n"
     ]
    },
    {
     "name": "stdout",
     "output_type": "stream",
     "text": [
      "Average Metric: 22.00 / 35 (62.9%): 100%|██████████| 35/35 [00:46<00:00,  1.33s/it]"
     ]
    },
    {
     "name": "stderr",
     "output_type": "stream",
     "text": [
      "2025/08/21 21:16:39 INFO dspy.evaluate.evaluate: Average Metric: 22 / 35 (62.9%)\n"
     ]
    },
    {
     "name": "stdout",
     "output_type": "stream",
     "text": [
      "\n",
      "🏃 View run eval_minibatch_6 at: http://127.0.0.1:8080/#/experiments/452970844726359155/runs/57dc79d04ef64405a95601c3a55a55f4\n",
      "🧪 View experiment at: http://127.0.0.1:8080/#/experiments/452970844726359155\n"
     ]
    },
    {
     "name": "stderr",
     "output_type": "stream",
     "text": [
      "2025/08/21 21:16:40 INFO dspy.teleprompt.mipro_optimizer_v2: Score: 62.86 on minibatch of size 35 with parameters ['Predictor 0: Instruction 2', 'Predictor 0: Few-Shot Set 5'].\n",
      "2025/08/21 21:16:40 INFO dspy.teleprompt.mipro_optimizer_v2: Minibatch scores so far: [65.71, 65.71, 80.0, 77.14, 82.86, 62.86, 62.86]\n",
      "2025/08/21 21:16:40 INFO dspy.teleprompt.mipro_optimizer_v2: Full eval scores so far: [73.0, 84.0]\n",
      "2025/08/21 21:16:40 INFO dspy.teleprompt.mipro_optimizer_v2: Best full score so far: 84.0\n",
      "2025/08/21 21:16:40 INFO dspy.teleprompt.mipro_optimizer_v2: =========================================\n",
      "\n",
      "\n",
      "2025/08/21 21:16:40 INFO dspy.teleprompt.mipro_optimizer_v2: == Trial 10 / 13 - Minibatch ==\n"
     ]
    },
    {
     "name": "stdout",
     "output_type": "stream",
     "text": [
      "Average Metric: 31.00 / 35 (88.6%): 100%|██████████| 35/35 [00:08<00:00,  3.91it/s]"
     ]
    },
    {
     "name": "stderr",
     "output_type": "stream",
     "text": [
      "2025/08/21 21:16:49 INFO dspy.evaluate.evaluate: Average Metric: 31 / 35 (88.6%)\n"
     ]
    },
    {
     "name": "stdout",
     "output_type": "stream",
     "text": [
      "\n",
      "🏃 View run eval_minibatch_7 at: http://127.0.0.1:8080/#/experiments/452970844726359155/runs/2f7212aa46b14d4abbd227139f1c3c30\n",
      "🧪 View experiment at: http://127.0.0.1:8080/#/experiments/452970844726359155\n"
     ]
    },
    {
     "name": "stderr",
     "output_type": "stream",
     "text": [
      "2025/08/21 21:16:50 INFO dspy.teleprompt.mipro_optimizer_v2: Score: 88.57 on minibatch of size 35 with parameters ['Predictor 0: Instruction 1', 'Predictor 0: Few-Shot Set 4'].\n",
      "2025/08/21 21:16:50 INFO dspy.teleprompt.mipro_optimizer_v2: Minibatch scores so far: [65.71, 65.71, 80.0, 77.14, 82.86, 62.86, 62.86, 88.57]\n",
      "2025/08/21 21:16:50 INFO dspy.teleprompt.mipro_optimizer_v2: Full eval scores so far: [73.0, 84.0]\n",
      "2025/08/21 21:16:50 INFO dspy.teleprompt.mipro_optimizer_v2: Best full score so far: 84.0\n",
      "2025/08/21 21:16:50 INFO dspy.teleprompt.mipro_optimizer_v2: ==========================================\n",
      "\n",
      "\n",
      "2025/08/21 21:16:50 INFO dspy.teleprompt.mipro_optimizer_v2: == Trial 11 / 13 - Minibatch ==\n"
     ]
    },
    {
     "name": "stdout",
     "output_type": "stream",
     "text": [
      "Average Metric: 27.00 / 35 (77.1%): 100%|██████████| 35/35 [00:08<00:00,  4.18it/s]"
     ]
    },
    {
     "name": "stderr",
     "output_type": "stream",
     "text": [
      "2025/08/21 21:16:59 INFO dspy.evaluate.evaluate: Average Metric: 27 / 35 (77.1%)\n"
     ]
    },
    {
     "name": "stdout",
     "output_type": "stream",
     "text": [
      "\n",
      "🏃 View run eval_minibatch_8 at: http://127.0.0.1:8080/#/experiments/452970844726359155/runs/5e7a320d10984241a849ce212e094c44\n",
      "🧪 View experiment at: http://127.0.0.1:8080/#/experiments/452970844726359155\n"
     ]
    },
    {
     "name": "stderr",
     "output_type": "stream",
     "text": [
      "2025/08/21 21:17:00 INFO dspy.teleprompt.mipro_optimizer_v2: Score: 77.14 on minibatch of size 35 with parameters ['Predictor 0: Instruction 1', 'Predictor 0: Few-Shot Set 4'].\n",
      "2025/08/21 21:17:00 INFO dspy.teleprompt.mipro_optimizer_v2: Minibatch scores so far: [65.71, 65.71, 80.0, 77.14, 82.86, 62.86, 62.86, 88.57, 77.14]\n",
      "2025/08/21 21:17:00 INFO dspy.teleprompt.mipro_optimizer_v2: Full eval scores so far: [73.0, 84.0]\n",
      "2025/08/21 21:17:00 INFO dspy.teleprompt.mipro_optimizer_v2: Best full score so far: 84.0\n",
      "2025/08/21 21:17:00 INFO dspy.teleprompt.mipro_optimizer_v2: ==========================================\n",
      "\n",
      "\n",
      "2025/08/21 21:17:00 INFO dspy.teleprompt.mipro_optimizer_v2: == Trial 12 / 13 - Minibatch ==\n"
     ]
    },
    {
     "name": "stdout",
     "output_type": "stream",
     "text": [
      "Average Metric: 32.00 / 35 (91.4%): 100%|██████████| 35/35 [00:08<00:00,  3.89it/s] "
     ]
    },
    {
     "name": "stderr",
     "output_type": "stream",
     "text": [
      "2025/08/21 21:17:10 INFO dspy.evaluate.evaluate: Average Metric: 32 / 35 (91.4%)\n"
     ]
    },
    {
     "name": "stdout",
     "output_type": "stream",
     "text": [
      "\n",
      "🏃 View run eval_minibatch_9 at: http://127.0.0.1:8080/#/experiments/452970844726359155/runs/d1eea22ff3534e2198cb2a422492a2e2\n",
      "🧪 View experiment at: http://127.0.0.1:8080/#/experiments/452970844726359155\n"
     ]
    },
    {
     "name": "stderr",
     "output_type": "stream",
     "text": [
      "2025/08/21 21:17:11 INFO dspy.teleprompt.mipro_optimizer_v2: Score: 91.43 on minibatch of size 35 with parameters ['Predictor 0: Instruction 0', 'Predictor 0: Few-Shot Set 4'].\n",
      "2025/08/21 21:17:11 INFO dspy.teleprompt.mipro_optimizer_v2: Minibatch scores so far: [65.71, 65.71, 80.0, 77.14, 82.86, 62.86, 62.86, 88.57, 77.14, 91.43]\n",
      "2025/08/21 21:17:11 INFO dspy.teleprompt.mipro_optimizer_v2: Full eval scores so far: [73.0, 84.0]\n",
      "2025/08/21 21:17:11 INFO dspy.teleprompt.mipro_optimizer_v2: Best full score so far: 84.0\n",
      "2025/08/21 21:17:11 INFO dspy.teleprompt.mipro_optimizer_v2: ==========================================\n",
      "\n",
      "\n",
      "2025/08/21 21:17:11 INFO dspy.teleprompt.mipro_optimizer_v2: ===== Trial 13 / 13 - Full Evaluation =====\n",
      "2025/08/21 21:17:11 INFO dspy.teleprompt.mipro_optimizer_v2: Doing full eval on next top averaging program (Avg Score: 91.43) from minibatch trials...\n"
     ]
    },
    {
     "name": "stdout",
     "output_type": "stream",
     "text": [
      "Average Metric: 89.00 / 100 (89.0%): 100%|██████████| 100/100 [00:25<00:00,  3.90it/s]"
     ]
    },
    {
     "name": "stderr",
     "output_type": "stream",
     "text": [
      "2025/08/21 21:17:37 INFO dspy.evaluate.evaluate: Average Metric: 89 / 100 (89.0%)\n"
     ]
    },
    {
     "name": "stdout",
     "output_type": "stream",
     "text": [
      "\n",
      "🏃 View run eval_full_2 at: http://127.0.0.1:8080/#/experiments/452970844726359155/runs/3ee12114f10d4e78bba72b5b4431029c\n",
      "🧪 View experiment at: http://127.0.0.1:8080/#/experiments/452970844726359155\n"
     ]
    },
    {
     "name": "stderr",
     "output_type": "stream",
     "text": [
      "2025/08/21 21:17:38 INFO dspy.teleprompt.mipro_optimizer_v2: \u001b[92mNew best full eval score!\u001b[0m Score: 89.0\n",
      "2025/08/21 21:17:38 INFO dspy.teleprompt.mipro_optimizer_v2: Full eval scores so far: [73.0, 84.0, 89.0]\n",
      "2025/08/21 21:17:38 INFO dspy.teleprompt.mipro_optimizer_v2: Best full score so far: 89.0\n",
      "2025/08/21 21:17:38 INFO dspy.teleprompt.mipro_optimizer_v2: =======================\n",
      "2025/08/21 21:17:38 INFO dspy.teleprompt.mipro_optimizer_v2: \n",
      "\n",
      "2025/08/21 21:17:38 INFO dspy.teleprompt.mipro_optimizer_v2: Returning best identified program with score 89.0!\n",
      "Downloading artifacts: 100%|██████████| 1/1 [00:00<00:00,  9.83it/s]\n"
     ]
    },
    {
     "name": "stdout",
     "output_type": "stream",
     "text": [
      "🏃 View run crawling-fawn-7 at: http://127.0.0.1:8080/#/experiments/452970844726359155/runs/fc4bedcd040a4f2ba6d5a078ee222d66\n",
      "🧪 View experiment at: http://127.0.0.1:8080/#/experiments/452970844726359155\n",
      "✅ hepatorenal classifier optimization completed!\n",
      "\n",
      "============================================================\n",
      "OPTIMIZING ONCOLOGICAL CLASSIFIER\n",
      "============================================================\n"
     ]
    },
    {
     "name": "stderr",
     "output_type": "stream",
     "text": [
      "2025/08/21 21:17:40 INFO mlflow.utils.autologging_utils: Created MLflow autologging run with ID '1c322968155d4f9cb3a59d6a08b00da8', which will track hyperparameters, performance metrics, model artifacts, and lineage information for the current dspy workflow\n",
      "2025/08/21 21:17:40 INFO dspy.teleprompt.mipro_optimizer_v2: \n",
      "RUNNING WITH THE FOLLOWING LIGHT AUTO RUN SETTINGS:\n",
      "num_trials: 10\n",
      "minibatch: True\n",
      "num_fewshot_candidates: 6\n",
      "num_instruct_candidates: 3\n",
      "valset size: 100\n",
      "\n",
      "2025/08/21 21:17:40 INFO dspy.teleprompt.mipro_optimizer_v2: \n",
      "==> STEP 1: BOOTSTRAP FEWSHOT EXAMPLES <==\n",
      "2025/08/21 21:17:40 INFO dspy.teleprompt.mipro_optimizer_v2: These will be used as few-shot example candidates for our program and for creating instructions.\n",
      "\n",
      "2025/08/21 21:17:40 INFO dspy.teleprompt.mipro_optimizer_v2: Bootstrapping N=6 sets of demonstrations...\n"
     ]
    },
    {
     "name": "stdout",
     "output_type": "stream",
     "text": [
      "Bootstrapping set 1/6\n",
      "Bootstrapping set 2/6\n",
      "Bootstrapping set 3/6\n"
     ]
    },
    {
     "name": "stderr",
     "output_type": "stream",
     "text": [
      "Downloading artifacts: 100%|██████████| 1/1 [00:00<00:00, 12.43it/s]\n",
      "  0%|          | 0/400 [00:00<?, ?it/s]/Users/ivan/Workspace/dspy-projects/dspy-biomedic-papers-classifier/.venv/lib/python3.12/site-packages/pydantic/main.py:463: UserWarning: Pydantic serializer warnings:\n",
      "  PydanticSerializationUnexpectedValue(Expected 9 fields but got 6: Expected `Message` - serialized value may not be as expected [input_value=Message(content='[[ ## is...: None}, annotations=[]), input_type=Message])\n",
      "  PydanticSerializationUnexpectedValue(Expected `StreamingChoices` - serialized value may not be as expected [input_value=Choices(finish_reason='st...ider_specific_fields={}), input_type=Choices])\n",
      "  return self.__pydantic_serializer__.to_python(\n",
      "  1%|          | 4/400 [00:04<07:46,  1.18s/it]\n"
     ]
    },
    {
     "name": "stdout",
     "output_type": "stream",
     "text": [
      "Bootstrapped 4 full traces after 4 examples for up to 1 rounds, amounting to 4 attempts.\n"
     ]
    },
    {
     "name": "stderr",
     "output_type": "stream",
     "text": [
      "Downloading artifacts: 100%|██████████| 1/1 [00:00<00:00, 12.40it/s]\n"
     ]
    },
    {
     "name": "stdout",
     "output_type": "stream",
     "text": [
      "Bootstrapping set 4/6\n"
     ]
    },
    {
     "name": "stderr",
     "output_type": "stream",
     "text": [
      "Downloading artifacts: 100%|██████████| 1/1 [00:00<00:00, 12.80it/s]\n",
      "  0%|          | 1/400 [00:01<10:10,  1.53s/it]\n"
     ]
    },
    {
     "name": "stdout",
     "output_type": "stream",
     "text": [
      "Bootstrapped 1 full traces after 1 examples for up to 1 rounds, amounting to 1 attempts.\n"
     ]
    },
    {
     "name": "stderr",
     "output_type": "stream",
     "text": [
      "Downloading artifacts: 100%|██████████| 1/1 [00:00<00:00, 12.79it/s]\n"
     ]
    },
    {
     "name": "stdout",
     "output_type": "stream",
     "text": [
      "Bootstrapping set 5/6\n"
     ]
    },
    {
     "name": "stderr",
     "output_type": "stream",
     "text": [
      "Downloading artifacts: 100%|██████████| 1/1 [00:00<00:00, 12.45it/s]\n",
      "  1%|          | 4/400 [00:05<09:12,  1.39s/it]\n"
     ]
    },
    {
     "name": "stdout",
     "output_type": "stream",
     "text": [
      "Bootstrapped 2 full traces after 4 examples for up to 1 rounds, amounting to 4 attempts.\n"
     ]
    },
    {
     "name": "stderr",
     "output_type": "stream",
     "text": [
      "Downloading artifacts: 100%|██████████| 1/1 [00:00<00:00, 12.56it/s]\n"
     ]
    },
    {
     "name": "stdout",
     "output_type": "stream",
     "text": [
      "Bootstrapping set 6/6\n"
     ]
    },
    {
     "name": "stderr",
     "output_type": "stream",
     "text": [
      "Downloading artifacts: 100%|██████████| 1/1 [00:00<00:00, 12.43it/s]\n",
      "  0%|          | 2/400 [00:01<06:17,  1.05it/s]\n"
     ]
    },
    {
     "name": "stdout",
     "output_type": "stream",
     "text": [
      "Bootstrapped 2 full traces after 2 examples for up to 1 rounds, amounting to 2 attempts.\n"
     ]
    },
    {
     "name": "stderr",
     "output_type": "stream",
     "text": [
      "Downloading artifacts: 100%|██████████| 1/1 [00:00<00:00, 12.61it/s]\n",
      "2025/08/21 21:18:01 INFO dspy.teleprompt.mipro_optimizer_v2: \n",
      "==> STEP 2: PROPOSE INSTRUCTION CANDIDATES <==\n",
      "2025/08/21 21:18:01 INFO dspy.teleprompt.mipro_optimizer_v2: We will use the few-shot examples from the previous step, a generated dataset summary, a summary of the program code, and a randomly selected prompting tip to propose instructions.\n",
      "2025/08/21 21:18:03 INFO dspy.teleprompt.mipro_optimizer_v2: \n",
      "Proposing N=3 instructions...\n",
      "\n",
      "2025/08/21 21:18:26 INFO dspy.teleprompt.mipro_optimizer_v2: Proposed Instructions for Predictor 0:\n",
      "\n",
      "2025/08/21 21:18:26 INFO dspy.teleprompt.mipro_optimizer_v2: 0: Classifies if a biomedical paper is related to oncological conditions.\n",
      "\n",
      "2025/08/21 21:18:26 INFO dspy.teleprompt.mipro_optimizer_v2: 1: Given the title and abstract of a biomedical research article, analyze the content and determine whether the article is related to oncology (the study, diagnosis, treatment, or biology of cancer). Consider explicit mentions of cancer types, tumors, carcinomas, oncological therapies, or research focused on cancer, as well as contextually relevant terminology. Respond with `Is Oncological: True` if the article is primarily about cancer or oncology, or `Is Oncological: False` if it is not.\n",
      "\n",
      "2025/08/21 21:18:26 INFO dspy.teleprompt.mipro_optimizer_v2: 2: You are assisting a medical research team conducting an urgent systematic review to identify all biomedical articles relevant to cancer for a high-impact oncology guideline update. Given the title and abstract of a research article, determine with high accuracy whether the article is focused on oncological (cancer-related) topics. If the article discusses cancer, its diagnosis, treatment, prevention, or uses cancer-specific terminology, classify it as \"Is Oncological: True\". Otherwise, classify it as \"Is Oncological: False\". Your classification will directly influence which studies are included in critical clinical recommendations, so precision is essential.\n",
      "\n",
      "2025/08/21 21:18:26 INFO dspy.teleprompt.mipro_optimizer_v2: \n",
      "\n",
      "2025/08/21 21:18:26 INFO dspy.teleprompt.mipro_optimizer_v2: ==> STEP 3: FINDING OPTIMAL PROMPT PARAMETERS <==\n",
      "2025/08/21 21:18:26 INFO dspy.teleprompt.mipro_optimizer_v2: We will evaluate the program over a series of trials with different combinations of instructions and few-shot examples to find the optimal combination using Bayesian Optimization.\n",
      "\n",
      "2025/08/21 21:18:26 INFO dspy.teleprompt.mipro_optimizer_v2: == Trial 1 / 13 - Full Evaluation of Default Program ==\n"
     ]
    },
    {
     "name": "stdout",
     "output_type": "stream",
     "text": [
      "Average Metric: 67.00 / 100 (67.0%): 100%|██████████| 100/100 [00:20<00:00,  4.90it/s]"
     ]
    },
    {
     "name": "stderr",
     "output_type": "stream",
     "text": [
      "2025/08/21 21:18:47 INFO dspy.evaluate.evaluate: Average Metric: 67 / 100 (67.0%)\n"
     ]
    },
    {
     "name": "stdout",
     "output_type": "stream",
     "text": [
      "\n",
      "🏃 View run eval_full_0 at: http://127.0.0.1:8080/#/experiments/452970844726359155/runs/24d8b396c9ac4013ae6a304bbac3e3c5\n",
      "🧪 View experiment at: http://127.0.0.1:8080/#/experiments/452970844726359155\n"
     ]
    },
    {
     "name": "stderr",
     "output_type": "stream",
     "text": [
      "2025/08/21 21:18:48 INFO dspy.teleprompt.mipro_optimizer_v2: Default program score: 67.0\n",
      "\n",
      "2025/08/21 21:18:48 INFO dspy.teleprompt.mipro_optimizer_v2: == Trial 2 / 13 - Minibatch ==\n"
     ]
    },
    {
     "name": "stdout",
     "output_type": "stream",
     "text": [
      "Average Metric: 26.00 / 35 (74.3%): 100%|██████████| 35/35 [00:11<00:00,  2.95it/s]"
     ]
    },
    {
     "name": "stderr",
     "output_type": "stream",
     "text": [
      "2025/08/21 21:19:00 INFO dspy.evaluate.evaluate: Average Metric: 26 / 35 (74.3%)\n"
     ]
    },
    {
     "name": "stdout",
     "output_type": "stream",
     "text": [
      "\n",
      "🏃 View run eval_minibatch_0 at: http://127.0.0.1:8080/#/experiments/452970844726359155/runs/386b9a7887604799b94ec12da9f1dfcf\n",
      "🧪 View experiment at: http://127.0.0.1:8080/#/experiments/452970844726359155\n"
     ]
    },
    {
     "name": "stderr",
     "output_type": "stream",
     "text": [
      "2025/08/21 21:19:02 INFO dspy.teleprompt.mipro_optimizer_v2: Score: 74.29 on minibatch of size 35 with parameters ['Predictor 0: Instruction 1', 'Predictor 0: Few-Shot Set 3'].\n",
      "2025/08/21 21:19:02 INFO dspy.teleprompt.mipro_optimizer_v2: Minibatch scores so far: [74.29]\n",
      "2025/08/21 21:19:02 INFO dspy.teleprompt.mipro_optimizer_v2: Full eval scores so far: [67.0]\n",
      "2025/08/21 21:19:02 INFO dspy.teleprompt.mipro_optimizer_v2: Best full score so far: 67.0\n",
      "2025/08/21 21:19:02 INFO dspy.teleprompt.mipro_optimizer_v2: =========================================\n",
      "\n",
      "\n",
      "2025/08/21 21:19:02 INFO dspy.teleprompt.mipro_optimizer_v2: == Trial 3 / 13 - Minibatch ==\n"
     ]
    },
    {
     "name": "stdout",
     "output_type": "stream",
     "text": [
      "Average Metric: 22.00 / 35 (62.9%): 100%|██████████| 35/35 [00:08<00:00,  3.94it/s]"
     ]
    },
    {
     "name": "stderr",
     "output_type": "stream",
     "text": [
      "2025/08/21 21:19:11 INFO dspy.evaluate.evaluate: Average Metric: 22 / 35 (62.9%)\n"
     ]
    },
    {
     "name": "stdout",
     "output_type": "stream",
     "text": [
      "\n",
      "🏃 View run eval_minibatch_1 at: http://127.0.0.1:8080/#/experiments/452970844726359155/runs/e5f5654585c043b58f658476518ee6ba\n",
      "🧪 View experiment at: http://127.0.0.1:8080/#/experiments/452970844726359155\n"
     ]
    },
    {
     "name": "stderr",
     "output_type": "stream",
     "text": [
      "2025/08/21 21:19:12 INFO dspy.teleprompt.mipro_optimizer_v2: Score: 62.86 on minibatch of size 35 with parameters ['Predictor 0: Instruction 2', 'Predictor 0: Few-Shot Set 0'].\n",
      "2025/08/21 21:19:12 INFO dspy.teleprompt.mipro_optimizer_v2: Minibatch scores so far: [74.29, 62.86]\n",
      "2025/08/21 21:19:12 INFO dspy.teleprompt.mipro_optimizer_v2: Full eval scores so far: [67.0]\n",
      "2025/08/21 21:19:12 INFO dspy.teleprompt.mipro_optimizer_v2: Best full score so far: 67.0\n",
      "2025/08/21 21:19:12 INFO dspy.teleprompt.mipro_optimizer_v2: =========================================\n",
      "\n",
      "\n",
      "2025/08/21 21:19:12 INFO dspy.teleprompt.mipro_optimizer_v2: == Trial 4 / 13 - Minibatch ==\n"
     ]
    },
    {
     "name": "stdout",
     "output_type": "stream",
     "text": [
      "Average Metric: 25.00 / 35 (71.4%): 100%|██████████| 35/35 [00:10<00:00,  3.30it/s]"
     ]
    },
    {
     "name": "stderr",
     "output_type": "stream",
     "text": [
      "2025/08/21 21:19:24 INFO dspy.evaluate.evaluate: Average Metric: 25 / 35 (71.4%)\n"
     ]
    },
    {
     "name": "stdout",
     "output_type": "stream",
     "text": [
      "\n",
      "🏃 View run eval_minibatch_2 at: http://127.0.0.1:8080/#/experiments/452970844726359155/runs/6eca5ecc36e54b50848673ac15771744\n",
      "🧪 View experiment at: http://127.0.0.1:8080/#/experiments/452970844726359155\n"
     ]
    },
    {
     "name": "stderr",
     "output_type": "stream",
     "text": [
      "2025/08/21 21:19:25 INFO dspy.teleprompt.mipro_optimizer_v2: Score: 71.43 on minibatch of size 35 with parameters ['Predictor 0: Instruction 1', 'Predictor 0: Few-Shot Set 5'].\n",
      "2025/08/21 21:19:25 INFO dspy.teleprompt.mipro_optimizer_v2: Minibatch scores so far: [74.29, 62.86, 71.43]\n",
      "2025/08/21 21:19:25 INFO dspy.teleprompt.mipro_optimizer_v2: Full eval scores so far: [67.0]\n",
      "2025/08/21 21:19:25 INFO dspy.teleprompt.mipro_optimizer_v2: Best full score so far: 67.0\n",
      "2025/08/21 21:19:25 INFO dspy.teleprompt.mipro_optimizer_v2: =========================================\n",
      "\n",
      "\n",
      "2025/08/21 21:19:25 INFO dspy.teleprompt.mipro_optimizer_v2: == Trial 5 / 13 - Minibatch ==\n"
     ]
    },
    {
     "name": "stdout",
     "output_type": "stream",
     "text": [
      "Average Metric: 23.00 / 35 (65.7%): 100%|██████████| 35/35 [00:10<00:00,  3.24it/s]"
     ]
    },
    {
     "name": "stderr",
     "output_type": "stream",
     "text": [
      "2025/08/21 21:19:36 INFO dspy.evaluate.evaluate: Average Metric: 23 / 35 (65.7%)\n"
     ]
    },
    {
     "name": "stdout",
     "output_type": "stream",
     "text": [
      "\n",
      "🏃 View run eval_minibatch_3 at: http://127.0.0.1:8080/#/experiments/452970844726359155/runs/d213761df0804680b319b49e22728bea\n",
      "🧪 View experiment at: http://127.0.0.1:8080/#/experiments/452970844726359155\n"
     ]
    },
    {
     "name": "stderr",
     "output_type": "stream",
     "text": [
      "2025/08/21 21:19:38 INFO dspy.teleprompt.mipro_optimizer_v2: Score: 65.71 on minibatch of size 35 with parameters ['Predictor 0: Instruction 2', 'Predictor 0: Few-Shot Set 2'].\n",
      "2025/08/21 21:19:38 INFO dspy.teleprompt.mipro_optimizer_v2: Minibatch scores so far: [74.29, 62.86, 71.43, 65.71]\n",
      "2025/08/21 21:19:38 INFO dspy.teleprompt.mipro_optimizer_v2: Full eval scores so far: [67.0]\n",
      "2025/08/21 21:19:38 INFO dspy.teleprompt.mipro_optimizer_v2: Best full score so far: 67.0\n",
      "2025/08/21 21:19:38 INFO dspy.teleprompt.mipro_optimizer_v2: =========================================\n",
      "\n",
      "\n",
      "2025/08/21 21:19:38 INFO dspy.teleprompt.mipro_optimizer_v2: == Trial 6 / 13 - Minibatch ==\n"
     ]
    },
    {
     "name": "stdout",
     "output_type": "stream",
     "text": [
      "Average Metric: 22.00 / 35 (62.9%): 100%|██████████| 35/35 [00:10<00:00,  3.19it/s]"
     ]
    },
    {
     "name": "stderr",
     "output_type": "stream",
     "text": [
      "2025/08/21 21:19:49 INFO dspy.evaluate.evaluate: Average Metric: 22 / 35 (62.9%)\n"
     ]
    },
    {
     "name": "stdout",
     "output_type": "stream",
     "text": [
      "\n",
      "🏃 View run eval_minibatch_4 at: http://127.0.0.1:8080/#/experiments/452970844726359155/runs/da32b252c94a4ac18a0c0f01669adddd\n",
      "🧪 View experiment at: http://127.0.0.1:8080/#/experiments/452970844726359155\n"
     ]
    },
    {
     "name": "stderr",
     "output_type": "stream",
     "text": [
      "2025/08/21 21:19:51 INFO dspy.teleprompt.mipro_optimizer_v2: Score: 62.86 on minibatch of size 35 with parameters ['Predictor 0: Instruction 0', 'Predictor 0: Few-Shot Set 5'].\n",
      "2025/08/21 21:19:51 INFO dspy.teleprompt.mipro_optimizer_v2: Minibatch scores so far: [74.29, 62.86, 71.43, 65.71, 62.86]\n",
      "2025/08/21 21:19:51 INFO dspy.teleprompt.mipro_optimizer_v2: Full eval scores so far: [67.0]\n",
      "2025/08/21 21:19:51 INFO dspy.teleprompt.mipro_optimizer_v2: Best full score so far: 67.0\n",
      "2025/08/21 21:19:51 INFO dspy.teleprompt.mipro_optimizer_v2: =========================================\n",
      "\n",
      "\n",
      "2025/08/21 21:19:51 INFO dspy.teleprompt.mipro_optimizer_v2: ===== Trial 7 / 13 - Full Evaluation =====\n",
      "2025/08/21 21:19:51 INFO dspy.teleprompt.mipro_optimizer_v2: Doing full eval on next top averaging program (Avg Score: 74.29) from minibatch trials...\n"
     ]
    },
    {
     "name": "stdout",
     "output_type": "stream",
     "text": [
      "Average Metric: 67.00 / 100 (67.0%): 100%|██████████| 100/100 [00:29<00:00,  3.34it/s]"
     ]
    },
    {
     "name": "stderr",
     "output_type": "stream",
     "text": [
      "2025/08/21 21:20:21 INFO dspy.evaluate.evaluate: Average Metric: 67 / 100 (67.0%)\n"
     ]
    },
    {
     "name": "stdout",
     "output_type": "stream",
     "text": [
      "\n",
      "🏃 View run eval_full_1 at: http://127.0.0.1:8080/#/experiments/452970844726359155/runs/736f0d144902429ca78fb6efa1a049a5\n",
      "🧪 View experiment at: http://127.0.0.1:8080/#/experiments/452970844726359155\n"
     ]
    },
    {
     "name": "stderr",
     "output_type": "stream",
     "text": [
      "2025/08/21 21:20:22 INFO dspy.teleprompt.mipro_optimizer_v2: Full eval scores so far: [67.0, 67.0]\n",
      "2025/08/21 21:20:22 INFO dspy.teleprompt.mipro_optimizer_v2: Best full score so far: 67.0\n",
      "2025/08/21 21:20:22 INFO dspy.teleprompt.mipro_optimizer_v2: =======================\n",
      "2025/08/21 21:20:22 INFO dspy.teleprompt.mipro_optimizer_v2: \n",
      "\n",
      "2025/08/21 21:20:22 INFO dspy.teleprompt.mipro_optimizer_v2: == Trial 8 / 13 - Minibatch ==\n"
     ]
    },
    {
     "name": "stdout",
     "output_type": "stream",
     "text": [
      "Average Metric: 23.00 / 35 (65.7%): 100%|██████████| 35/35 [00:07<00:00,  4.81it/s]"
     ]
    },
    {
     "name": "stderr",
     "output_type": "stream",
     "text": [
      "2025/08/21 21:20:30 INFO dspy.evaluate.evaluate: Average Metric: 23 / 35 (65.7%)\n"
     ]
    },
    {
     "name": "stdout",
     "output_type": "stream",
     "text": [
      "\n",
      "🏃 View run eval_minibatch_5 at: http://127.0.0.1:8080/#/experiments/452970844726359155/runs/8e3f7bae61434858a16432931ef0d98e\n",
      "🧪 View experiment at: http://127.0.0.1:8080/#/experiments/452970844726359155\n"
     ]
    },
    {
     "name": "stderr",
     "output_type": "stream",
     "text": [
      "2025/08/21 21:20:32 INFO dspy.teleprompt.mipro_optimizer_v2: Score: 65.71 on minibatch of size 35 with parameters ['Predictor 0: Instruction 2', 'Predictor 0: Few-Shot Set 0'].\n",
      "2025/08/21 21:20:32 INFO dspy.teleprompt.mipro_optimizer_v2: Minibatch scores so far: [74.29, 62.86, 71.43, 65.71, 62.86, 65.71]\n",
      "2025/08/21 21:20:32 INFO dspy.teleprompt.mipro_optimizer_v2: Full eval scores so far: [67.0, 67.0]\n",
      "2025/08/21 21:20:32 INFO dspy.teleprompt.mipro_optimizer_v2: Best full score so far: 67.0\n",
      "2025/08/21 21:20:32 INFO dspy.teleprompt.mipro_optimizer_v2: =========================================\n",
      "\n",
      "\n",
      "2025/08/21 21:20:32 INFO dspy.teleprompt.mipro_optimizer_v2: == Trial 9 / 13 - Minibatch ==\n"
     ]
    },
    {
     "name": "stdout",
     "output_type": "stream",
     "text": [
      "Average Metric: 17.00 / 35 (48.6%): 100%|██████████| 35/35 [00:11<00:00,  3.08it/s]"
     ]
    },
    {
     "name": "stderr",
     "output_type": "stream",
     "text": [
      "2025/08/21 21:20:44 INFO dspy.evaluate.evaluate: Average Metric: 17 / 35 (48.6%)\n"
     ]
    },
    {
     "name": "stdout",
     "output_type": "stream",
     "text": [
      "\n",
      "🏃 View run eval_minibatch_6 at: http://127.0.0.1:8080/#/experiments/452970844726359155/runs/61a7303c543f4a0f92dbd65abfe673f5\n",
      "🧪 View experiment at: http://127.0.0.1:8080/#/experiments/452970844726359155\n"
     ]
    },
    {
     "name": "stderr",
     "output_type": "stream",
     "text": [
      "2025/08/21 21:20:45 INFO dspy.teleprompt.mipro_optimizer_v2: Score: 48.57 on minibatch of size 35 with parameters ['Predictor 0: Instruction 2', 'Predictor 0: Few-Shot Set 5'].\n",
      "2025/08/21 21:20:45 INFO dspy.teleprompt.mipro_optimizer_v2: Minibatch scores so far: [74.29, 62.86, 71.43, 65.71, 62.86, 65.71, 48.57]\n",
      "2025/08/21 21:20:45 INFO dspy.teleprompt.mipro_optimizer_v2: Full eval scores so far: [67.0, 67.0]\n",
      "2025/08/21 21:20:45 INFO dspy.teleprompt.mipro_optimizer_v2: Best full score so far: 67.0\n",
      "2025/08/21 21:20:45 INFO dspy.teleprompt.mipro_optimizer_v2: =========================================\n",
      "\n",
      "\n",
      "2025/08/21 21:20:45 INFO dspy.teleprompt.mipro_optimizer_v2: == Trial 10 / 13 - Minibatch ==\n"
     ]
    },
    {
     "name": "stdout",
     "output_type": "stream",
     "text": [
      "Average Metric: 24.00 / 35 (68.6%): 100%|██████████| 35/35 [00:11<00:00,  2.99it/s]"
     ]
    },
    {
     "name": "stderr",
     "output_type": "stream",
     "text": [
      "2025/08/21 21:20:57 INFO dspy.evaluate.evaluate: Average Metric: 24 / 35 (68.6%)\n"
     ]
    },
    {
     "name": "stdout",
     "output_type": "stream",
     "text": [
      "\n",
      "🏃 View run eval_minibatch_7 at: http://127.0.0.1:8080/#/experiments/452970844726359155/runs/5fe2eb5d3ec24ca284f9afdd5c1fb004\n",
      "🧪 View experiment at: http://127.0.0.1:8080/#/experiments/452970844726359155\n"
     ]
    },
    {
     "name": "stderr",
     "output_type": "stream",
     "text": [
      "2025/08/21 21:20:59 INFO dspy.teleprompt.mipro_optimizer_v2: Score: 68.57 on minibatch of size 35 with parameters ['Predictor 0: Instruction 1', 'Predictor 0: Few-Shot Set 4'].\n",
      "2025/08/21 21:20:59 INFO dspy.teleprompt.mipro_optimizer_v2: Minibatch scores so far: [74.29, 62.86, 71.43, 65.71, 62.86, 65.71, 48.57, 68.57]\n",
      "2025/08/21 21:20:59 INFO dspy.teleprompt.mipro_optimizer_v2: Full eval scores so far: [67.0, 67.0]\n",
      "2025/08/21 21:20:59 INFO dspy.teleprompt.mipro_optimizer_v2: Best full score so far: 67.0\n",
      "2025/08/21 21:20:59 INFO dspy.teleprompt.mipro_optimizer_v2: ==========================================\n",
      "\n",
      "\n",
      "2025/08/21 21:20:59 INFO dspy.teleprompt.mipro_optimizer_v2: == Trial 11 / 13 - Minibatch ==\n"
     ]
    },
    {
     "name": "stdout",
     "output_type": "stream",
     "text": [
      "Average Metric: 24.00 / 35 (68.6%): 100%|██████████| 35/35 [00:10<00:00,  3.40it/s]"
     ]
    },
    {
     "name": "stderr",
     "output_type": "stream",
     "text": [
      "2025/08/21 21:21:10 INFO dspy.evaluate.evaluate: Average Metric: 24 / 35 (68.6%)\n"
     ]
    },
    {
     "name": "stdout",
     "output_type": "stream",
     "text": [
      "\n",
      "🏃 View run eval_minibatch_8 at: http://127.0.0.1:8080/#/experiments/452970844726359155/runs/169bd4e2c58c44f48aa947dbbfb26f38\n",
      "🧪 View experiment at: http://127.0.0.1:8080/#/experiments/452970844726359155\n"
     ]
    },
    {
     "name": "stderr",
     "output_type": "stream",
     "text": [
      "2025/08/21 21:21:11 INFO dspy.teleprompt.mipro_optimizer_v2: Score: 68.57 on minibatch of size 35 with parameters ['Predictor 0: Instruction 1', 'Predictor 0: Few-Shot Set 3'].\n",
      "2025/08/21 21:21:11 INFO dspy.teleprompt.mipro_optimizer_v2: Minibatch scores so far: [74.29, 62.86, 71.43, 65.71, 62.86, 65.71, 48.57, 68.57, 68.57]\n",
      "2025/08/21 21:21:11 INFO dspy.teleprompt.mipro_optimizer_v2: Full eval scores so far: [67.0, 67.0]\n",
      "2025/08/21 21:21:11 INFO dspy.teleprompt.mipro_optimizer_v2: Best full score so far: 67.0\n",
      "2025/08/21 21:21:11 INFO dspy.teleprompt.mipro_optimizer_v2: ==========================================\n",
      "\n",
      "\n",
      "2025/08/21 21:21:11 INFO dspy.teleprompt.mipro_optimizer_v2: == Trial 12 / 13 - Minibatch ==\n"
     ]
    },
    {
     "name": "stdout",
     "output_type": "stream",
     "text": [
      "Average Metric: 22.00 / 35 (62.9%): 100%|██████████| 35/35 [00:11<00:00,  3.00it/s]"
     ]
    },
    {
     "name": "stderr",
     "output_type": "stream",
     "text": [
      "2025/08/21 21:21:23 INFO dspy.evaluate.evaluate: Average Metric: 22 / 35 (62.9%)\n"
     ]
    },
    {
     "name": "stdout",
     "output_type": "stream",
     "text": [
      "\n",
      "🏃 View run eval_minibatch_9 at: http://127.0.0.1:8080/#/experiments/452970844726359155/runs/dbf14a85e3534275a45e3cd4efeb96f2\n",
      "🧪 View experiment at: http://127.0.0.1:8080/#/experiments/452970844726359155\n"
     ]
    },
    {
     "name": "stderr",
     "output_type": "stream",
     "text": [
      "2025/08/21 21:21:25 INFO dspy.teleprompt.mipro_optimizer_v2: Score: 62.86 on minibatch of size 35 with parameters ['Predictor 0: Instruction 1', 'Predictor 0: Few-Shot Set 5'].\n",
      "2025/08/21 21:21:25 INFO dspy.teleprompt.mipro_optimizer_v2: Minibatch scores so far: [74.29, 62.86, 71.43, 65.71, 62.86, 65.71, 48.57, 68.57, 68.57, 62.86]\n",
      "2025/08/21 21:21:25 INFO dspy.teleprompt.mipro_optimizer_v2: Full eval scores so far: [67.0, 67.0]\n",
      "2025/08/21 21:21:25 INFO dspy.teleprompt.mipro_optimizer_v2: Best full score so far: 67.0\n",
      "2025/08/21 21:21:25 INFO dspy.teleprompt.mipro_optimizer_v2: ==========================================\n",
      "\n",
      "\n",
      "2025/08/21 21:21:25 INFO dspy.teleprompt.mipro_optimizer_v2: ===== Trial 13 / 13 - Full Evaluation =====\n",
      "2025/08/21 21:21:25 INFO dspy.teleprompt.mipro_optimizer_v2: Doing full eval on next top averaging program (Avg Score: 68.57) from minibatch trials...\n"
     ]
    },
    {
     "name": "stdout",
     "output_type": "stream",
     "text": [
      "Average Metric: 61.00 / 100 (61.0%): 100%|██████████| 100/100 [00:33<00:00,  2.99it/s]"
     ]
    },
    {
     "name": "stderr",
     "output_type": "stream",
     "text": [
      "2025/08/21 21:21:59 INFO dspy.evaluate.evaluate: Average Metric: 61 / 100 (61.0%)\n"
     ]
    },
    {
     "name": "stdout",
     "output_type": "stream",
     "text": [
      "\n",
      "🏃 View run eval_full_2 at: http://127.0.0.1:8080/#/experiments/452970844726359155/runs/b0b040f6274b407fa674084403887c63\n",
      "🧪 View experiment at: http://127.0.0.1:8080/#/experiments/452970844726359155\n"
     ]
    },
    {
     "name": "stderr",
     "output_type": "stream",
     "text": [
      "2025/08/21 21:22:00 INFO dspy.teleprompt.mipro_optimizer_v2: Full eval scores so far: [67.0, 67.0, 61.0]\n",
      "2025/08/21 21:22:00 INFO dspy.teleprompt.mipro_optimizer_v2: Best full score so far: 67.0\n",
      "2025/08/21 21:22:00 INFO dspy.teleprompt.mipro_optimizer_v2: =======================\n",
      "2025/08/21 21:22:00 INFO dspy.teleprompt.mipro_optimizer_v2: \n",
      "\n",
      "2025/08/21 21:22:00 INFO dspy.teleprompt.mipro_optimizer_v2: Returning best identified program with score 67.0!\n",
      "Downloading artifacts: 100%|██████████| 1/1 [00:00<00:00,  9.07it/s]\n"
     ]
    },
    {
     "name": "stdout",
     "output_type": "stream",
     "text": [
      "🏃 View run fearless-shrimp-49 at: http://127.0.0.1:8080/#/experiments/452970844726359155/runs/1c322968155d4f9cb3a59d6a08b00da8\n",
      "🧪 View experiment at: http://127.0.0.1:8080/#/experiments/452970844726359155\n",
      "✅ oncological classifier optimization completed!\n",
      "\n",
      "============================================================\n",
      "ALL CLASSIFIERS OPTIMIZED SUCCESSFULLY!\n",
      "============================================================\n"
     ]
    },
    {
     "data": {
      "text/html": [
       "\n",
       "<div>\n",
       "  <style scoped>\n",
       "  button {\n",
       "    border: none;\n",
       "    border-radius: 4px;\n",
       "    background-color: rgb(34, 114, 180);\n",
       "    font-family: -apple-system, \"system-ui\", \"Segoe UI\", Roboto, \"Helvetica Neue\", Arial;\n",
       "    font-size: 13px;\n",
       "    color: white;\n",
       "    margin-top: 8px;\n",
       "    margin-bottom: 8px;\n",
       "    padding: 8px 16px;\n",
       "    cursor: pointer;\n",
       "  }\n",
       "  button:hover {\n",
       "    background-color: rgb(66, 153, 224);\n",
       "  }\n",
       "  </style>\n",
       "  <button\n",
       "    onclick=\"\n",
       "        const display = this.nextElementSibling.style.display;\n",
       "        const isCollapsed = display === 'none';\n",
       "        this.nextElementSibling.style.display = isCollapsed ? null : 'none';\n",
       "\n",
       "        const verb = isCollapsed ? 'Collapse' : 'Expand';\n",
       "        this.innerText = `${verb} MLflow Trace`;\n",
       "    \"\n",
       "  >Collapse MLflow Trace</button>\n",
       "  <iframe\n",
       "    id=\"trace-renderer\"\n",
       "    style=\"width: 100%; height: 500px; border: none; resize: vertical;\"\n",
       "    src=\"http://127.0.0.1:8080/static-files/lib/notebook-trace-renderer/index.html?trace_id=tr-9b532f0c9f47c266cb257b43240b7d8f&amp;experiment_id=452970844726359155&amp;trace_id=tr-639f058bd7eb90712ef23393a60a5ab9&amp;experiment_id=452970844726359155&amp;trace_id=tr-705b7832340f7a2df481ea361c0d515d&amp;experiment_id=452970844726359155&amp;trace_id=tr-ce9abb4ea89dbf413e43da2c43cdd89e&amp;experiment_id=452970844726359155&amp;trace_id=tr-c58af7c4f9ad9fe8a625148f262dbeaf&amp;experiment_id=452970844726359155&amp;trace_id=tr-c65d3fa66c044dbdfc0af54da6af437c&amp;experiment_id=452970844726359155&amp;trace_id=tr-e6bfb07a8e657cbf3b17fce8f95bc17d&amp;experiment_id=452970844726359155&amp;trace_id=tr-ae5b92907f3bf68525b8cc6a1ed0cf00&amp;experiment_id=452970844726359155&amp;trace_id=tr-7e31dca77ae9896a7a0cc592adbe301a&amp;experiment_id=452970844726359155&amp;trace_id=tr-a71a2d02dfb7e3a9e2ad5730193ba8b7&amp;experiment_id=452970844726359155&amp;version=3.3.1\"\n",
       "  />\n",
       "</div>\n"
      ],
      "text/plain": [
       "[Trace(trace_id=tr-9b532f0c9f47c266cb257b43240b7d8f), Trace(trace_id=tr-639f058bd7eb90712ef23393a60a5ab9), Trace(trace_id=tr-705b7832340f7a2df481ea361c0d515d), Trace(trace_id=tr-ce9abb4ea89dbf413e43da2c43cdd89e), Trace(trace_id=tr-c58af7c4f9ad9fe8a625148f262dbeaf), Trace(trace_id=tr-c65d3fa66c044dbdfc0af54da6af437c), Trace(trace_id=tr-e6bfb07a8e657cbf3b17fce8f95bc17d), Trace(trace_id=tr-ae5b92907f3bf68525b8cc6a1ed0cf00), Trace(trace_id=tr-7e31dca77ae9896a7a0cc592adbe301a), Trace(trace_id=tr-a71a2d02dfb7e3a9e2ad5730193ba8b7)]"
      ]
     },
     "metadata": {},
     "output_type": "display_data"
    }
   ],
   "source": [
    "# Optimize each classifier individually\n",
    "optimized_classifiers = {}\n",
    "\n",
    "for category in ['neurological', 'cardiovascular', 'hepatorenal', 'oncological']:\n",
    "    print(f\"\\n{'='*60}\")\n",
    "    print(f\"OPTIMIZING {category.upper()} CLASSIFIER\")\n",
    "    print(f\"{'='*60}\")\n",
    "    \n",
    "    optimized_classifiers[category] = optimizers[category].compile(\n",
    "        classifiers[category],\n",
    "        trainset=dspy_trainset,\n",
    "        valset=dspy_valset,\n",
    "        requires_permission_to_run=False,\n",
    "    )\n",
    "    \n",
    "    print(f\"✅ {category} classifier optimization completed!\")\n",
    "\n",
    "print(f\"\\n{'='*60}\")\n",
    "print(\"ALL CLASSIFIERS OPTIMIZED SUCCESSFULLY!\")\n",
    "print(f\"{'='*60}\")"
   ]
  },
  {
   "cell_type": "markdown",
   "id": "efb1db9f",
   "metadata": {},
   "source": [
    "### Optimized DSPy Signature"
   ]
  },
  {
   "cell_type": "code",
   "execution_count": 14,
   "id": "7cdf245d",
   "metadata": {},
   "outputs": [
    {
     "name": "stdout",
     "output_type": "stream",
     "text": [
      "Optimized Classifier Signatures:\n",
      "\n",
      "NEUROLOGICAL CLASSIFIER:\n",
      "StringSignature(title, abstract -> is_neurological\n",
      "    instructions='Given the title and abstract of a biomedical research article, determine whether the article primarily pertains to the field of neurology. Analyze the content for references to neurological systems, diseases, pathways, or concepts (such as brain, neurons, dementia, cerebrospinal fluid, or neurological mechanisms). Return `True` if the article is mainly about neurological topics, and `False` if it is not. Base your decision on both explicit mentions and contextual relevance to neurology, and avoid classifying articles as neurological if they focus on unrelated medical domains (e.g., oncology, cardiology) without clear neurological connections.'\n",
      "    title = Field(annotation=str required=True json_schema_extra={'desc': 'Title of the biomedical paper', '__dspy_field_type': 'input', 'prefix': 'Title:'})\n",
      "    abstract = Field(annotation=str required=True json_schema_extra={'desc': 'Abstract of the biomedical paper', '__dspy_field_type': 'input', 'prefix': 'Abstract:'})\n",
      "    is_neurological = Field(annotation=bool required=True json_schema_extra={'desc': 'True if the paper is related to neurological conditions', '__dspy_field_type': 'output', 'prefix': 'Is Neurological:'})\n",
      ")\n",
      "\n",
      "CARDIOVASCULAR CLASSIFIER:\n",
      "StringSignature(title, abstract -> is_cardiovascular\n",
      "    instructions='You are assisting a team of medical researchers who are conducting a rapid evidence synthesis for a new cardiovascular treatment guideline. Accurate identification of relevant literature is critical, as missing key cardiovascular studies could have serious implications for patient care. Given the title and abstract of a biomedical publication, determine with high confidence whether the paper is about cardiovascular topics (such as heart disease, blood vessels, hypertension, cardiac treatments, etc.). Respond with \"Is Cardiovascular: True\" if the publication is focused on cardiovascular medicine, or \"Is Cardiovascular: False\" if it is not. Err on the side of caution—only label as \"True\" if the evidence is clear, as false positives could compromise the integrity of the guideline.'\n",
      "    title = Field(annotation=str required=True json_schema_extra={'desc': 'Title of the biomedical paper', '__dspy_field_type': 'input', 'prefix': 'Title:'})\n",
      "    abstract = Field(annotation=str required=True json_schema_extra={'desc': 'Abstract of the biomedical paper', '__dspy_field_type': 'input', 'prefix': 'Abstract:'})\n",
      "    is_cardiovascular = Field(annotation=bool required=True json_schema_extra={'desc': 'True if the paper is related to cardiovascular conditions', '__dspy_field_type': 'output', 'prefix': 'Is Cardiovascular:'})\n",
      ")\n",
      "\n",
      "HEPATORENAL CLASSIFIER:\n",
      "StringSignature(title, abstract -> is_hepatorenal\n",
      "    instructions='Classifies if a biomedical paper is related to hepatorenal conditions.'\n",
      "    title = Field(annotation=str required=True json_schema_extra={'desc': 'Title of the biomedical paper', '__dspy_field_type': 'input', 'prefix': 'Title:'})\n",
      "    abstract = Field(annotation=str required=True json_schema_extra={'desc': 'Abstract of the biomedical paper', '__dspy_field_type': 'input', 'prefix': 'Abstract:'})\n",
      "    is_hepatorenal = Field(annotation=bool required=True json_schema_extra={'desc': 'True if the paper is related to hepatorenal conditions', '__dspy_field_type': 'output', 'prefix': 'Is Hepatorenal:'})\n",
      ")\n",
      "\n",
      "ONCOLOGICAL CLASSIFIER:\n",
      "OncologicalClassifier(title, abstract -> is_oncological\n",
      "    instructions='Classifies if a biomedical paper is related to oncological conditions.'\n",
      "    title = Field(annotation=str required=True json_schema_extra={'desc': 'Title of the biomedical paper', '__dspy_field_type': 'input', 'prefix': 'Title:'})\n",
      "    abstract = Field(annotation=str required=True json_schema_extra={'desc': 'Abstract of the biomedical paper', '__dspy_field_type': 'input', 'prefix': 'Abstract:'})\n",
      "    is_oncological = Field(annotation=bool required=True json_schema_extra={'desc': 'True if the paper is related to oncological conditions', '__dspy_field_type': 'output', 'prefix': 'Is Oncological:'})\n",
      ")\n"
     ]
    }
   ],
   "source": [
    "# Display signatures of optimized individual classifiers\n",
    "print(\"Optimized Classifier Signatures:\")\n",
    "for category, classifier in optimized_classifiers.items():\n",
    "    print(f\"\\n{category.upper()} CLASSIFIER:\")\n",
    "    try:\n",
    "        print(classifier.signature)\n",
    "    except:\n",
    "        print(f\"  - {classifier.__class__.__name__} module\")"
   ]
  },
  {
   "cell_type": "markdown",
   "id": "ed248ff5",
   "metadata": {},
   "source": [
    "### Optimized Examples (Few-shot examples)"
   ]
  },
  {
   "cell_type": "code",
   "execution_count": 15,
   "id": "d96ee33b",
   "metadata": {},
   "outputs": [
    {
     "name": "stdout",
     "output_type": "stream",
     "text": [
      "Optimized Few-shot Examples per Classifier:\n",
      "\n",
      "NEUROLOGICAL CLASSIFIER DEMOS:\n",
      "  Number of demos: 4\n",
      "  First demo: Example({'augmented': True, 'title': 'beta-blockers and heart failure: brain insights', 'abstract': 'Study design: prospective investigation of metformin in hypertension. Participants: 151 elderly patients with serotonin and hippocampal evaluation. Results: positive treatment response with neurodegenerative correlation. Conclusion: clinical practice guidelines.', 'is_neurological': True}) (input_keys=None)\n",
      "\n",
      "CARDIOVASCULAR CLASSIFIER DEMOS:\n",
      "  Number of demos: 4\n",
      "  First demo: Example({'augmented': True, 'title': 'When myeloproliferative neoplasm meets leukemia: a neurological perspective', 'abstract': 'Study design: observational investigation of statins in dementia. Participants: 404 cancer patients with myeloproliferative neoplasm and brain evaluation. Results: reduction in adverse events with targeted therapy correlation. Conclusion: need for further investigation.', 'is_cardiovascular': False}) (input_keys=None)\n",
      "\n",
      "HEPATORENAL CLASSIFIER DEMOS:\n",
      "  Number of demos: 4\n",
      "  First demo: Example({'augmented': True, 'title': 'lymphoma and ventricle: cardiac connections', 'abstract': 'Aim: To investigate ACE inhibitors effects on cancer through defibrillator analysis. Methods: 86 cardiac patients underwent cross-sectional evaluation with stenosis and deep vein thrombosis assessment. Results: better quality of life measures. Conclusion: healthcare advancement.', 'is_hepatorenal': False}) (input_keys=None)\n",
      "\n",
      "ONCOLOGICAL CLASSIFIER DEMOS:\n",
      "  Number of demos: 0\n"
     ]
    }
   ],
   "source": [
    "# Display demos for each optimized classifier\n",
    "print(\"Optimized Few-shot Examples per Classifier:\")\n",
    "for category, classifier in optimized_classifiers.items():\n",
    "    print(f\"\\n{category.upper()} CLASSIFIER DEMOS:\")\n",
    "    try:\n",
    "        demos = getattr(classifier, 'demos', [])\n",
    "        print(f\"  Number of demos: {len(demos)}\")\n",
    "        if demos:\n",
    "            print(f\"  First demo: {demos[0] if len(demos) > 0 else 'None'}\")\n",
    "    except:\n",
    "        print(f\"  No demos available\")"
   ]
  },
  {
   "cell_type": "markdown",
   "id": "85c6ed95",
   "metadata": {},
   "source": [
    "## 5. Prompt Evaluation\n",
    "\n",
    "Baseline vs optimized model performance.\n"
   ]
  },
  {
   "cell_type": "markdown",
   "id": "984bc962",
   "metadata": {},
   "source": [
    "### Evaluator"
   ]
  },
  {
   "cell_type": "code",
   "execution_count": 16,
   "id": "cc3e03c3",
   "metadata": {},
   "outputs": [],
   "source": [
    "# Create individual evaluators for each classifier\n",
    "evaluators = {}\n",
    "for category, metric in metrics.items():\n",
    "    evaluators[category] = dspy.Evaluate(\n",
    "        metric=metric,\n",
    "        devset=dspy_valset,\n",
    "        display_table=False,  # Less verbose for individual evaluations\n",
    "        display_progress=True,\n",
    "        num_threads=6,  # Reduce threads per evaluator since we run 4\n",
    "    )"
   ]
  },
  {
   "cell_type": "markdown",
   "id": "c788d237",
   "metadata": {},
   "source": [
    "### Baseline Evaluation"
   ]
  },
  {
   "cell_type": "code",
   "execution_count": 17,
   "id": "acb1d5d4",
   "metadata": {},
   "outputs": [
    {
     "name": "stdout",
     "output_type": "stream",
     "text": [
      "🔍 BASELINE CLASSIFIER EVALUATION\n",
      "==================================================\n",
      "\n",
      "📊 Evaluating neurological classifier...\n"
     ]
    },
    {
     "name": "stdout",
     "output_type": "stream",
     "text": [
      "Average Metric: 70.00 / 100 (70.0%): 100%|██████████| 100/100 [00:20<00:00,  4.94it/s]"
     ]
    },
    {
     "name": "stderr",
     "output_type": "stream",
     "text": [
      "2025/08/21 21:22:24 INFO dspy.evaluate.evaluate: Average Metric: 70 / 100 (70.0%)\n"
     ]
    },
    {
     "name": "stdout",
     "output_type": "stream",
     "text": [
      "\n",
      "🏃 View run eval at: http://127.0.0.1:8080/#/experiments/452970844726359155/runs/e65abba64fb64479aa00c2c88f9e473d\n",
      "🧪 View experiment at: http://127.0.0.1:8080/#/experiments/452970844726359155\n",
      "✅ Neurological baseline accuracy: 70.0%\n",
      "\n",
      "📊 Evaluating cardiovascular classifier...\n",
      "Average Metric: 75.00 / 100 (75.0%): 100%|██████████| 100/100 [00:20<00:00,  4.91it/s]"
     ]
    },
    {
     "name": "stderr",
     "output_type": "stream",
     "text": [
      "2025/08/21 21:22:46 INFO dspy.evaluate.evaluate: Average Metric: 75 / 100 (75.0%)\n"
     ]
    },
    {
     "name": "stdout",
     "output_type": "stream",
     "text": [
      "\n",
      "🏃 View run eval at: http://127.0.0.1:8080/#/experiments/452970844726359155/runs/d18b8df6a8df4f3bb792d960ad313954\n",
      "🧪 View experiment at: http://127.0.0.1:8080/#/experiments/452970844726359155\n",
      "✅ Cardiovascular baseline accuracy: 75.0%\n",
      "\n",
      "📊 Evaluating hepatorenal classifier...\n",
      "Average Metric: 73.00 / 100 (73.0%): 100%|██████████| 100/100 [00:20<00:00,  4.89it/s]"
     ]
    },
    {
     "name": "stderr",
     "output_type": "stream",
     "text": [
      "2025/08/21 21:23:08 INFO dspy.evaluate.evaluate: Average Metric: 73 / 100 (73.0%)\n"
     ]
    },
    {
     "name": "stdout",
     "output_type": "stream",
     "text": [
      "\n",
      "🏃 View run eval at: http://127.0.0.1:8080/#/experiments/452970844726359155/runs/3aeb693226844eceb682d70b10b7053f\n",
      "🧪 View experiment at: http://127.0.0.1:8080/#/experiments/452970844726359155\n",
      "✅ Hepatorenal baseline accuracy: 73.0%\n",
      "\n",
      "📊 Evaluating oncological classifier...\n",
      "Average Metric: 67.00 / 100 (67.0%): 100%|██████████| 100/100 [00:20<00:00,  4.89it/s]"
     ]
    },
    {
     "name": "stderr",
     "output_type": "stream",
     "text": [
      "2025/08/21 21:23:30 INFO dspy.evaluate.evaluate: Average Metric: 67 / 100 (67.0%)\n"
     ]
    },
    {
     "name": "stdout",
     "output_type": "stream",
     "text": [
      "\n",
      "🏃 View run eval at: http://127.0.0.1:8080/#/experiments/452970844726359155/runs/f597bda62b3a418db2eff6e11e4d5356\n",
      "🧪 View experiment at: http://127.0.0.1:8080/#/experiments/452970844726359155\n",
      "✅ Oncological baseline accuracy: 67.0%\n",
      "\n",
      "📈 BASELINE SUMMARY:\n",
      "  - Neurological: 70.0%\n",
      "  - Cardiovascular: 75.0%\n",
      "  - Hepatorenal: 73.0%\n",
      "  - Oncological: 67.0%\n",
      "  - Average: 71.2%\n"
     ]
    },
    {
     "data": {
      "text/html": [
       "\n",
       "<div>\n",
       "  <style scoped>\n",
       "  button {\n",
       "    border: none;\n",
       "    border-radius: 4px;\n",
       "    background-color: rgb(34, 114, 180);\n",
       "    font-family: -apple-system, \"system-ui\", \"Segoe UI\", Roboto, \"Helvetica Neue\", Arial;\n",
       "    font-size: 13px;\n",
       "    color: white;\n",
       "    margin-top: 8px;\n",
       "    margin-bottom: 8px;\n",
       "    padding: 8px 16px;\n",
       "    cursor: pointer;\n",
       "  }\n",
       "  button:hover {\n",
       "    background-color: rgb(66, 153, 224);\n",
       "  }\n",
       "  </style>\n",
       "  <button\n",
       "    onclick=\"\n",
       "        const display = this.nextElementSibling.style.display;\n",
       "        const isCollapsed = display === 'none';\n",
       "        this.nextElementSibling.style.display = isCollapsed ? null : 'none';\n",
       "\n",
       "        const verb = isCollapsed ? 'Collapse' : 'Expand';\n",
       "        this.innerText = `${verb} MLflow Trace`;\n",
       "    \"\n",
       "  >Collapse MLflow Trace</button>\n",
       "  <iframe\n",
       "    id=\"trace-renderer\"\n",
       "    style=\"width: 100%; height: 500px; border: none; resize: vertical;\"\n",
       "    src=\"http://127.0.0.1:8080/static-files/lib/notebook-trace-renderer/index.html?trace_id=tr-a1dc67864507805a863d42fbe1351fad&amp;experiment_id=452970844726359155&amp;trace_id=tr-fb9c6b3246ae81c58270316052ac80c5&amp;experiment_id=452970844726359155&amp;trace_id=tr-8e2e044531360a7abd9035f48692bf83&amp;experiment_id=452970844726359155&amp;trace_id=tr-75d6a7246089859af666071e9cf8626e&amp;experiment_id=452970844726359155&amp;trace_id=tr-726af640a5d06f0c674ea9819bd1276e&amp;experiment_id=452970844726359155&amp;trace_id=tr-760b59478e4fbad9229c650eebf27593&amp;experiment_id=452970844726359155&amp;trace_id=tr-d7c4db9b03291ae363616e7597a1bee6&amp;experiment_id=452970844726359155&amp;trace_id=tr-14bccd47ab424a7c8535544068655741&amp;experiment_id=452970844726359155&amp;trace_id=tr-1afdecbd78cb2a39ff62342fd875e627&amp;experiment_id=452970844726359155&amp;trace_id=tr-5f6d745776df48433b1296c25e707ce3&amp;experiment_id=452970844726359155&amp;version=3.3.1\"\n",
       "  />\n",
       "</div>\n"
      ],
      "text/plain": [
       "[Trace(trace_id=tr-a1dc67864507805a863d42fbe1351fad), Trace(trace_id=tr-fb9c6b3246ae81c58270316052ac80c5), Trace(trace_id=tr-8e2e044531360a7abd9035f48692bf83), Trace(trace_id=tr-75d6a7246089859af666071e9cf8626e), Trace(trace_id=tr-726af640a5d06f0c674ea9819bd1276e), Trace(trace_id=tr-760b59478e4fbad9229c650eebf27593), Trace(trace_id=tr-d7c4db9b03291ae363616e7597a1bee6), Trace(trace_id=tr-14bccd47ab424a7c8535544068655741), Trace(trace_id=tr-1afdecbd78cb2a39ff62342fd875e627), Trace(trace_id=tr-5f6d745776df48433b1296c25e707ce3)]"
      ]
     },
     "metadata": {},
     "output_type": "display_data"
    }
   ],
   "source": [
    "# Evaluate baseline classifiers individually\n",
    "print(\"🔍 BASELINE CLASSIFIER EVALUATION\")\n",
    "print(\"=\" * 50)\n",
    "\n",
    "baseline_scores = {}\n",
    "for category in ['neurological', 'cardiovascular', 'hepatorenal', 'oncological']:\n",
    "    print(f\"\\n📊 Evaluating {category} classifier...\")\n",
    "    score = evaluators[category](classifiers[category])\n",
    "    baseline_scores[category] = score.score\n",
    "    print(f\"✅ {category.capitalize()} baseline accuracy: {score.score:.1f}%\")\n",
    "\n",
    "print(f\"\\n📈 BASELINE SUMMARY:\")\n",
    "for category, score in baseline_scores.items():\n",
    "    print(f\"  - {category.capitalize()}: {score:.1f}%\")\n",
    "avg_baseline = sum(baseline_scores.values()) / len(baseline_scores)\n",
    "print(f\"  - Average: {avg_baseline:.1f}%\")"
   ]
  },
  {
   "cell_type": "markdown",
   "id": "1be2649e",
   "metadata": {},
   "source": [
    "### Optimized Prompt Evaluation"
   ]
  },
  {
   "cell_type": "code",
   "execution_count": 18,
   "id": "f22b0fc7",
   "metadata": {},
   "outputs": [
    {
     "name": "stdout",
     "output_type": "stream",
     "text": [
      "\n",
      "🚀 OPTIMIZED CLASSIFIER EVALUATION\n",
      "==================================================\n",
      "\n",
      "📊 Evaluating optimized neurological classifier...\n",
      "Average Metric: 82.00 / 100 (82.0%): 100%|██████████| 100/100 [00:32<00:00,  3.06it/s]"
     ]
    },
    {
     "name": "stderr",
     "output_type": "stream",
     "text": [
      "2025/08/21 21:24:05 INFO dspy.evaluate.evaluate: Average Metric: 82 / 100 (82.0%)\n"
     ]
    },
    {
     "name": "stdout",
     "output_type": "stream",
     "text": [
      "\n",
      "🏃 View run eval at: http://127.0.0.1:8080/#/experiments/452970844726359155/runs/9a0e632cb7074146a58e2b52038f9b98\n",
      "🧪 View experiment at: http://127.0.0.1:8080/#/experiments/452970844726359155\n",
      "✅ Neurological optimized accuracy: 82.0% (+12.0%)\n",
      "\n",
      "📊 Evaluating optimized cardiovascular classifier...\n",
      "Average Metric: 91.00 / 100 (91.0%): 100%|██████████| 100/100 [00:31<00:00,  3.15it/s]"
     ]
    },
    {
     "name": "stderr",
     "output_type": "stream",
     "text": [
      "2025/08/21 21:24:38 INFO dspy.evaluate.evaluate: Average Metric: 91 / 100 (91.0%)\n"
     ]
    },
    {
     "name": "stdout",
     "output_type": "stream",
     "text": [
      "\n",
      "🏃 View run eval at: http://127.0.0.1:8080/#/experiments/452970844726359155/runs/af4b04a7c24e4efba69468e3b3467de8\n",
      "🧪 View experiment at: http://127.0.0.1:8080/#/experiments/452970844726359155\n",
      "✅ Cardiovascular optimized accuracy: 91.0% (+16.0%)\n",
      "\n",
      "📊 Evaluating optimized hepatorenal classifier...\n",
      "Average Metric: 89.00 / 100 (89.0%): 100%|██████████| 100/100 [00:31<00:00,  3.21it/s]"
     ]
    },
    {
     "name": "stderr",
     "output_type": "stream",
     "text": [
      "2025/08/21 21:25:11 INFO dspy.evaluate.evaluate: Average Metric: 89 / 100 (89.0%)\n"
     ]
    },
    {
     "name": "stdout",
     "output_type": "stream",
     "text": [
      "\n",
      "🏃 View run eval at: http://127.0.0.1:8080/#/experiments/452970844726359155/runs/90d1b34435c8455ca3666acd76885a22\n",
      "🧪 View experiment at: http://127.0.0.1:8080/#/experiments/452970844726359155\n",
      "✅ Hepatorenal optimized accuracy: 89.0% (+16.0%)\n",
      "\n",
      "📊 Evaluating optimized oncological classifier...\n",
      "Average Metric: 67.00 / 100 (67.0%): 100%|██████████| 100/100 [00:20<00:00,  4.84it/s]"
     ]
    },
    {
     "name": "stderr",
     "output_type": "stream",
     "text": [
      "2025/08/21 21:25:33 INFO dspy.evaluate.evaluate: Average Metric: 67 / 100 (67.0%)\n"
     ]
    },
    {
     "name": "stdout",
     "output_type": "stream",
     "text": [
      "\n",
      "🏃 View run eval at: http://127.0.0.1:8080/#/experiments/452970844726359155/runs/c2fbb64e3ffb41dfa41ba3ee1329c483\n",
      "🧪 View experiment at: http://127.0.0.1:8080/#/experiments/452970844726359155\n",
      "✅ Oncological optimized accuracy: 67.0% (+0.0%)\n",
      "\n",
      "📈 OPTIMIZED SUMMARY:\n",
      "  - Neurological: 82.0% (+12.0%)\n",
      "  - Cardiovascular: 91.0% (+16.0%)\n",
      "  - Hepatorenal: 89.0% (+16.0%)\n",
      "  - Oncological: 67.0% (+0.0%)\n",
      "  - Average: 82.2% (+11.0%)\n"
     ]
    },
    {
     "data": {
      "text/html": [
       "\n",
       "<div>\n",
       "  <style scoped>\n",
       "  button {\n",
       "    border: none;\n",
       "    border-radius: 4px;\n",
       "    background-color: rgb(34, 114, 180);\n",
       "    font-family: -apple-system, \"system-ui\", \"Segoe UI\", Roboto, \"Helvetica Neue\", Arial;\n",
       "    font-size: 13px;\n",
       "    color: white;\n",
       "    margin-top: 8px;\n",
       "    margin-bottom: 8px;\n",
       "    padding: 8px 16px;\n",
       "    cursor: pointer;\n",
       "  }\n",
       "  button:hover {\n",
       "    background-color: rgb(66, 153, 224);\n",
       "  }\n",
       "  </style>\n",
       "  <button\n",
       "    onclick=\"\n",
       "        const display = this.nextElementSibling.style.display;\n",
       "        const isCollapsed = display === 'none';\n",
       "        this.nextElementSibling.style.display = isCollapsed ? null : 'none';\n",
       "\n",
       "        const verb = isCollapsed ? 'Collapse' : 'Expand';\n",
       "        this.innerText = `${verb} MLflow Trace`;\n",
       "    \"\n",
       "  >Collapse MLflow Trace</button>\n",
       "  <iframe\n",
       "    id=\"trace-renderer\"\n",
       "    style=\"width: 100%; height: 500px; border: none; resize: vertical;\"\n",
       "    src=\"http://127.0.0.1:8080/static-files/lib/notebook-trace-renderer/index.html?trace_id=tr-d151dd03df4d98f4c5d0d8beffb28d67&amp;experiment_id=452970844726359155&amp;trace_id=tr-5a661302dce0854859d345746f8afd9e&amp;experiment_id=452970844726359155&amp;trace_id=tr-2e98a00b388ae955aa618928a85e13cf&amp;experiment_id=452970844726359155&amp;trace_id=tr-dc7a256471a5f2123b0ecbd729f5c1ec&amp;experiment_id=452970844726359155&amp;trace_id=tr-ae599d937aa41515bc1fad95cedcad9f&amp;experiment_id=452970844726359155&amp;trace_id=tr-27f1b1b27deae2d13bd30d465ebd4172&amp;experiment_id=452970844726359155&amp;trace_id=tr-5fcf04adf23b61537cfeed961899cf24&amp;experiment_id=452970844726359155&amp;trace_id=tr-cb2820697a26465f89db35ea2600ae6c&amp;experiment_id=452970844726359155&amp;trace_id=tr-f5a606ab91deb92f8f5beb44ec38eecf&amp;experiment_id=452970844726359155&amp;trace_id=tr-ea464ea42a9d69be92dcd7d9c85c1ff9&amp;experiment_id=452970844726359155&amp;version=3.3.1\"\n",
       "  />\n",
       "</div>\n"
      ],
      "text/plain": [
       "[Trace(trace_id=tr-d151dd03df4d98f4c5d0d8beffb28d67), Trace(trace_id=tr-5a661302dce0854859d345746f8afd9e), Trace(trace_id=tr-2e98a00b388ae955aa618928a85e13cf), Trace(trace_id=tr-dc7a256471a5f2123b0ecbd729f5c1ec), Trace(trace_id=tr-ae599d937aa41515bc1fad95cedcad9f), Trace(trace_id=tr-27f1b1b27deae2d13bd30d465ebd4172), Trace(trace_id=tr-5fcf04adf23b61537cfeed961899cf24), Trace(trace_id=tr-cb2820697a26465f89db35ea2600ae6c), Trace(trace_id=tr-f5a606ab91deb92f8f5beb44ec38eecf), Trace(trace_id=tr-ea464ea42a9d69be92dcd7d9c85c1ff9)]"
      ]
     },
     "metadata": {},
     "output_type": "display_data"
    }
   ],
   "source": [
    "# Evaluate optimized classifiers individually \n",
    "print(\"\\n🚀 OPTIMIZED CLASSIFIER EVALUATION\")\n",
    "print(\"=\" * 50)\n",
    "\n",
    "optimized_scores = {}\n",
    "for category in ['neurological', 'cardiovascular', 'hepatorenal', 'oncological']:\n",
    "    print(f\"\\n📊 Evaluating optimized {category} classifier...\")\n",
    "    score = evaluators[category](optimized_classifiers[category])\n",
    "    optimized_scores[category] = score.score\n",
    "    improvement = score.score - baseline_scores[category]\n",
    "    print(f\"✅ {category.capitalize()} optimized accuracy: {score.score:.1f}% ({improvement:+.1f}%)\")\n",
    "\n",
    "print(f\"\\n📈 OPTIMIZED SUMMARY:\")\n",
    "for category, score in optimized_scores.items():\n",
    "    improvement = score - baseline_scores[category]\n",
    "    print(f\"  - {category.capitalize()}: {score:.1f}% ({improvement:+.1f}%)\")\n",
    "avg_optimized = sum(optimized_scores.values()) / len(optimized_scores)\n",
    "avg_improvement = avg_optimized - avg_baseline\n",
    "print(f\"  - Average: {avg_optimized:.1f}% ({avg_improvement:+.1f}%)\")"
   ]
  },
  {
   "cell_type": "markdown",
   "id": "636ba2ba",
   "metadata": {},
   "source": [
    "### Comparison"
   ]
  },
  {
   "cell_type": "code",
   "execution_count": 19,
   "id": "85698040",
   "metadata": {},
   "outputs": [
    {
     "data": {
      "image/png": "[encoded data removed]",
      "text/plain": [
       "<Figure size 1200x600 with 1 Axes>"
      ]
     },
     "metadata": {},
     "output_type": "display_data"
    }
   ],
   "source": [
    "import seaborn as sns\n",
    "import pandas as pd\n",
    "import matplotlib.pyplot as plt\n",
    "\n",
    "# Create comparison data\n",
    "comparison_data = []\n",
    "for category in ['neurological', 'cardiovascular', 'hepatorenal', 'oncological']:\n",
    "    comparison_data.append({\n",
    "        'Category': category.capitalize(),\n",
    "        'Type': 'Baseline',\n",
    "        'Accuracy': baseline_scores[category]\n",
    "    })\n",
    "    comparison_data.append({\n",
    "        'Category': category.capitalize(),\n",
    "        'Type': 'Optimized', \n",
    "        'Accuracy': optimized_scores[category]\n",
    "    })\n",
    "\n",
    "df = pd.DataFrame(comparison_data)\n",
    "\n",
    "# Create visualization\n",
    "plt.figure(figsize=(12, 6))\n",
    "ax = sns.barplot(\n",
    "    data=df,\n",
    "    x='Category',\n",
    "    y='Accuracy',\n",
    "    hue='Type',\n",
    "    palette=['#1f77b4', '#2ca02c']\n",
    ")\n",
    "\n",
    "ax.set_ylim(0, 100)\n",
    "ax.set_ylabel('Accuracy (%)')\n",
    "ax.set_title('Individual Classifier Performance: Baseline vs Optimized')\n",
    "\n",
    "# Add value labels on bars\n",
    "for container in ax.containers:\n",
    "    ax.bar_label(container, fmt='%.1f%%', fontsize=10)\n",
    "\n",
    "plt.xticks(rotation=45)\n",
    "plt.tight_layout()\n",
    "sns.despine()\n"
   ]
  },
  {
   "cell_type": "markdown",
   "id": "b373cc1a",
   "metadata": {},
   "source": [
    "## 6. Save & Load DSPy Programs"
   ]
  },
  {
   "cell_type": "markdown",
   "id": "5f1d684b",
   "metadata": {},
   "source": [
    "### Saving DSPy Programs"
   ]
  },
  {
   "cell_type": "code",
   "execution_count": null,
   "id": "d33e5a85",
   "metadata": {},
   "outputs": [
    {
     "name": "stdout",
     "output_type": "stream",
     "text": [
      "Saved neurological_classifier_base.json to programs\n",
      "Saved cardiovascular_classifier_base.json to programs\n",
      "Saved hepatorenal_classifier_base.json to programs\n",
      "Saved oncological_classifier_base.json to programs\n",
      "Saved neurological_classifier_optimized.json to programs\n",
      "Saved cardiovascular_classifier_optimized.json to programs\n",
      "Saved hepatorenal_classifier_optimized.json to programs\n",
      "Saved oncological_classifier_optimized.json to programs\n"
     ]
    }
   ],
   "source": [
    "# Save individual baseline classifiers\n",
    "for category, classifier in classifiers.items():\n",
    "    classifier.save(f\"../{PROGRAMS_FOLDER}/{category}_classifier_base.json\", save_program=False)\n",
    "    print(f\"Saved {category}_classifier_base.json to {PROGRAMS_FOLDER}\")\n",
    "\n",
    "# Save individual optimized classifiers  \n",
    "for category, classifier in optimized_classifiers.items():\n",
    "    classifier.save(f\"../{PROGRAMS_FOLDER}/{category}_classifier_optimized.json\", save_program=False)\n",
    "    print(f\"Saved {category}_classifier_optimized.json to {PROGRAMS_FOLDER}\")"
   ]
  },
  {
   "cell_type": "markdown",
   "id": "a59fcb5c",
   "metadata": {},
   "source": [
    "### Loading DSPy Programs"
   ]
  },
  {
   "cell_type": "code",
   "execution_count": 24,
   "id": "4349107c",
   "metadata": {},
   "outputs": [
    {
     "name": "stdout",
     "output_type": "stream",
     "text": [
      "✅ Created combined classifier using individually optimized models\n",
      "📝 Use individual classifiers for focused tasks or combined for full classification\n"
     ]
    },
    {
     "ename": "KeyError",
     "evalue": "'predict'",
     "output_type": "error",
     "traceback": [
      "\u001b[31m---------------------------------------------------------------------------\u001b[39m",
      "\u001b[31mKeyError\u001b[39m                                  Traceback (most recent call last)",
      "\u001b[36mCell\u001b[39m\u001b[36m \u001b[39m\u001b[32mIn[24]\u001b[39m\u001b[32m, line 45\u001b[39m\n\u001b[32m     43\u001b[39m \u001b[38;5;28;01mfor\u001b[39;00m category, signature \u001b[38;5;129;01min\u001b[39;00m signatures.items():\n\u001b[32m     44\u001b[39m     classifier = dspy.ChainOfThought(signature)\n\u001b[32m---> \u001b[39m\u001b[32m45\u001b[39m     \u001b[43mclassifier\u001b[49m\u001b[43m.\u001b[49m\u001b[43mload\u001b[49m\u001b[43m(\u001b[49m\u001b[33;43mf\u001b[39;49m\u001b[33;43m\"\u001b[39;49m\u001b[33;43m../\u001b[39;49m\u001b[38;5;132;43;01m{\u001b[39;49;00m\u001b[43mPROGRAMS_FOLDER\u001b[49m\u001b[38;5;132;43;01m}\u001b[39;49;00m\u001b[33;43m/\u001b[39;49m\u001b[38;5;132;43;01m{\u001b[39;49;00m\u001b[43mcategory\u001b[49m\u001b[38;5;132;43;01m}\u001b[39;49;00m\u001b[33;43m_classifier_base.json\u001b[39;49m\u001b[33;43m\"\u001b[39;49m\u001b[43m)\u001b[49m\n\u001b[32m     46\u001b[39m     loaded_base_classifiers[category] = classifier\n\u001b[32m     48\u001b[39m \u001b[38;5;66;03m# Load optimized classifiers\u001b[39;00m\n",
      "\u001b[36mFile \u001b[39m\u001b[32m~/Workspace/dspy-projects/dspy-biomedic-papers-classifier/.venv/lib/python3.12/site-packages/dspy/primitives/base_module.py:270\u001b[39m, in \u001b[36mBaseModule.load\u001b[39m\u001b[34m(self, path)\u001b[39m\n\u001b[32m    262\u001b[39m     \u001b[38;5;28;01mif\u001b[39;00m dependency_versions[key] != saved_version:\n\u001b[32m    263\u001b[39m         logger.warning(\n\u001b[32m    264\u001b[39m             \u001b[33mf\u001b[39m\u001b[33m\"\u001b[39m\u001b[33mThere is a mismatch of \u001b[39m\u001b[38;5;132;01m{\u001b[39;00mkey\u001b[38;5;132;01m}\u001b[39;00m\u001b[33m version between saved model and current environment. \u001b[39m\u001b[33m\"\u001b[39m\n\u001b[32m    265\u001b[39m             \u001b[33mf\u001b[39m\u001b[33m\"\u001b[39m\u001b[33mYou saved with `\u001b[39m\u001b[38;5;132;01m{\u001b[39;00mkey\u001b[38;5;132;01m}\u001b[39;00m\u001b[33m==\u001b[39m\u001b[38;5;132;01m{\u001b[39;00msaved_version\u001b[38;5;132;01m}\u001b[39;00m\u001b[33m`, but now you have \u001b[39m\u001b[33m\"\u001b[39m\n\u001b[32m   (...)\u001b[39m\u001b[32m    268\u001b[39m             \u001b[33m\"\u001b[39m\u001b[33msaving environment.\u001b[39m\u001b[33m\"\u001b[39m\n\u001b[32m    269\u001b[39m         )\n\u001b[32m--> \u001b[39m\u001b[32m270\u001b[39m \u001b[38;5;28;43mself\u001b[39;49m\u001b[43m.\u001b[49m\u001b[43mload_state\u001b[49m\u001b[43m(\u001b[49m\u001b[43mstate\u001b[49m\u001b[43m)\u001b[49m\n",
      "\u001b[36mFile \u001b[39m\u001b[32m~/Workspace/dspy-projects/dspy-biomedic-papers-classifier/.venv/lib/python3.12/site-packages/dspy/primitives/base_module.py:161\u001b[39m, in \u001b[36mBaseModule.load_state\u001b[39m\u001b[34m(self, state)\u001b[39m\n\u001b[32m    159\u001b[39m \u001b[38;5;28;01mdef\u001b[39;00m\u001b[38;5;250m \u001b[39m\u001b[34mload_state\u001b[39m(\u001b[38;5;28mself\u001b[39m, state):\n\u001b[32m    160\u001b[39m     \u001b[38;5;28;01mfor\u001b[39;00m name, param \u001b[38;5;129;01min\u001b[39;00m \u001b[38;5;28mself\u001b[39m.named_parameters():\n\u001b[32m--> \u001b[39m\u001b[32m161\u001b[39m         param.load_state(\u001b[43mstate\u001b[49m\u001b[43m[\u001b[49m\u001b[43mname\u001b[49m\u001b[43m]\u001b[49m)\n",
      "\u001b[31mKeyError\u001b[39m: 'predict'"
     ]
    }
   ],
   "source": [
    "# Combined classifier for inference (using optimized individual classifiers)\n",
    "class CombinedBiomedicClassifier:\n",
    "    def __init__(self, classifiers_dict):\n",
    "        self.classifiers = classifiers_dict\n",
    "    \n",
    "    def __call__(self, title, abstract):\n",
    "        \"\"\"Run all 4 optimized classifiers and return combined results.\"\"\"\n",
    "        results = dspy.Example()\n",
    "        \n",
    "        # Neurological\n",
    "        neuro_pred = self.classifiers['neurological'](title=title, abstract=abstract)\n",
    "        results.neurological = getattr(neuro_pred, 'is_neurological', False)\n",
    "        \n",
    "        # Cardiovascular  \n",
    "        cardio_pred = self.classifiers['cardiovascular'](title=title, abstract=abstract)\n",
    "        results.cardiovascular = getattr(cardio_pred, 'is_cardiovascular', False)\n",
    "        \n",
    "        # Hepatorenal\n",
    "        hepato_pred = self.classifiers['hepatorenal'](title=title, abstract=abstract)\n",
    "        results.hepatorenal = getattr(hepato_pred, 'is_hepatorenal', False)\n",
    "        \n",
    "        # Oncological\n",
    "        onco_pred = self.classifiers['oncological'](title=title, abstract=abstract)\n",
    "        results.oncological = getattr(onco_pred, 'is_oncological', False)\n",
    "        \n",
    "        return results\n",
    "\n",
    "# Create optimized combined classifier for easy inference\n",
    "optimized_combined_classifier = CombinedBiomedicClassifier(optimized_classifiers)\n",
    "\n",
    "print(\"✅ Created combined classifier using individually optimized models\")\n",
    "print(\"📝 Use individual classifiers for focused tasks or combined for full classification\")\n",
    "\n",
    "# Load baseline classifiers\n",
    "loaded_base_classifiers = {}\n",
    "signatures = {\n",
    "    'neurological': NeurologicalClassifier,\n",
    "    'cardiovascular': CardiovascularClassifier, \n",
    "    'hepatorenal': HepatoRenalClassifier,\n",
    "    'oncological': OncologicalClassifier\n",
    "}\n",
    "\n",
    "for category, signature in signatures.items():\n",
    "    classifier = dspy.ChainOfThought(signature)\n",
    "    classifier.load(f\"../{PROGRAMS_FOLDER}/{category}_classifier_base.json\")\n",
    "    loaded_base_classifiers[category] = classifier\n",
    "\n",
    "# Load optimized classifiers\n",
    "loaded_optimized_classifiers = {}\n",
    "for category, signature in signatures.items():\n",
    "    classifier = dspy.ChainOfThought(signature)\n",
    "    classifier.load(f\"../{PROGRAMS_FOLDER}/{category}_classifier_optimized.json\")\n",
    "    loaded_optimized_classifiers[category] = classifier\n",
    "\n",
    "# Create combined classifiers\n",
    "loaded_base_combined = CombinedBiomedicClassifier(loaded_base_classifiers)\n",
    "loaded_optimized_combined = CombinedBiomedicClassifier(loaded_optimized_classifiers)\n",
    "\n",
    "print(\"\\nSuccessfully loaded all DSPy programs:\")\n",
    "for category in signatures.keys():\n",
    "    print(f\"   - {category} baseline: {PROGRAMS_FOLDER}/{category}_classifier_base.json\")\n",
    "    print(f\"   - {category} optimized: {PROGRAMS_FOLDER}/{category}_classifier_optimized.json\")\n"
   ]
  },
  {
   "cell_type": "markdown",
   "id": "c070fbc5",
   "metadata": {},
   "source": [
    "## 📏 Contest Requirements: Weighted F1 Score & Confusion Matrix\n",
    "\n",
    "Implementation of contest evaluation metrics for biomedical papers classification.\n"
   ]
  },
  {
   "cell_type": "code",
   "execution_count": 25,
   "id": "24b5347f",
   "metadata": {},
   "outputs": [
    {
     "name": "stdout",
     "output_type": "stream",
     "text": [
      "🔄 Running predictions on validation set...\n",
      "\n",
      "📊 WEIGHTED F1 SCORES BY CATEGORY:\n",
      "==================================================\n",
      "Neurological: 0.8185\n",
      "Cardiovascular: 0.9110\n",
      "Hepatorenal: 0.8869\n",
      "Oncological: 0.7317\n",
      "\n",
      "🎯 OVERALL WEIGHTED F1 SCORE: 0.8370\n",
      "\n",
      "📈 CONFUSION MATRICES:\n",
      "==================================================\n",
      "\n",
      "NEUROLOGICAL CONFUSION MATRIX:\n",
      "       Predicted\n",
      "       F    T\n",
      "True F  48    6\n",
      "     T  12   34\n",
      "\n",
      "CARDIOVASCULAR CONFUSION MATRIX:\n",
      "       Predicted\n",
      "       F    T\n",
      "True F  62    6\n",
      "     T   3   29\n",
      "\n",
      "HEPATORENAL CONFUSION MATRIX:\n",
      "       Predicted\n",
      "       F    T\n",
      "True F  62    2\n",
      "     T   9   27\n",
      "\n",
      "ONCOLOGICAL CONFUSION MATRIX:\n",
      "       Predicted\n",
      "       F    T\n",
      "True F  58   31\n",
      "     T   2    9\n"
     ]
    },
    {
     "data": {
      "text/html": [
       "\n",
       "<div>\n",
       "  <style scoped>\n",
       "  button {\n",
       "    border: none;\n",
       "    border-radius: 4px;\n",
       "    background-color: rgb(34, 114, 180);\n",
       "    font-family: -apple-system, \"system-ui\", \"Segoe UI\", Roboto, \"Helvetica Neue\", Arial;\n",
       "    font-size: 13px;\n",
       "    color: white;\n",
       "    margin-top: 8px;\n",
       "    margin-bottom: 8px;\n",
       "    padding: 8px 16px;\n",
       "    cursor: pointer;\n",
       "  }\n",
       "  button:hover {\n",
       "    background-color: rgb(66, 153, 224);\n",
       "  }\n",
       "  </style>\n",
       "  <button\n",
       "    onclick=\"\n",
       "        const display = this.nextElementSibling.style.display;\n",
       "        const isCollapsed = display === 'none';\n",
       "        this.nextElementSibling.style.display = isCollapsed ? null : 'none';\n",
       "\n",
       "        const verb = isCollapsed ? 'Collapse' : 'Expand';\n",
       "        this.innerText = `${verb} MLflow Trace`;\n",
       "    \"\n",
       "  >Collapse MLflow Trace</button>\n",
       "  <iframe\n",
       "    id=\"trace-renderer\"\n",
       "    style=\"width: 100%; height: 500px; border: none; resize: vertical;\"\n",
       "    src=\"http://127.0.0.1:8080/static-files/lib/notebook-trace-renderer/index.html?trace_id=tr-948612cf561042205da690764d24279b&amp;experiment_id=452970844726359155&amp;trace_id=tr-4118b1b2afdb9aa4b09e299f79938174&amp;experiment_id=452970844726359155&amp;trace_id=tr-f248e8b3bfc56107811c50eaf2c3c4a3&amp;experiment_id=452970844726359155&amp;trace_id=tr-79fb8f0d728ad9ae82e58fcfe5bf534f&amp;experiment_id=452970844726359155&amp;trace_id=tr-b5d334b8cce4d822b233122ba36ade2b&amp;experiment_id=452970844726359155&amp;trace_id=tr-d6d524c04e5a23069f9921fb7b8cf2bd&amp;experiment_id=452970844726359155&amp;trace_id=tr-1a472123b2cd271c075d16f28a3cbf6e&amp;experiment_id=452970844726359155&amp;trace_id=tr-2b05118ff30573761b2943c9bed13310&amp;experiment_id=452970844726359155&amp;trace_id=tr-1f7054555ef06b3b236b0f1a3de22637&amp;experiment_id=452970844726359155&amp;trace_id=tr-b5b49c6a8af8a3cab8b2fdc7cf9e0a31&amp;experiment_id=452970844726359155&amp;version=3.3.1\"\n",
       "  />\n",
       "</div>\n"
      ],
      "text/plain": [
       "[Trace(trace_id=tr-948612cf561042205da690764d24279b), Trace(trace_id=tr-4118b1b2afdb9aa4b09e299f79938174), Trace(trace_id=tr-f248e8b3bfc56107811c50eaf2c3c4a3), Trace(trace_id=tr-79fb8f0d728ad9ae82e58fcfe5bf534f), Trace(trace_id=tr-b5d334b8cce4d822b233122ba36ade2b), Trace(trace_id=tr-d6d524c04e5a23069f9921fb7b8cf2bd), Trace(trace_id=tr-1a472123b2cd271c075d16f28a3cbf6e), Trace(trace_id=tr-2b05118ff30573761b2943c9bed13310), Trace(trace_id=tr-1f7054555ef06b3b236b0f1a3de22637), Trace(trace_id=tr-b5b49c6a8af8a3cab8b2fdc7cf9e0a31)]"
      ]
     },
     "metadata": {},
     "output_type": "display_data"
    }
   ],
   "source": [
    "from sklearn.metrics import f1_score, confusion_matrix, classification_report\n",
    "import numpy as np\n",
    "\n",
    "def evaluate_optimized_model_with_metrics(valset, classifier):\n",
    "    \"\"\"Evaluate optimized model with weighted F1 and confusion matrices\"\"\"\n",
    "    \n",
    "    # Categories\n",
    "    categories = ['neurological', 'cardiovascular', 'hepatorenal', 'oncological']\n",
    "    \n",
    "    # Collect predictions and true labels\n",
    "    y_true = {cat: [] for cat in categories}\n",
    "    y_pred = {cat: [] for cat in categories}\n",
    "    \n",
    "    print(\"🔄 Running predictions on validation set...\")\n",
    "    for i, example in enumerate(valset):\n",
    "        # Get prediction from combined classifier\n",
    "        pred = classifier(title=example.title, abstract=example.abstract)\n",
    "        \n",
    "        # Collect true and predicted values\n",
    "        for cat in categories:\n",
    "            y_true[cat].append(getattr(example, cat))\n",
    "            y_pred[cat].append(getattr(pred, cat))\n",
    "    \n",
    "    # Calculate metrics for each category\n",
    "    results = {}\n",
    "    \n",
    "    print(\"\\n📊 WEIGHTED F1 SCORES BY CATEGORY:\")\n",
    "    print(\"=\" * 50)\n",
    "    \n",
    "    for cat in categories:\n",
    "        # F1 score (weighted for binary is same as regular F1)\n",
    "        f1 = f1_score(y_true[cat], y_pred[cat], average='weighted')\n",
    "        results[f'{cat}_f1'] = f1\n",
    "        \n",
    "        print(f\"{cat.capitalize()}: {f1:.4f}\")\n",
    "    \n",
    "    # Overall weighted F1 (macro average across categories)\n",
    "    overall_f1 = np.mean([results[f'{cat}_f1'] for cat in categories])\n",
    "    results['overall_weighted_f1'] = overall_f1\n",
    "    \n",
    "    print(f\"\\n🎯 OVERALL WEIGHTED F1 SCORE: {overall_f1:.4f}\")\n",
    "    \n",
    "    # Confusion matrices\n",
    "    print(\"\\n📈 CONFUSION MATRICES:\")\n",
    "    print(\"=\" * 50)\n",
    "    \n",
    "    for cat in categories:\n",
    "        cm = confusion_matrix(y_true[cat], y_pred[cat])\n",
    "        print(f\"\\n{cat.upper()} CONFUSION MATRIX:\")\n",
    "        print(f\"       Predicted\")\n",
    "        print(f\"       F    T\")\n",
    "        print(f\"True F {cm[0,0]:3d}  {cm[0,1]:3d}\")\n",
    "        print(f\"     T {cm[1,0]:3d}  {cm[1,1]:3d}\")\n",
    "        \n",
    "        # Store confusion matrix\n",
    "        results[f'{cat}_confusion_matrix'] = cm\n",
    "    \n",
    "    return results\n",
    "\n",
    "# Run evaluation with contest metrics\n",
    "contest_results = evaluate_optimized_model_with_metrics(dspy_valset, optimized_combined_classifier)\n"
   ]
  },
  {
   "cell_type": "code",
   "execution_count": 26,
   "id": "a54ca9c0",
   "metadata": {},
   "outputs": [
    {
     "name": "stdout",
     "output_type": "stream",
     "text": [
      "============================================================\n",
      "🏆 CONTEST SUBMISSION SUMMARY\n",
      "============================================================\n",
      "✅ Overall Weighted F1 Score: 0.8370\n",
      "\n",
      "📋 Category F1 Scores:\n",
      "   • Neurological: 0.8185\n",
      "   • Cardiovascular: 0.9110\n",
      "   • Hepatorenal: 0.8869\n",
      "   • Oncological: 0.7317\n",
      "\n",
      "✅ Confusion matrices generated for all categories\n",
      "============================================================\n"
     ]
    }
   ],
   "source": [
    "# Quick access to contest results\n",
    "print(\"=\" * 60)\n",
    "print(\"🏆 CONTEST SUBMISSION SUMMARY\")\n",
    "print(\"=\" * 60)\n",
    "print(f\"✅ Overall Weighted F1 Score: {contest_results['overall_weighted_f1']:.4f}\")\n",
    "print(\"\\n📋 Category F1 Scores:\")\n",
    "for cat in ['neurological', 'cardiovascular', 'hepatorenal', 'oncological']:\n",
    "    print(f\"   • {cat.capitalize()}: {contest_results[f'{cat}_f1']:.4f}\")\n",
    "print(\"\\n✅ Confusion matrices generated for all categories\")\n",
    "print(\"=\" * 60)\n"
   ]
  }
 ],
 "metadata": {
  "kernelspec": {
   "display_name": ".venv",
   "language": "python",
   "name": "python3"
  },
  "language_info": {
   "codemirror_mode": {
    "name": "ipython",
    "version": 3
   },
   "file_extension": ".py",
   "mimetype": "text/x-python",
   "name": "python",
   "nbconvert_exporter": "python",
   "pygments_lexer": "ipython3",
   "version": "3.12.8"
  }
 },
 "nbformat": 4,
 "nbformat_minor": 5
}
